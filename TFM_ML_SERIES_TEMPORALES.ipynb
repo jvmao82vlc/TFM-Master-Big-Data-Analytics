{
 "cells": [
  {
   "cell_type": "code",
   "execution_count": 1,
   "id": "studied-heath",
   "metadata": {},
   "outputs": [],
   "source": [
    "#Imports\n",
    "import pandas as pd\n",
    "import csv\n",
    "import numpy as np\n",
    "import os\n",
    "import re\n",
    "import matplotlib.pyplot as plt\n",
    "from matplotlib.dates import DateFormatter\n",
    "import seaborn as sns\n",
    "import time\n",
    "import datetime\n",
    "import matplotlib.ticker\n",
    "import matplotlib.dates\n",
    "\n",
    "import warnings\n",
    "import itertools\n",
    "warnings.filterwarnings(\"ignore\")\n",
    "import statsmodels.api as sm\n",
    "\n",
    "from sklearn.metrics import mean_squared_error, mean_absolute_error\n",
    "from sklearn.model_selection import train_test_split\n",
    "from sklearn import metrics\n",
    "\n",
    "from sklearn.preprocessing import StandardScaler\n",
    "from sklearn.model_selection import train_test_split\n",
    "from sklearn.metrics import classification_report, confusion_matrix\n",
    "from sklearn import metrics"
   ]
  },
  {
   "cell_type": "code",
   "execution_count": 2,
   "id": "fluid-hometown",
   "metadata": {},
   "outputs": [
    {
     "data": {
      "text/html": [
       "<div>\n",
       "<style scoped>\n",
       "    .dataframe tbody tr th:only-of-type {\n",
       "        vertical-align: middle;\n",
       "    }\n",
       "\n",
       "    .dataframe tbody tr th {\n",
       "        vertical-align: top;\n",
       "    }\n",
       "\n",
       "    .dataframe thead th {\n",
       "        text-align: right;\n",
       "    }\n",
       "</style>\n",
       "<table border=\"1\" class=\"dataframe\">\n",
       "  <thead>\n",
       "    <tr style=\"text-align: right;\">\n",
       "      <th></th>\n",
       "      <th>fecha</th>\n",
       "      <th>dia_semana</th>\n",
       "      <th>hora</th>\n",
       "      <th>id_tramo</th>\n",
       "      <th>des_tramo</th>\n",
       "      <th>estado</th>\n",
       "      <th>longitud</th>\n",
       "      <th>latitud</th>\n",
       "    </tr>\n",
       "  </thead>\n",
       "  <tbody>\n",
       "    <tr>\n",
       "      <th>0</th>\n",
       "      <td>2015-01-01</td>\n",
       "      <td>Jueves</td>\n",
       "      <td>00:15:01</td>\n",
       "      <td>A102</td>\n",
       "      <td>ERNESTO FERRER</td>\n",
       "      <td>37</td>\n",
       "      <td>-0.354378</td>\n",
       "      <td>39.471478</td>\n",
       "    </tr>\n",
       "    <tr>\n",
       "      <th>1</th>\n",
       "      <td>2015-01-01</td>\n",
       "      <td>Jueves</td>\n",
       "      <td>00:15:01</td>\n",
       "      <td>A104</td>\n",
       "      <td>EUGENIA VIÑES</td>\n",
       "      <td>33</td>\n",
       "      <td>-0.325181</td>\n",
       "      <td>39.467414</td>\n",
       "    </tr>\n",
       "    <tr>\n",
       "      <th>2</th>\n",
       "      <td>2015-01-01</td>\n",
       "      <td>Jueves</td>\n",
       "      <td>00:15:01</td>\n",
       "      <td>A124</td>\n",
       "      <td>GUILLEM DE CASTRO</td>\n",
       "      <td>139</td>\n",
       "      <td>-0.383419</td>\n",
       "      <td>39.470396</td>\n",
       "    </tr>\n",
       "    <tr>\n",
       "      <th>3</th>\n",
       "      <td>2015-01-01</td>\n",
       "      <td>Jueves</td>\n",
       "      <td>00:15:01</td>\n",
       "      <td>A127</td>\n",
       "      <td>GUILLEM DE CASTRO</td>\n",
       "      <td>187</td>\n",
       "      <td>-0.384150</td>\n",
       "      <td>39.475677</td>\n",
       "    </tr>\n",
       "    <tr>\n",
       "      <th>4</th>\n",
       "      <td>2015-01-01</td>\n",
       "      <td>Jueves</td>\n",
       "      <td>00:15:01</td>\n",
       "      <td>A122</td>\n",
       "      <td>GRAN VIA RAMON Y CAJAL</td>\n",
       "      <td>218</td>\n",
       "      <td>-0.335824</td>\n",
       "      <td>39.460994</td>\n",
       "    </tr>\n",
       "  </tbody>\n",
       "</table>\n",
       "</div>"
      ],
      "text/plain": [
       "        fecha dia_semana      hora id_tramo               des_tramo  estado  \\\n",
       "0  2015-01-01     Jueves  00:15:01     A102          ERNESTO FERRER      37   \n",
       "1  2015-01-01     Jueves  00:15:01     A104           EUGENIA VIÑES      33   \n",
       "2  2015-01-01     Jueves  00:15:01     A124       GUILLEM DE CASTRO     139   \n",
       "3  2015-01-01     Jueves  00:15:01     A127       GUILLEM DE CASTRO     187   \n",
       "4  2015-01-01     Jueves  00:15:01     A122  GRAN VIA RAMON Y CAJAL     218   \n",
       "\n",
       "   longitud    latitud  \n",
       "0 -0.354378  39.471478  \n",
       "1 -0.325181  39.467414  \n",
       "2 -0.383419  39.470396  \n",
       "3 -0.384150  39.475677  \n",
       "4 -0.335824  39.460994  "
      ]
     },
     "execution_count": 2,
     "metadata": {},
     "output_type": "execute_result"
    }
   ],
   "source": [
    "#Cargamos fichero datos_filtrados.csv\n",
    "df_datos_filtrados = pd.read_csv('/../../TFM/csv_bigdata/datos_filtrados.csv', sep=';')\n",
    "df_datos_filtrados.head(5)"
   ]
  },
  {
   "cell_type": "code",
   "execution_count": 3,
   "id": "working-thought",
   "metadata": {},
   "outputs": [
    {
     "data": {
      "text/html": [
       "<div>\n",
       "<style scoped>\n",
       "    .dataframe tbody tr th:only-of-type {\n",
       "        vertical-align: middle;\n",
       "    }\n",
       "\n",
       "    .dataframe tbody tr th {\n",
       "        vertical-align: top;\n",
       "    }\n",
       "\n",
       "    .dataframe thead th {\n",
       "        text-align: right;\n",
       "    }\n",
       "</style>\n",
       "<table border=\"1\" class=\"dataframe\">\n",
       "  <thead>\n",
       "    <tr style=\"text-align: right;\">\n",
       "      <th></th>\n",
       "      <th>fecha</th>\n",
       "      <th>dia_semana</th>\n",
       "      <th>hora</th>\n",
       "      <th>id_tramo</th>\n",
       "      <th>des_tramo</th>\n",
       "      <th>estado</th>\n",
       "      <th>longitud</th>\n",
       "      <th>latitud</th>\n",
       "      <th>time</th>\n",
       "      <th>tiempo</th>\n",
       "    </tr>\n",
       "  </thead>\n",
       "  <tbody>\n",
       "    <tr>\n",
       "      <th>0</th>\n",
       "      <td>2015-01-01</td>\n",
       "      <td>Jueves</td>\n",
       "      <td>00:15:01</td>\n",
       "      <td>A102</td>\n",
       "      <td>ERNESTO FERRER</td>\n",
       "      <td>37</td>\n",
       "      <td>-0.354378</td>\n",
       "      <td>39.471478</td>\n",
       "      <td>00:15:00</td>\n",
       "      <td>2015-01-01 00:15:00</td>\n",
       "    </tr>\n",
       "    <tr>\n",
       "      <th>1</th>\n",
       "      <td>2015-01-01</td>\n",
       "      <td>Jueves</td>\n",
       "      <td>00:15:01</td>\n",
       "      <td>A104</td>\n",
       "      <td>EUGENIA VIÑES</td>\n",
       "      <td>33</td>\n",
       "      <td>-0.325181</td>\n",
       "      <td>39.467414</td>\n",
       "      <td>00:15:00</td>\n",
       "      <td>2015-01-01 00:15:00</td>\n",
       "    </tr>\n",
       "    <tr>\n",
       "      <th>2</th>\n",
       "      <td>2015-01-01</td>\n",
       "      <td>Jueves</td>\n",
       "      <td>00:15:01</td>\n",
       "      <td>A124</td>\n",
       "      <td>GUILLEM DE CASTRO</td>\n",
       "      <td>139</td>\n",
       "      <td>-0.383419</td>\n",
       "      <td>39.470396</td>\n",
       "      <td>00:15:00</td>\n",
       "      <td>2015-01-01 00:15:00</td>\n",
       "    </tr>\n",
       "    <tr>\n",
       "      <th>3</th>\n",
       "      <td>2015-01-01</td>\n",
       "      <td>Jueves</td>\n",
       "      <td>00:15:01</td>\n",
       "      <td>A127</td>\n",
       "      <td>GUILLEM DE CASTRO</td>\n",
       "      <td>187</td>\n",
       "      <td>-0.384150</td>\n",
       "      <td>39.475677</td>\n",
       "      <td>00:15:00</td>\n",
       "      <td>2015-01-01 00:15:00</td>\n",
       "    </tr>\n",
       "    <tr>\n",
       "      <th>4</th>\n",
       "      <td>2015-01-01</td>\n",
       "      <td>Jueves</td>\n",
       "      <td>00:15:01</td>\n",
       "      <td>A122</td>\n",
       "      <td>GRAN VIA RAMON Y CAJAL</td>\n",
       "      <td>218</td>\n",
       "      <td>-0.335824</td>\n",
       "      <td>39.460994</td>\n",
       "      <td>00:15:00</td>\n",
       "      <td>2015-01-01 00:15:00</td>\n",
       "    </tr>\n",
       "  </tbody>\n",
       "</table>\n",
       "</div>"
      ],
      "text/plain": [
       "        fecha dia_semana      hora id_tramo               des_tramo  estado  \\\n",
       "0  2015-01-01     Jueves  00:15:01     A102          ERNESTO FERRER      37   \n",
       "1  2015-01-01     Jueves  00:15:01     A104           EUGENIA VIÑES      33   \n",
       "2  2015-01-01     Jueves  00:15:01     A124       GUILLEM DE CASTRO     139   \n",
       "3  2015-01-01     Jueves  00:15:01     A127       GUILLEM DE CASTRO     187   \n",
       "4  2015-01-01     Jueves  00:15:01     A122  GRAN VIA RAMON Y CAJAL     218   \n",
       "\n",
       "   longitud    latitud      time              tiempo  \n",
       "0 -0.354378  39.471478  00:15:00 2015-01-01 00:15:00  \n",
       "1 -0.325181  39.467414  00:15:00 2015-01-01 00:15:00  \n",
       "2 -0.383419  39.470396  00:15:00 2015-01-01 00:15:00  \n",
       "3 -0.384150  39.475677  00:15:00 2015-01-01 00:15:00  \n",
       "4 -0.335824  39.460994  00:15:00 2015-01-01 00:15:00  "
      ]
     },
     "execution_count": 3,
     "metadata": {},
     "output_type": "execute_result"
    }
   ],
   "source": [
    "df_datos_filtrados['time'] = df_datos_filtrados['hora'].str.replace(r'[\\d:]$', '0')\n",
    "\n",
    "#Unimos columna fecha con columna hora, para crear columna tiempo\n",
    "df_datos_filtrados['tiempo'] = pd.to_datetime(df_datos_filtrados['fecha'] + ' ' + df_datos_filtrados['time'])\n",
    "\n",
    "#Cambiamos la columna tiempo a datetime\n",
    "df_datos_filtrados['tiempo'] = df_datos_filtrados['tiempo'].astype('datetime64[ns]') \n",
    "df_datos_filtrados.head(5)"
   ]
  },
  {
   "cell_type": "code",
   "execution_count": 4,
   "id": "egyptian-spotlight",
   "metadata": {},
   "outputs": [
    {
     "data": {
      "text/html": [
       "<div>\n",
       "<style scoped>\n",
       "    .dataframe tbody tr th:only-of-type {\n",
       "        vertical-align: middle;\n",
       "    }\n",
       "\n",
       "    .dataframe tbody tr th {\n",
       "        vertical-align: top;\n",
       "    }\n",
       "\n",
       "    .dataframe thead th {\n",
       "        text-align: right;\n",
       "    }\n",
       "</style>\n",
       "<table border=\"1\" class=\"dataframe\">\n",
       "  <thead>\n",
       "    <tr style=\"text-align: right;\">\n",
       "      <th></th>\n",
       "      <th>fecha</th>\n",
       "      <th>hora</th>\n",
       "      <th>id_tramo</th>\n",
       "      <th>des_tramo</th>\n",
       "      <th>estado</th>\n",
       "      <th>longitud</th>\n",
       "      <th>latitud</th>\n",
       "      <th>time</th>\n",
       "      <th>tiempo</th>\n",
       "    </tr>\n",
       "  </thead>\n",
       "  <tbody>\n",
       "    <tr>\n",
       "      <th>0</th>\n",
       "      <td>2015-01-01</td>\n",
       "      <td>00:15:01</td>\n",
       "      <td>A102</td>\n",
       "      <td>ERNESTO FERRER</td>\n",
       "      <td>37</td>\n",
       "      <td>-0.354378</td>\n",
       "      <td>39.471478</td>\n",
       "      <td>00:15:00</td>\n",
       "      <td>2015-01-01 00:15:00</td>\n",
       "    </tr>\n",
       "    <tr>\n",
       "      <th>1</th>\n",
       "      <td>2015-01-01</td>\n",
       "      <td>00:15:01</td>\n",
       "      <td>A104</td>\n",
       "      <td>EUGENIA VIÑES</td>\n",
       "      <td>33</td>\n",
       "      <td>-0.325181</td>\n",
       "      <td>39.467414</td>\n",
       "      <td>00:15:00</td>\n",
       "      <td>2015-01-01 00:15:00</td>\n",
       "    </tr>\n",
       "    <tr>\n",
       "      <th>2</th>\n",
       "      <td>2015-01-01</td>\n",
       "      <td>00:15:01</td>\n",
       "      <td>A124</td>\n",
       "      <td>GUILLEM DE CASTRO</td>\n",
       "      <td>139</td>\n",
       "      <td>-0.383419</td>\n",
       "      <td>39.470396</td>\n",
       "      <td>00:15:00</td>\n",
       "      <td>2015-01-01 00:15:00</td>\n",
       "    </tr>\n",
       "    <tr>\n",
       "      <th>3</th>\n",
       "      <td>2015-01-01</td>\n",
       "      <td>00:15:01</td>\n",
       "      <td>A127</td>\n",
       "      <td>GUILLEM DE CASTRO</td>\n",
       "      <td>187</td>\n",
       "      <td>-0.384150</td>\n",
       "      <td>39.475677</td>\n",
       "      <td>00:15:00</td>\n",
       "      <td>2015-01-01 00:15:00</td>\n",
       "    </tr>\n",
       "    <tr>\n",
       "      <th>4</th>\n",
       "      <td>2015-01-01</td>\n",
       "      <td>00:15:01</td>\n",
       "      <td>A122</td>\n",
       "      <td>GRAN VIA RAMON Y CAJAL</td>\n",
       "      <td>218</td>\n",
       "      <td>-0.335824</td>\n",
       "      <td>39.460994</td>\n",
       "      <td>00:15:00</td>\n",
       "      <td>2015-01-01 00:15:00</td>\n",
       "    </tr>\n",
       "  </tbody>\n",
       "</table>\n",
       "</div>"
      ],
      "text/plain": [
       "        fecha      hora id_tramo               des_tramo  estado  longitud  \\\n",
       "0  2015-01-01  00:15:01     A102          ERNESTO FERRER      37 -0.354378   \n",
       "1  2015-01-01  00:15:01     A104           EUGENIA VIÑES      33 -0.325181   \n",
       "2  2015-01-01  00:15:01     A124       GUILLEM DE CASTRO     139 -0.383419   \n",
       "3  2015-01-01  00:15:01     A127       GUILLEM DE CASTRO     187 -0.384150   \n",
       "4  2015-01-01  00:15:01     A122  GRAN VIA RAMON Y CAJAL     218 -0.335824   \n",
       "\n",
       "     latitud      time              tiempo  \n",
       "0  39.471478  00:15:00 2015-01-01 00:15:00  \n",
       "1  39.467414  00:15:00 2015-01-01 00:15:00  \n",
       "2  39.470396  00:15:00 2015-01-01 00:15:00  \n",
       "3  39.475677  00:15:00 2015-01-01 00:15:00  \n",
       "4  39.460994  00:15:00 2015-01-01 00:15:00  "
      ]
     },
     "execution_count": 4,
     "metadata": {},
     "output_type": "execute_result"
    }
   ],
   "source": [
    "df_datos_filtrados[['fecha','hora','id_tramo','des_tramo','estado','longitud','latitud','time','tiempo']].head(5)"
   ]
  },
  {
   "cell_type": "code",
   "execution_count": 5,
   "id": "traditional-society",
   "metadata": {},
   "outputs": [
    {
     "data": {
      "text/plain": [
       "fecha                 object\n",
       "dia_semana            object\n",
       "hora                  object\n",
       "id_tramo              object\n",
       "des_tramo             object\n",
       "estado                 int64\n",
       "longitud             float64\n",
       "latitud              float64\n",
       "time                  object\n",
       "tiempo        datetime64[ns]\n",
       "dtype: object"
      ]
     },
     "execution_count": 5,
     "metadata": {},
     "output_type": "execute_result"
    }
   ],
   "source": [
    "df_datos_filtrados.dtypes"
   ]
  },
  {
   "cell_type": "markdown",
   "id": "secure-california",
   "metadata": {},
   "source": [
    "**Media Horas - Días**"
   ]
  },
  {
   "cell_type": "code",
   "execution_count": 6,
   "id": "after-tension",
   "metadata": {},
   "outputs": [
    {
     "data": {
      "text/html": [
       "<div>\n",
       "<style scoped>\n",
       "    .dataframe tbody tr th:only-of-type {\n",
       "        vertical-align: middle;\n",
       "    }\n",
       "\n",
       "    .dataframe tbody tr th {\n",
       "        vertical-align: top;\n",
       "    }\n",
       "\n",
       "    .dataframe thead th {\n",
       "        text-align: right;\n",
       "    }\n",
       "</style>\n",
       "<table border=\"1\" class=\"dataframe\">\n",
       "  <thead>\n",
       "    <tr style=\"text-align: right;\">\n",
       "      <th></th>\n",
       "      <th>fecha</th>\n",
       "      <th>time</th>\n",
       "      <th>estado</th>\n",
       "      <th>horas</th>\n",
       "    </tr>\n",
       "  </thead>\n",
       "  <tbody>\n",
       "    <tr>\n",
       "      <th>0</th>\n",
       "      <td>2015-01-01</td>\n",
       "      <td>00:15:00</td>\n",
       "      <td>37</td>\n",
       "      <td>00:00:00</td>\n",
       "    </tr>\n",
       "    <tr>\n",
       "      <th>1</th>\n",
       "      <td>2015-01-01</td>\n",
       "      <td>00:15:00</td>\n",
       "      <td>33</td>\n",
       "      <td>00:00:00</td>\n",
       "    </tr>\n",
       "    <tr>\n",
       "      <th>2</th>\n",
       "      <td>2015-01-01</td>\n",
       "      <td>00:15:00</td>\n",
       "      <td>139</td>\n",
       "      <td>00:00:00</td>\n",
       "    </tr>\n",
       "    <tr>\n",
       "      <th>3</th>\n",
       "      <td>2015-01-01</td>\n",
       "      <td>00:15:00</td>\n",
       "      <td>187</td>\n",
       "      <td>00:00:00</td>\n",
       "    </tr>\n",
       "    <tr>\n",
       "      <th>4</th>\n",
       "      <td>2015-01-01</td>\n",
       "      <td>00:15:00</td>\n",
       "      <td>218</td>\n",
       "      <td>00:00:00</td>\n",
       "    </tr>\n",
       "  </tbody>\n",
       "</table>\n",
       "</div>"
      ],
      "text/plain": [
       "        fecha      time  estado     horas\n",
       "0  2015-01-01  00:15:00      37  00:00:00\n",
       "1  2015-01-01  00:15:00      33  00:00:00\n",
       "2  2015-01-01  00:15:00     139  00:00:00\n",
       "3  2015-01-01  00:15:00     187  00:00:00\n",
       "4  2015-01-01  00:15:00     218  00:00:00"
      ]
     },
     "execution_count": 6,
     "metadata": {},
     "output_type": "execute_result"
    }
   ],
   "source": [
    "df_media_hora_dia = df_datos_filtrados[['fecha','time','estado']]\n",
    "\n",
    "#Cambiar minutos y segundo a cero\n",
    "df_media_hora_dia['horas'] = df_media_hora_dia['time'].str.replace(r'(?<=\\d\\d:)\\d\\d:\\d\\d', '00:00')\n",
    "df_media_hora_dia.head(5)"
   ]
  },
  {
   "cell_type": "code",
   "execution_count": 7,
   "id": "front-stand",
   "metadata": {},
   "outputs": [
    {
     "data": {
      "text/html": [
       "<div>\n",
       "<style scoped>\n",
       "    .dataframe tbody tr th:only-of-type {\n",
       "        vertical-align: middle;\n",
       "    }\n",
       "\n",
       "    .dataframe tbody tr th {\n",
       "        vertical-align: top;\n",
       "    }\n",
       "\n",
       "    .dataframe thead th {\n",
       "        text-align: right;\n",
       "    }\n",
       "</style>\n",
       "<table border=\"1\" class=\"dataframe\">\n",
       "  <thead>\n",
       "    <tr style=\"text-align: right;\">\n",
       "      <th></th>\n",
       "      <th>fecha</th>\n",
       "      <th>time</th>\n",
       "      <th>estado</th>\n",
       "      <th>horas</th>\n",
       "    </tr>\n",
       "  </thead>\n",
       "  <tbody>\n",
       "    <tr>\n",
       "      <th>11899954</th>\n",
       "      <td>2015-12-31</td>\n",
       "      <td>23:00:00</td>\n",
       "      <td>12</td>\n",
       "      <td>23:00:00</td>\n",
       "    </tr>\n",
       "    <tr>\n",
       "      <th>11899955</th>\n",
       "      <td>2015-12-31</td>\n",
       "      <td>23:00:00</td>\n",
       "      <td>21</td>\n",
       "      <td>23:00:00</td>\n",
       "    </tr>\n",
       "    <tr>\n",
       "      <th>11899956</th>\n",
       "      <td>2015-12-31</td>\n",
       "      <td>23:00:00</td>\n",
       "      <td>47</td>\n",
       "      <td>23:00:00</td>\n",
       "    </tr>\n",
       "    <tr>\n",
       "      <th>11899957</th>\n",
       "      <td>2015-12-31</td>\n",
       "      <td>23:00:00</td>\n",
       "      <td>44</td>\n",
       "      <td>23:00:00</td>\n",
       "    </tr>\n",
       "    <tr>\n",
       "      <th>11899958</th>\n",
       "      <td>2015-12-31</td>\n",
       "      <td>23:00:00</td>\n",
       "      <td>38</td>\n",
       "      <td>23:00:00</td>\n",
       "    </tr>\n",
       "  </tbody>\n",
       "</table>\n",
       "</div>"
      ],
      "text/plain": [
       "               fecha      time  estado     horas\n",
       "11899954  2015-12-31  23:00:00      12  23:00:00\n",
       "11899955  2015-12-31  23:00:00      21  23:00:00\n",
       "11899956  2015-12-31  23:00:00      47  23:00:00\n",
       "11899957  2015-12-31  23:00:00      44  23:00:00\n",
       "11899958  2015-12-31  23:00:00      38  23:00:00"
      ]
     },
     "execution_count": 7,
     "metadata": {},
     "output_type": "execute_result"
    }
   ],
   "source": [
    "df_media_hora_dia.tail(5)"
   ]
  },
  {
   "cell_type": "code",
   "execution_count": 8,
   "id": "advised-works",
   "metadata": {},
   "outputs": [
    {
     "data": {
      "text/plain": [
       "fecha     0\n",
       "time      0\n",
       "estado    0\n",
       "horas     0\n",
       "dtype: int64"
      ]
     },
     "execution_count": 8,
     "metadata": {},
     "output_type": "execute_result"
    }
   ],
   "source": [
    "#Comprobamos si existe algún valor nulo en el dataframe\n",
    "df_media_hora_dia.isna().sum()"
   ]
  },
  {
   "cell_type": "code",
   "execution_count": 9,
   "id": "dried-soviet",
   "metadata": {},
   "outputs": [
    {
     "data": {
      "text/plain": [
       "fecha     object\n",
       "time      object\n",
       "estado     int64\n",
       "horas     object\n",
       "dtype: object"
      ]
     },
     "execution_count": 9,
     "metadata": {},
     "output_type": "execute_result"
    }
   ],
   "source": [
    "df_media_hora_dia.dtypes"
   ]
  },
  {
   "cell_type": "code",
   "execution_count": 10,
   "id": "urban-dryer",
   "metadata": {},
   "outputs": [
    {
     "data": {
      "text/html": [
       "<div>\n",
       "<style scoped>\n",
       "    .dataframe tbody tr th:only-of-type {\n",
       "        vertical-align: middle;\n",
       "    }\n",
       "\n",
       "    .dataframe tbody tr th {\n",
       "        vertical-align: top;\n",
       "    }\n",
       "\n",
       "    .dataframe thead th {\n",
       "        text-align: right;\n",
       "    }\n",
       "</style>\n",
       "<table border=\"1\" class=\"dataframe\">\n",
       "  <thead>\n",
       "    <tr style=\"text-align: right;\">\n",
       "      <th></th>\n",
       "      <th>fecha</th>\n",
       "      <th>horas</th>\n",
       "      <th>estado</th>\n",
       "    </tr>\n",
       "  </thead>\n",
       "  <tbody>\n",
       "    <tr>\n",
       "      <th>0</th>\n",
       "      <td>2015-01-01</td>\n",
       "      <td>00:00:00</td>\n",
       "      <td>221.141660</td>\n",
       "    </tr>\n",
       "    <tr>\n",
       "      <th>1</th>\n",
       "      <td>2015-01-01</td>\n",
       "      <td>01:00:00</td>\n",
       "      <td>668.117065</td>\n",
       "    </tr>\n",
       "    <tr>\n",
       "      <th>2</th>\n",
       "      <td>2015-01-01</td>\n",
       "      <td>02:00:00</td>\n",
       "      <td>548.699670</td>\n",
       "    </tr>\n",
       "    <tr>\n",
       "      <th>3</th>\n",
       "      <td>2015-01-01</td>\n",
       "      <td>03:00:00</td>\n",
       "      <td>421.338321</td>\n",
       "    </tr>\n",
       "    <tr>\n",
       "      <th>4</th>\n",
       "      <td>2015-01-01</td>\n",
       "      <td>04:00:00</td>\n",
       "      <td>360.711426</td>\n",
       "    </tr>\n",
       "  </tbody>\n",
       "</table>\n",
       "</div>"
      ],
      "text/plain": [
       "        fecha     horas      estado\n",
       "0  2015-01-01  00:00:00  221.141660\n",
       "1  2015-01-01  01:00:00  668.117065\n",
       "2  2015-01-01  02:00:00  548.699670\n",
       "3  2015-01-01  03:00:00  421.338321\n",
       "4  2015-01-01  04:00:00  360.711426"
      ]
     },
     "execution_count": 10,
     "metadata": {},
     "output_type": "execute_result"
    }
   ],
   "source": [
    "#Media por fecha\n",
    "df_media_hora_dia = df_media_hora_dia.groupby(['fecha','horas']).estado.mean()\\\n",
    "                    .to_frame().reset_index()\n",
    "\n",
    "df_media_red = df_media_hora_dia[df_media_hora_dia['estado'] < 3256.5] #valor anómalo\n",
    "\n",
    "df_media_red.head(5)"
   ]
  },
  {
   "cell_type": "code",
   "execution_count": 11,
   "id": "associate-financing",
   "metadata": {},
   "outputs": [
    {
     "data": {
      "text/html": [
       "<div>\n",
       "<style scoped>\n",
       "    .dataframe tbody tr th:only-of-type {\n",
       "        vertical-align: middle;\n",
       "    }\n",
       "\n",
       "    .dataframe tbody tr th {\n",
       "        vertical-align: top;\n",
       "    }\n",
       "\n",
       "    .dataframe thead th {\n",
       "        text-align: right;\n",
       "    }\n",
       "</style>\n",
       "<table border=\"1\" class=\"dataframe\">\n",
       "  <thead>\n",
       "    <tr style=\"text-align: right;\">\n",
       "      <th></th>\n",
       "      <th>fecha</th>\n",
       "      <th>horas</th>\n",
       "      <th>estado</th>\n",
       "      <th>tiempo</th>\n",
       "    </tr>\n",
       "  </thead>\n",
       "  <tbody>\n",
       "    <tr>\n",
       "      <th>0</th>\n",
       "      <td>2015-01-01</td>\n",
       "      <td>00:00:00</td>\n",
       "      <td>221.141660</td>\n",
       "      <td>2015-01-01 00:00:00</td>\n",
       "    </tr>\n",
       "    <tr>\n",
       "      <th>1</th>\n",
       "      <td>2015-01-01</td>\n",
       "      <td>01:00:00</td>\n",
       "      <td>668.117065</td>\n",
       "      <td>2015-01-01 01:00:00</td>\n",
       "    </tr>\n",
       "    <tr>\n",
       "      <th>2</th>\n",
       "      <td>2015-01-01</td>\n",
       "      <td>02:00:00</td>\n",
       "      <td>548.699670</td>\n",
       "      <td>2015-01-01 02:00:00</td>\n",
       "    </tr>\n",
       "    <tr>\n",
       "      <th>3</th>\n",
       "      <td>2015-01-01</td>\n",
       "      <td>03:00:00</td>\n",
       "      <td>421.338321</td>\n",
       "      <td>2015-01-01 03:00:00</td>\n",
       "    </tr>\n",
       "    <tr>\n",
       "      <th>4</th>\n",
       "      <td>2015-01-01</td>\n",
       "      <td>04:00:00</td>\n",
       "      <td>360.711426</td>\n",
       "      <td>2015-01-01 04:00:00</td>\n",
       "    </tr>\n",
       "  </tbody>\n",
       "</table>\n",
       "</div>"
      ],
      "text/plain": [
       "        fecha     horas      estado              tiempo\n",
       "0  2015-01-01  00:00:00  221.141660 2015-01-01 00:00:00\n",
       "1  2015-01-01  01:00:00  668.117065 2015-01-01 01:00:00\n",
       "2  2015-01-01  02:00:00  548.699670 2015-01-01 02:00:00\n",
       "3  2015-01-01  03:00:00  421.338321 2015-01-01 03:00:00\n",
       "4  2015-01-01  04:00:00  360.711426 2015-01-01 04:00:00"
      ]
     },
     "execution_count": 11,
     "metadata": {},
     "output_type": "execute_result"
    }
   ],
   "source": [
    "#Unimos columna fecha con columna hora, para crear columna tiempo\n",
    "df_media_red['tiempo'] = pd.to_datetime(df_media_red['fecha'] + ' ' + df_media_red['horas'])\n",
    "\n",
    "#Cambiamos la columna tiempo a datetime\n",
    "df_media_red['tiempo'] = df_media_red['tiempo'].astype('datetime64[ns]') \n",
    "\n",
    "df_media_red.head(5)"
   ]
  },
  {
   "cell_type": "code",
   "execution_count": 12,
   "id": "hindu-voluntary",
   "metadata": {},
   "outputs": [
    {
     "data": {
      "text/plain": [
       "fecha             object\n",
       "horas             object\n",
       "estado           float64\n",
       "tiempo    datetime64[ns]\n",
       "dtype: object"
      ]
     },
     "execution_count": 12,
     "metadata": {},
     "output_type": "execute_result"
    }
   ],
   "source": [
    "df_media_red.dtypes"
   ]
  },
  {
   "cell_type": "code",
   "execution_count": 13,
   "id": "plain-secretariat",
   "metadata": {},
   "outputs": [
    {
     "data": {
      "text/plain": [
       "fecha     7882\n",
       "horas     7882\n",
       "estado    7882\n",
       "tiempo    7882\n",
       "dtype: int64"
      ]
     },
     "execution_count": 13,
     "metadata": {},
     "output_type": "execute_result"
    }
   ],
   "source": [
    "df_media_red.count()"
   ]
  },
  {
   "cell_type": "code",
   "execution_count": 14,
   "id": "measured-approval",
   "metadata": {},
   "outputs": [
    {
     "name": "stdout",
     "output_type": "stream",
     "text": [
      "Total Filas:  7882\n"
     ]
    }
   ],
   "source": [
    "print('Total Filas: ',df_media_red.shape[0])"
   ]
  },
  {
   "cell_type": "code",
   "execution_count": 15,
   "id": "humanitarian-arctic",
   "metadata": {},
   "outputs": [
    {
     "data": {
      "text/html": [
       "<div>\n",
       "<style scoped>\n",
       "    .dataframe tbody tr th:only-of-type {\n",
       "        vertical-align: middle;\n",
       "    }\n",
       "\n",
       "    .dataframe tbody tr th {\n",
       "        vertical-align: top;\n",
       "    }\n",
       "\n",
       "    .dataframe thead th {\n",
       "        text-align: right;\n",
       "    }\n",
       "</style>\n",
       "<table border=\"1\" class=\"dataframe\">\n",
       "  <thead>\n",
       "    <tr style=\"text-align: right;\">\n",
       "      <th></th>\n",
       "      <th>date</th>\n",
       "      <th>fecha</th>\n",
       "      <th>horas</th>\n",
       "      <th>estado</th>\n",
       "      <th>tiempo</th>\n",
       "    </tr>\n",
       "  </thead>\n",
       "  <tbody>\n",
       "    <tr>\n",
       "      <th>0</th>\n",
       "      <td>1</td>\n",
       "      <td>2015-01-01</td>\n",
       "      <td>00:00:00</td>\n",
       "      <td>221.141660</td>\n",
       "      <td>2015-01-01 00:00:00</td>\n",
       "    </tr>\n",
       "    <tr>\n",
       "      <th>1</th>\n",
       "      <td>2</td>\n",
       "      <td>2015-01-01</td>\n",
       "      <td>01:00:00</td>\n",
       "      <td>668.117065</td>\n",
       "      <td>2015-01-01 01:00:00</td>\n",
       "    </tr>\n",
       "    <tr>\n",
       "      <th>2</th>\n",
       "      <td>3</td>\n",
       "      <td>2015-01-01</td>\n",
       "      <td>02:00:00</td>\n",
       "      <td>548.699670</td>\n",
       "      <td>2015-01-01 02:00:00</td>\n",
       "    </tr>\n",
       "    <tr>\n",
       "      <th>3</th>\n",
       "      <td>4</td>\n",
       "      <td>2015-01-01</td>\n",
       "      <td>03:00:00</td>\n",
       "      <td>421.338321</td>\n",
       "      <td>2015-01-01 03:00:00</td>\n",
       "    </tr>\n",
       "    <tr>\n",
       "      <th>4</th>\n",
       "      <td>5</td>\n",
       "      <td>2015-01-01</td>\n",
       "      <td>04:00:00</td>\n",
       "      <td>360.711426</td>\n",
       "      <td>2015-01-01 04:00:00</td>\n",
       "    </tr>\n",
       "    <tr>\n",
       "      <th>...</th>\n",
       "      <td>...</td>\n",
       "      <td>...</td>\n",
       "      <td>...</td>\n",
       "      <td>...</td>\n",
       "      <td>...</td>\n",
       "    </tr>\n",
       "    <tr>\n",
       "      <th>7897</th>\n",
       "      <td>7878</td>\n",
       "      <td>2015-12-31</td>\n",
       "      <td>16:00:00</td>\n",
       "      <td>774.577558</td>\n",
       "      <td>2015-12-31 16:00:00</td>\n",
       "    </tr>\n",
       "    <tr>\n",
       "      <th>7898</th>\n",
       "      <td>7879</td>\n",
       "      <td>2015-12-31</td>\n",
       "      <td>17:00:00</td>\n",
       "      <td>782.537461</td>\n",
       "      <td>2015-12-31 17:00:00</td>\n",
       "    </tr>\n",
       "    <tr>\n",
       "      <th>7899</th>\n",
       "      <td>7880</td>\n",
       "      <td>2015-12-31</td>\n",
       "      <td>18:00:00</td>\n",
       "      <td>801.316049</td>\n",
       "      <td>2015-12-31 18:00:00</td>\n",
       "    </tr>\n",
       "    <tr>\n",
       "      <th>7900</th>\n",
       "      <td>7881</td>\n",
       "      <td>2015-12-31</td>\n",
       "      <td>22:00:00</td>\n",
       "      <td>336.165557</td>\n",
       "      <td>2015-12-31 22:00:00</td>\n",
       "    </tr>\n",
       "    <tr>\n",
       "      <th>7901</th>\n",
       "      <td>7882</td>\n",
       "      <td>2015-12-31</td>\n",
       "      <td>23:00:00</td>\n",
       "      <td>217.633838</td>\n",
       "      <td>2015-12-31 23:00:00</td>\n",
       "    </tr>\n",
       "  </tbody>\n",
       "</table>\n",
       "<p>7882 rows × 5 columns</p>\n",
       "</div>"
      ],
      "text/plain": [
       "      date       fecha     horas      estado              tiempo\n",
       "0        1  2015-01-01  00:00:00  221.141660 2015-01-01 00:00:00\n",
       "1        2  2015-01-01  01:00:00  668.117065 2015-01-01 01:00:00\n",
       "2        3  2015-01-01  02:00:00  548.699670 2015-01-01 02:00:00\n",
       "3        4  2015-01-01  03:00:00  421.338321 2015-01-01 03:00:00\n",
       "4        5  2015-01-01  04:00:00  360.711426 2015-01-01 04:00:00\n",
       "...    ...         ...       ...         ...                 ...\n",
       "7897  7878  2015-12-31  16:00:00  774.577558 2015-12-31 16:00:00\n",
       "7898  7879  2015-12-31  17:00:00  782.537461 2015-12-31 17:00:00\n",
       "7899  7880  2015-12-31  18:00:00  801.316049 2015-12-31 18:00:00\n",
       "7900  7881  2015-12-31  22:00:00  336.165557 2015-12-31 22:00:00\n",
       "7901  7882  2015-12-31  23:00:00  217.633838 2015-12-31 23:00:00\n",
       "\n",
       "[7882 rows x 5 columns]"
      ]
     },
     "execution_count": 15,
     "metadata": {},
     "output_type": "execute_result"
    }
   ],
   "source": [
    "df_media_red.insert(loc=0, column='date', value=np.arange(len(df_media_red))+1)\n",
    "df_media_red"
   ]
  },
  {
   "cell_type": "code",
   "execution_count": 16,
   "id": "modern-alias",
   "metadata": {},
   "outputs": [
    {
     "data": {
      "text/html": [
       "<div>\n",
       "<style scoped>\n",
       "    .dataframe tbody tr th:only-of-type {\n",
       "        vertical-align: middle;\n",
       "    }\n",
       "\n",
       "    .dataframe tbody tr th {\n",
       "        vertical-align: top;\n",
       "    }\n",
       "\n",
       "    .dataframe thead th {\n",
       "        text-align: right;\n",
       "    }\n",
       "</style>\n",
       "<table border=\"1\" class=\"dataframe\">\n",
       "  <thead>\n",
       "    <tr style=\"text-align: right;\">\n",
       "      <th></th>\n",
       "      <th>tiempo</th>\n",
       "      <th>estado</th>\n",
       "    </tr>\n",
       "  </thead>\n",
       "  <tbody>\n",
       "    <tr>\n",
       "      <th>0</th>\n",
       "      <td>2015-01-01 00:00:00</td>\n",
       "      <td>221.141660</td>\n",
       "    </tr>\n",
       "    <tr>\n",
       "      <th>1</th>\n",
       "      <td>2015-01-01 01:00:00</td>\n",
       "      <td>668.117065</td>\n",
       "    </tr>\n",
       "    <tr>\n",
       "      <th>2</th>\n",
       "      <td>2015-01-01 02:00:00</td>\n",
       "      <td>548.699670</td>\n",
       "    </tr>\n",
       "    <tr>\n",
       "      <th>3</th>\n",
       "      <td>2015-01-01 03:00:00</td>\n",
       "      <td>421.338321</td>\n",
       "    </tr>\n",
       "    <tr>\n",
       "      <th>4</th>\n",
       "      <td>2015-01-01 04:00:00</td>\n",
       "      <td>360.711426</td>\n",
       "    </tr>\n",
       "  </tbody>\n",
       "</table>\n",
       "</div>"
      ],
      "text/plain": [
       "               tiempo      estado\n",
       "0 2015-01-01 00:00:00  221.141660\n",
       "1 2015-01-01 01:00:00  668.117065\n",
       "2 2015-01-01 02:00:00  548.699670\n",
       "3 2015-01-01 03:00:00  421.338321\n",
       "4 2015-01-01 04:00:00  360.711426"
      ]
     },
     "execution_count": 16,
     "metadata": {},
     "output_type": "execute_result"
    }
   ],
   "source": [
    "df_media_red[['tiempo','estado']].head(5)"
   ]
  },
  {
   "cell_type": "code",
   "execution_count": 17,
   "id": "behavioral-georgia",
   "metadata": {},
   "outputs": [
    {
     "data": {
      "text/html": [
       "<div>\n",
       "<style scoped>\n",
       "    .dataframe tbody tr th:only-of-type {\n",
       "        vertical-align: middle;\n",
       "    }\n",
       "\n",
       "    .dataframe tbody tr th {\n",
       "        vertical-align: top;\n",
       "    }\n",
       "\n",
       "    .dataframe thead th {\n",
       "        text-align: right;\n",
       "    }\n",
       "</style>\n",
       "<table border=\"1\" class=\"dataframe\">\n",
       "  <thead>\n",
       "    <tr style=\"text-align: right;\">\n",
       "      <th></th>\n",
       "      <th>tiempo</th>\n",
       "      <th>date</th>\n",
       "      <th>estado</th>\n",
       "    </tr>\n",
       "  </thead>\n",
       "  <tbody>\n",
       "    <tr>\n",
       "      <th>0</th>\n",
       "      <td>2015-01-01 00:00:00</td>\n",
       "      <td>1</td>\n",
       "      <td>221.141660</td>\n",
       "    </tr>\n",
       "    <tr>\n",
       "      <th>1</th>\n",
       "      <td>2015-01-01 01:00:00</td>\n",
       "      <td>2</td>\n",
       "      <td>668.117065</td>\n",
       "    </tr>\n",
       "    <tr>\n",
       "      <th>2</th>\n",
       "      <td>2015-01-01 02:00:00</td>\n",
       "      <td>3</td>\n",
       "      <td>548.699670</td>\n",
       "    </tr>\n",
       "    <tr>\n",
       "      <th>3</th>\n",
       "      <td>2015-01-01 03:00:00</td>\n",
       "      <td>4</td>\n",
       "      <td>421.338321</td>\n",
       "    </tr>\n",
       "    <tr>\n",
       "      <th>4</th>\n",
       "      <td>2015-01-01 04:00:00</td>\n",
       "      <td>5</td>\n",
       "      <td>360.711426</td>\n",
       "    </tr>\n",
       "  </tbody>\n",
       "</table>\n",
       "</div>"
      ],
      "text/plain": [
       "               tiempo  date      estado\n",
       "0 2015-01-01 00:00:00     1  221.141660\n",
       "1 2015-01-01 01:00:00     2  668.117065\n",
       "2 2015-01-01 02:00:00     3  548.699670\n",
       "3 2015-01-01 03:00:00     4  421.338321\n",
       "4 2015-01-01 04:00:00     5  360.711426"
      ]
     },
     "execution_count": 17,
     "metadata": {},
     "output_type": "execute_result"
    }
   ],
   "source": [
    "df_media_red[['tiempo','date','estado']].head(5)"
   ]
  },
  {
   "cell_type": "code",
   "execution_count": 18,
   "id": "broken-cement",
   "metadata": {},
   "outputs": [
    {
     "data": {
      "text/plain": [
       "tiempo    7882\n",
       "date      7882\n",
       "estado    7882\n",
       "dtype: int64"
      ]
     },
     "execution_count": 18,
     "metadata": {},
     "output_type": "execute_result"
    }
   ],
   "source": [
    "df_media_red[['tiempo','date','estado']].count()"
   ]
  },
  {
   "cell_type": "code",
   "execution_count": 19,
   "id": "standing-harmony",
   "metadata": {},
   "outputs": [
    {
     "data": {
      "text/plain": [
       "tiempo    datetime64[ns]\n",
       "date               int64\n",
       "estado           float64\n",
       "dtype: object"
      ]
     },
     "execution_count": 19,
     "metadata": {},
     "output_type": "execute_result"
    }
   ],
   "source": [
    "df_media_red[['tiempo','date','estado']].dtypes"
   ]
  },
  {
   "cell_type": "markdown",
   "id": "creative-dimension",
   "metadata": {},
   "source": [
    "**Gráfico** "
   ]
  },
  {
   "cell_type": "code",
   "execution_count": 20,
   "id": "hybrid-upper",
   "metadata": {},
   "outputs": [
    {
     "data": {
      "text/html": [
       "<div>\n",
       "<style scoped>\n",
       "    .dataframe tbody tr th:only-of-type {\n",
       "        vertical-align: middle;\n",
       "    }\n",
       "\n",
       "    .dataframe tbody tr th {\n",
       "        vertical-align: top;\n",
       "    }\n",
       "\n",
       "    .dataframe thead th {\n",
       "        text-align: right;\n",
       "    }\n",
       "</style>\n",
       "<table border=\"1\" class=\"dataframe\">\n",
       "  <thead>\n",
       "    <tr style=\"text-align: right;\">\n",
       "      <th></th>\n",
       "      <th>estado</th>\n",
       "    </tr>\n",
       "    <tr>\n",
       "      <th>tiempo</th>\n",
       "      <th></th>\n",
       "    </tr>\n",
       "  </thead>\n",
       "  <tbody>\n",
       "    <tr>\n",
       "      <th>2015-01-01 00:00:00</th>\n",
       "      <td>221.141660</td>\n",
       "    </tr>\n",
       "    <tr>\n",
       "      <th>2015-01-01 01:00:00</th>\n",
       "      <td>668.117065</td>\n",
       "    </tr>\n",
       "    <tr>\n",
       "      <th>2015-01-01 02:00:00</th>\n",
       "      <td>548.699670</td>\n",
       "    </tr>\n",
       "    <tr>\n",
       "      <th>2015-01-01 03:00:00</th>\n",
       "      <td>421.338321</td>\n",
       "    </tr>\n",
       "    <tr>\n",
       "      <th>2015-01-01 04:00:00</th>\n",
       "      <td>360.711426</td>\n",
       "    </tr>\n",
       "  </tbody>\n",
       "</table>\n",
       "</div>"
      ],
      "text/plain": [
       "                         estado\n",
       "tiempo                         \n",
       "2015-01-01 00:00:00  221.141660\n",
       "2015-01-01 01:00:00  668.117065\n",
       "2015-01-01 02:00:00  548.699670\n",
       "2015-01-01 03:00:00  421.338321\n",
       "2015-01-01 04:00:00  360.711426"
      ]
     },
     "execution_count": 20,
     "metadata": {},
     "output_type": "execute_result"
    }
   ],
   "source": [
    "df_plot = df_media_red[['tiempo','estado']]\n",
    "df_plot.set_index('tiempo',inplace=True)\n",
    "df_plot.head(5)"
   ]
  },
  {
   "cell_type": "code",
   "execution_count": 21,
   "id": "suspected-scientist",
   "metadata": {},
   "outputs": [
    {
     "data": {
      "text/plain": [
       "[Text(0.5, 1.0, 'Media Tráfico 2015')]"
      ]
     },
     "execution_count": 21,
     "metadata": {},
     "output_type": "execute_result"
    },
    {
     "data": {
      "image/png": "[encoded data removed]",
      "text/plain": [
       "<Figure size 936x576 with 1 Axes>"
      ]
     },
     "metadata": {},
     "output_type": "display_data"
    }
   ],
   "source": [
    "#df_plot.plot(figsize=(16, 8))\n",
    "#plt.margins(x=0,y=0)\n",
    "#plt.show()\n",
    "\n",
    "sns.set_theme(style='darkgrid')\n",
    "plt.figure(figsize=(13, 8))\n",
    "plt.margins(x=0,y=0)\n",
    "sns.lineplot(x ='tiempo',y='estado',data=df_plot).set(title='Media Tráfico 2015')"
   ]
  },
  {
   "cell_type": "markdown",
   "id": "arbitrary-payment",
   "metadata": {},
   "source": [
    "**Media Timestamp Días**"
   ]
  },
  {
   "cell_type": "code",
   "execution_count": 22,
   "id": "designed-recruitment",
   "metadata": {},
   "outputs": [
    {
     "ename": "ValueError",
     "evalue": "invalid literal for int() with base 10: '00:15:00'",
     "output_type": "error",
     "traceback": [
      "\u001b[0;31m---------------------------------------------------------------------------\u001b[0m",
      "\u001b[0;31mValueError\u001b[0m                                Traceback (most recent call last)",
      "\u001b[0;32m<ipython-input-22-a15c78e141af>\u001b[0m in \u001b[0;36m<module>\u001b[0;34m\u001b[0m\n\u001b[1;32m      2\u001b[0m \u001b[0;34m\u001b[0m\u001b[0m\n\u001b[1;32m      3\u001b[0m \u001b[0;31m#Convertimos los valores de tiempo a timestamp, de esta forma pasan a numéricos\u001b[0m\u001b[0;34m\u001b[0m\u001b[0;34m\u001b[0m\u001b[0;34m\u001b[0m\u001b[0m\n\u001b[0;32m----> 4\u001b[0;31m \u001b[0mdf_media_timestamp_dia\u001b[0m\u001b[0;34m[\u001b[0m\u001b[0;34m'timestamp'\u001b[0m\u001b[0;34m]\u001b[0m \u001b[0;34m=\u001b[0m \u001b[0mdf_media_timestamp_dia\u001b[0m\u001b[0;34m[\u001b[0m\u001b[0;34m'time'\u001b[0m\u001b[0;34m]\u001b[0m\u001b[0;34m.\u001b[0m\u001b[0mvalues\u001b[0m\u001b[0;34m.\u001b[0m\u001b[0mastype\u001b[0m\u001b[0;34m(\u001b[0m\u001b[0mnp\u001b[0m\u001b[0;34m.\u001b[0m\u001b[0mint64\u001b[0m\u001b[0;34m)\u001b[0m \u001b[0;34m//\u001b[0m \u001b[0;36m10\u001b[0m \u001b[0;34m**\u001b[0m \u001b[0;36m9\u001b[0m\u001b[0;34m\u001b[0m\u001b[0;34m\u001b[0m\u001b[0m\n\u001b[0m\u001b[1;32m      5\u001b[0m \u001b[0mdf_media_timestamp_dia\u001b[0m\u001b[0;34m.\u001b[0m\u001b[0mhead\u001b[0m\u001b[0;34m(\u001b[0m\u001b[0;36m5\u001b[0m\u001b[0;34m)\u001b[0m\u001b[0;34m\u001b[0m\u001b[0;34m\u001b[0m\u001b[0m\n",
      "\u001b[0;31mValueError\u001b[0m: invalid literal for int() with base 10: '00:15:00'"
     ]
    }
   ],
   "source": [
    "df_media_timestamp_dia = df_datos_filtrados[['fecha','time','estado']]\n",
    "\n",
    "#Convertimos los valores de tiempo a timestamp, de esta forma pasan a numéricos\n",
    "df_media_timestamp_dia['timestamp'] = df_media_timestamp_dia['time'].values.astype(np.int64) // 10 ** 9\n",
    "df_media_timestamp_dia.head(5)"
   ]
  },
  {
   "cell_type": "code",
   "execution_count": 9,
   "id": "handmade-verification",
   "metadata": {},
   "outputs": [
    {
     "data": {
      "text/html": [
       "<div>\n",
       "<style scoped>\n",
       "    .dataframe tbody tr th:only-of-type {\n",
       "        vertical-align: middle;\n",
       "    }\n",
       "\n",
       "    .dataframe tbody tr th {\n",
       "        vertical-align: top;\n",
       "    }\n",
       "\n",
       "    .dataframe thead th {\n",
       "        text-align: right;\n",
       "    }\n",
       "</style>\n",
       "<table border=\"1\" class=\"dataframe\">\n",
       "  <thead>\n",
       "    <tr style=\"text-align: right;\">\n",
       "      <th></th>\n",
       "      <th>fecha</th>\n",
       "      <th>timestamp</th>\n",
       "      <th>tiempo</th>\n",
       "      <th>estado</th>\n",
       "    </tr>\n",
       "  </thead>\n",
       "  <tbody>\n",
       "    <tr>\n",
       "      <th>0</th>\n",
       "      <td>2015-01-01</td>\n",
       "      <td>1420071300</td>\n",
       "      <td>2015-01-01 00:15:00</td>\n",
       "      <td>99</td>\n",
       "    </tr>\n",
       "    <tr>\n",
       "      <th>1</th>\n",
       "      <td>2015-01-01</td>\n",
       "      <td>1420072200</td>\n",
       "      <td>2015-01-01 00:30:00</td>\n",
       "      <td>280</td>\n",
       "    </tr>\n",
       "    <tr>\n",
       "      <th>2</th>\n",
       "      <td>2015-01-01</td>\n",
       "      <td>1420073100</td>\n",
       "      <td>2015-01-01 00:45:00</td>\n",
       "      <td>280</td>\n",
       "    </tr>\n",
       "    <tr>\n",
       "      <th>3</th>\n",
       "      <td>2015-01-01</td>\n",
       "      <td>1420074900</td>\n",
       "      <td>2015-01-01 01:15:00</td>\n",
       "      <td>663</td>\n",
       "    </tr>\n",
       "    <tr>\n",
       "      <th>4</th>\n",
       "      <td>2015-01-01</td>\n",
       "      <td>1420075800</td>\n",
       "      <td>2015-01-01 01:30:00</td>\n",
       "      <td>694</td>\n",
       "    </tr>\n",
       "  </tbody>\n",
       "</table>\n",
       "</div>"
      ],
      "text/plain": [
       "        fecha   timestamp              tiempo  estado\n",
       "0  2015-01-01  1420071300 2015-01-01 00:15:00      99\n",
       "1  2015-01-01  1420072200 2015-01-01 00:30:00     280\n",
       "2  2015-01-01  1420073100 2015-01-01 00:45:00     280\n",
       "3  2015-01-01  1420074900 2015-01-01 01:15:00     663\n",
       "4  2015-01-01  1420075800 2015-01-01 01:30:00     694"
      ]
     },
     "execution_count": 9,
     "metadata": {},
     "output_type": "execute_result"
    }
   ],
   "source": [
    "#Media por fecha\n",
    "df_media_timestamp_dia = df_media_timestamp_dia.groupby(['fecha','timestamp','tiempo']).estado.mean()\\\n",
    "                        .astype(np.int32).to_frame().reset_index()\n",
    "\n",
    "df_media_timestamp_dia.head(5)"
   ]
  },
  {
   "cell_type": "code",
   "execution_count": 10,
   "id": "smoking-spread",
   "metadata": {},
   "outputs": [
    {
     "data": {
      "text/html": [
       "<div>\n",
       "<style scoped>\n",
       "    .dataframe tbody tr th:only-of-type {\n",
       "        vertical-align: middle;\n",
       "    }\n",
       "\n",
       "    .dataframe tbody tr th {\n",
       "        vertical-align: top;\n",
       "    }\n",
       "\n",
       "    .dataframe thead th {\n",
       "        text-align: right;\n",
       "    }\n",
       "</style>\n",
       "<table border=\"1\" class=\"dataframe\">\n",
       "  <thead>\n",
       "    <tr style=\"text-align: right;\">\n",
       "      <th></th>\n",
       "      <th>fecha</th>\n",
       "      <th>timestamp</th>\n",
       "      <th>tiempo</th>\n",
       "      <th>estado</th>\n",
       "    </tr>\n",
       "  </thead>\n",
       "  <tbody>\n",
       "    <tr>\n",
       "      <th>29644</th>\n",
       "      <td>2015-12-31</td>\n",
       "      <td>1451584800</td>\n",
       "      <td>2015-12-31 18:00:00</td>\n",
       "      <td>801</td>\n",
       "    </tr>\n",
       "    <tr>\n",
       "      <th>29645</th>\n",
       "      <td>2015-12-31</td>\n",
       "      <td>1451600100</td>\n",
       "      <td>2015-12-31 22:15:00</td>\n",
       "      <td>430</td>\n",
       "    </tr>\n",
       "    <tr>\n",
       "      <th>29646</th>\n",
       "      <td>2015-12-31</td>\n",
       "      <td>1451601000</td>\n",
       "      <td>2015-12-31 22:30:00</td>\n",
       "      <td>319</td>\n",
       "    </tr>\n",
       "    <tr>\n",
       "      <th>29647</th>\n",
       "      <td>2015-12-31</td>\n",
       "      <td>1451601900</td>\n",
       "      <td>2015-12-31 22:45:00</td>\n",
       "      <td>257</td>\n",
       "    </tr>\n",
       "    <tr>\n",
       "      <th>29648</th>\n",
       "      <td>2015-12-31</td>\n",
       "      <td>1451602800</td>\n",
       "      <td>2015-12-31 23:00:00</td>\n",
       "      <td>217</td>\n",
       "    </tr>\n",
       "  </tbody>\n",
       "</table>\n",
       "</div>"
      ],
      "text/plain": [
       "            fecha   timestamp              tiempo  estado\n",
       "29644  2015-12-31  1451584800 2015-12-31 18:00:00     801\n",
       "29645  2015-12-31  1451600100 2015-12-31 22:15:00     430\n",
       "29646  2015-12-31  1451601000 2015-12-31 22:30:00     319\n",
       "29647  2015-12-31  1451601900 2015-12-31 22:45:00     257\n",
       "29648  2015-12-31  1451602800 2015-12-31 23:00:00     217"
      ]
     },
     "execution_count": 10,
     "metadata": {},
     "output_type": "execute_result"
    }
   ],
   "source": [
    "df_media_timestamp_dia.tail(5)"
   ]
  },
  {
   "cell_type": "code",
   "execution_count": 11,
   "id": "discrete-garden",
   "metadata": {},
   "outputs": [
    {
     "data": {
      "text/plain": [
       "fecha        29649\n",
       "timestamp    29649\n",
       "tiempo       29649\n",
       "estado       29649\n",
       "dtype: int64"
      ]
     },
     "execution_count": 11,
     "metadata": {},
     "output_type": "execute_result"
    }
   ],
   "source": [
    "df_media_timestamp_dia.count()"
   ]
  },
  {
   "cell_type": "code",
   "execution_count": 13,
   "id": "informative-cinema",
   "metadata": {},
   "outputs": [
    {
     "name": "stdout",
     "output_type": "stream",
     "text": [
      "2015-01-01 01:15:00\n"
     ]
    }
   ],
   "source": [
    "ts = datetime.datetime.fromtimestamp(1420071300)\n",
    "print(ts.strftime('%Y-%m-%d %H:%M:%S'))"
   ]
  },
  {
   "cell_type": "code",
   "execution_count": 14,
   "id": "adequate-fossil",
   "metadata": {},
   "outputs": [
    {
     "name": "stdout",
     "output_type": "stream",
     "text": [
      "Inicio Train:  1420067700.0\n",
      "Fin Train   :  1443649500.0\n",
      "Inicio Test :  1443650400.0\n"
     ]
    }
   ],
   "source": [
    "ts_train_start = datetime.datetime.strptime('2015-01-01 00:15:00', '%Y-%m-%d %H:%M:%S').timestamp()\n",
    "ts_train_end = datetime.datetime.strptime('2015-09-30 23:45:00', '%Y-%m-%d %H:%M:%S').timestamp()\n",
    "ts_test_start = datetime.datetime.strptime('2015-10-01 00:00:00', '%Y-%m-%d %H:%M:%S').timestamp()\n",
    "print('Inicio Train: ',ts_train_start)\n",
    "print('Fin Train   : ',ts_train_end)\n",
    "print('Inicio Test : ',ts_test_start)"
   ]
  },
  {
   "cell_type": "code",
   "execution_count": 15,
   "id": "loaded-agreement",
   "metadata": {},
   "outputs": [
    {
     "name": "stdout",
     "output_type": "stream",
     "text": [
      "1475272800.0\n"
     ]
    }
   ],
   "source": [
    "ts_pred = datetime.datetime.strptime('2016-10-01 00:00:00', '%Y-%m-%d %H:%M:%S').timestamp()\n",
    "print(ts_pred)"
   ]
  },
  {
   "cell_type": "code",
   "execution_count": 22,
   "id": "actual-transition",
   "metadata": {},
   "outputs": [
    {
     "data": {
      "text/html": [
       "<div>\n",
       "<style scoped>\n",
       "    .dataframe tbody tr th:only-of-type {\n",
       "        vertical-align: middle;\n",
       "    }\n",
       "\n",
       "    .dataframe tbody tr th {\n",
       "        vertical-align: top;\n",
       "    }\n",
       "\n",
       "    .dataframe thead th {\n",
       "        text-align: right;\n",
       "    }\n",
       "</style>\n",
       "<table border=\"1\" class=\"dataframe\">\n",
       "  <thead>\n",
       "    <tr style=\"text-align: right;\">\n",
       "      <th></th>\n",
       "      <th>Fecha</th>\n",
       "    </tr>\n",
       "  </thead>\n",
       "  <tbody>\n",
       "    <tr>\n",
       "      <th>2016-01-01 00:00:00</th>\n",
       "      <td>2016-01-01 00:00:00</td>\n",
       "    </tr>\n",
       "    <tr>\n",
       "      <th>2016-01-01 01:00:00</th>\n",
       "      <td>2016-01-01 01:00:00</td>\n",
       "    </tr>\n",
       "    <tr>\n",
       "      <th>2016-01-01 02:00:00</th>\n",
       "      <td>2016-01-01 02:00:00</td>\n",
       "    </tr>\n",
       "    <tr>\n",
       "      <th>2016-01-01 03:00:00</th>\n",
       "      <td>2016-01-01 03:00:00</td>\n",
       "    </tr>\n",
       "    <tr>\n",
       "      <th>2016-01-01 04:00:00</th>\n",
       "      <td>2016-01-01 04:00:00</td>\n",
       "    </tr>\n",
       "    <tr>\n",
       "      <th>2016-01-01 05:00:00</th>\n",
       "      <td>2016-01-01 05:00:00</td>\n",
       "    </tr>\n",
       "    <tr>\n",
       "      <th>2016-01-01 06:00:00</th>\n",
       "      <td>2016-01-01 06:00:00</td>\n",
       "    </tr>\n",
       "    <tr>\n",
       "      <th>2016-01-01 07:00:00</th>\n",
       "      <td>2016-01-01 07:00:00</td>\n",
       "    </tr>\n",
       "    <tr>\n",
       "      <th>2016-01-01 08:00:00</th>\n",
       "      <td>2016-01-01 08:00:00</td>\n",
       "    </tr>\n",
       "    <tr>\n",
       "      <th>2016-01-01 09:00:00</th>\n",
       "      <td>2016-01-01 09:00:00</td>\n",
       "    </tr>\n",
       "    <tr>\n",
       "      <th>2016-01-01 10:00:00</th>\n",
       "      <td>2016-01-01 10:00:00</td>\n",
       "    </tr>\n",
       "    <tr>\n",
       "      <th>2016-01-01 11:00:00</th>\n",
       "      <td>2016-01-01 11:00:00</td>\n",
       "    </tr>\n",
       "    <tr>\n",
       "      <th>2016-01-01 12:00:00</th>\n",
       "      <td>2016-01-01 12:00:00</td>\n",
       "    </tr>\n",
       "    <tr>\n",
       "      <th>2016-01-01 13:00:00</th>\n",
       "      <td>2016-01-01 13:00:00</td>\n",
       "    </tr>\n",
       "    <tr>\n",
       "      <th>2016-01-01 14:00:00</th>\n",
       "      <td>2016-01-01 14:00:00</td>\n",
       "    </tr>\n",
       "    <tr>\n",
       "      <th>2016-01-01 15:00:00</th>\n",
       "      <td>2016-01-01 15:00:00</td>\n",
       "    </tr>\n",
       "    <tr>\n",
       "      <th>2016-01-01 16:00:00</th>\n",
       "      <td>2016-01-01 16:00:00</td>\n",
       "    </tr>\n",
       "    <tr>\n",
       "      <th>2016-01-01 17:00:00</th>\n",
       "      <td>2016-01-01 17:00:00</td>\n",
       "    </tr>\n",
       "    <tr>\n",
       "      <th>2016-01-01 18:00:00</th>\n",
       "      <td>2016-01-01 18:00:00</td>\n",
       "    </tr>\n",
       "    <tr>\n",
       "      <th>2016-01-01 19:00:00</th>\n",
       "      <td>2016-01-01 19:00:00</td>\n",
       "    </tr>\n",
       "    <tr>\n",
       "      <th>2016-01-01 20:00:00</th>\n",
       "      <td>2016-01-01 20:00:00</td>\n",
       "    </tr>\n",
       "    <tr>\n",
       "      <th>2016-01-01 21:00:00</th>\n",
       "      <td>2016-01-01 21:00:00</td>\n",
       "    </tr>\n",
       "    <tr>\n",
       "      <th>2016-01-01 22:00:00</th>\n",
       "      <td>2016-01-01 22:00:00</td>\n",
       "    </tr>\n",
       "    <tr>\n",
       "      <th>2016-01-01 23:00:00</th>\n",
       "      <td>2016-01-01 23:00:00</td>\n",
       "    </tr>\n",
       "  </tbody>\n",
       "</table>\n",
       "</div>"
      ],
      "text/plain": [
       "                                  Fecha\n",
       "2016-01-01 00:00:00 2016-01-01 00:00:00\n",
       "2016-01-01 01:00:00 2016-01-01 01:00:00\n",
       "2016-01-01 02:00:00 2016-01-01 02:00:00\n",
       "2016-01-01 03:00:00 2016-01-01 03:00:00\n",
       "2016-01-01 04:00:00 2016-01-01 04:00:00\n",
       "2016-01-01 05:00:00 2016-01-01 05:00:00\n",
       "2016-01-01 06:00:00 2016-01-01 06:00:00\n",
       "2016-01-01 07:00:00 2016-01-01 07:00:00\n",
       "2016-01-01 08:00:00 2016-01-01 08:00:00\n",
       "2016-01-01 09:00:00 2016-01-01 09:00:00\n",
       "2016-01-01 10:00:00 2016-01-01 10:00:00\n",
       "2016-01-01 11:00:00 2016-01-01 11:00:00\n",
       "2016-01-01 12:00:00 2016-01-01 12:00:00\n",
       "2016-01-01 13:00:00 2016-01-01 13:00:00\n",
       "2016-01-01 14:00:00 2016-01-01 14:00:00\n",
       "2016-01-01 15:00:00 2016-01-01 15:00:00\n",
       "2016-01-01 16:00:00 2016-01-01 16:00:00\n",
       "2016-01-01 17:00:00 2016-01-01 17:00:00\n",
       "2016-01-01 18:00:00 2016-01-01 18:00:00\n",
       "2016-01-01 19:00:00 2016-01-01 19:00:00\n",
       "2016-01-01 20:00:00 2016-01-01 20:00:00\n",
       "2016-01-01 21:00:00 2016-01-01 21:00:00\n",
       "2016-01-01 22:00:00 2016-01-01 22:00:00\n",
       "2016-01-01 23:00:00 2016-01-01 23:00:00"
      ]
     },
     "execution_count": 22,
     "metadata": {},
     "output_type": "execute_result"
    }
   ],
   "source": [
    "start = '2016-01-01 00:00'\n",
    "pred_dates = pd.date_range(start,freq='H',periods=24).to_frame()\n",
    "pred_dates.rename(columns={0: 'Fecha'},inplace = True)\n",
    "pred_dates"
   ]
  },
  {
   "cell_type": "markdown",
   "id": "bigger-commission",
   "metadata": {},
   "source": [
    "### 1.- Regresión Lineal"
   ]
  },
  {
   "cell_type": "code",
   "execution_count": 23,
   "id": "capable-university",
   "metadata": {},
   "outputs": [],
   "source": [
    "#importamos paquete Linear Regression desde sklearn\n",
    "from sklearn.linear_model import LinearRegression"
   ]
  },
  {
   "cell_type": "code",
   "execution_count": 24,
   "id": "corporate-polyester",
   "metadata": {},
   "outputs": [
    {
     "data": {
      "text/html": [
       "<div>\n",
       "<style scoped>\n",
       "    .dataframe tbody tr th:only-of-type {\n",
       "        vertical-align: middle;\n",
       "    }\n",
       "\n",
       "    .dataframe tbody tr th {\n",
       "        vertical-align: top;\n",
       "    }\n",
       "\n",
       "    .dataframe thead th {\n",
       "        text-align: right;\n",
       "    }\n",
       "</style>\n",
       "<table border=\"1\" class=\"dataframe\">\n",
       "  <thead>\n",
       "    <tr style=\"text-align: right;\">\n",
       "      <th></th>\n",
       "      <th>date</th>\n",
       "      <th>fecha</th>\n",
       "      <th>horas</th>\n",
       "      <th>estado</th>\n",
       "      <th>tiempo</th>\n",
       "    </tr>\n",
       "  </thead>\n",
       "  <tbody>\n",
       "    <tr>\n",
       "      <th>0</th>\n",
       "      <td>1</td>\n",
       "      <td>2015-01-01</td>\n",
       "      <td>00:00:00</td>\n",
       "      <td>221.141660</td>\n",
       "      <td>2015-01-01 00:00:00</td>\n",
       "    </tr>\n",
       "    <tr>\n",
       "      <th>1</th>\n",
       "      <td>2</td>\n",
       "      <td>2015-01-01</td>\n",
       "      <td>01:00:00</td>\n",
       "      <td>668.117065</td>\n",
       "      <td>2015-01-01 01:00:00</td>\n",
       "    </tr>\n",
       "    <tr>\n",
       "      <th>2</th>\n",
       "      <td>3</td>\n",
       "      <td>2015-01-01</td>\n",
       "      <td>02:00:00</td>\n",
       "      <td>548.699670</td>\n",
       "      <td>2015-01-01 02:00:00</td>\n",
       "    </tr>\n",
       "    <tr>\n",
       "      <th>3</th>\n",
       "      <td>4</td>\n",
       "      <td>2015-01-01</td>\n",
       "      <td>03:00:00</td>\n",
       "      <td>421.338321</td>\n",
       "      <td>2015-01-01 03:00:00</td>\n",
       "    </tr>\n",
       "    <tr>\n",
       "      <th>4</th>\n",
       "      <td>5</td>\n",
       "      <td>2015-01-01</td>\n",
       "      <td>04:00:00</td>\n",
       "      <td>360.711426</td>\n",
       "      <td>2015-01-01 04:00:00</td>\n",
       "    </tr>\n",
       "    <tr>\n",
       "      <th>...</th>\n",
       "      <td>...</td>\n",
       "      <td>...</td>\n",
       "      <td>...</td>\n",
       "      <td>...</td>\n",
       "      <td>...</td>\n",
       "    </tr>\n",
       "    <tr>\n",
       "      <th>7897</th>\n",
       "      <td>7878</td>\n",
       "      <td>2015-12-31</td>\n",
       "      <td>16:00:00</td>\n",
       "      <td>774.577558</td>\n",
       "      <td>2015-12-31 16:00:00</td>\n",
       "    </tr>\n",
       "    <tr>\n",
       "      <th>7898</th>\n",
       "      <td>7879</td>\n",
       "      <td>2015-12-31</td>\n",
       "      <td>17:00:00</td>\n",
       "      <td>782.537461</td>\n",
       "      <td>2015-12-31 17:00:00</td>\n",
       "    </tr>\n",
       "    <tr>\n",
       "      <th>7899</th>\n",
       "      <td>7880</td>\n",
       "      <td>2015-12-31</td>\n",
       "      <td>18:00:00</td>\n",
       "      <td>801.316049</td>\n",
       "      <td>2015-12-31 18:00:00</td>\n",
       "    </tr>\n",
       "    <tr>\n",
       "      <th>7900</th>\n",
       "      <td>7881</td>\n",
       "      <td>2015-12-31</td>\n",
       "      <td>22:00:00</td>\n",
       "      <td>336.165557</td>\n",
       "      <td>2015-12-31 22:00:00</td>\n",
       "    </tr>\n",
       "    <tr>\n",
       "      <th>7901</th>\n",
       "      <td>7882</td>\n",
       "      <td>2015-12-31</td>\n",
       "      <td>23:00:00</td>\n",
       "      <td>217.633838</td>\n",
       "      <td>2015-12-31 23:00:00</td>\n",
       "    </tr>\n",
       "  </tbody>\n",
       "</table>\n",
       "<p>7882 rows × 5 columns</p>\n",
       "</div>"
      ],
      "text/plain": [
       "      date       fecha     horas      estado              tiempo\n",
       "0        1  2015-01-01  00:00:00  221.141660 2015-01-01 00:00:00\n",
       "1        2  2015-01-01  01:00:00  668.117065 2015-01-01 01:00:00\n",
       "2        3  2015-01-01  02:00:00  548.699670 2015-01-01 02:00:00\n",
       "3        4  2015-01-01  03:00:00  421.338321 2015-01-01 03:00:00\n",
       "4        5  2015-01-01  04:00:00  360.711426 2015-01-01 04:00:00\n",
       "...    ...         ...       ...         ...                 ...\n",
       "7897  7878  2015-12-31  16:00:00  774.577558 2015-12-31 16:00:00\n",
       "7898  7879  2015-12-31  17:00:00  782.537461 2015-12-31 17:00:00\n",
       "7899  7880  2015-12-31  18:00:00  801.316049 2015-12-31 18:00:00\n",
       "7900  7881  2015-12-31  22:00:00  336.165557 2015-12-31 22:00:00\n",
       "7901  7882  2015-12-31  23:00:00  217.633838 2015-12-31 23:00:00\n",
       "\n",
       "[7882 rows x 5 columns]"
      ]
     },
     "execution_count": 24,
     "metadata": {},
     "output_type": "execute_result"
    }
   ],
   "source": [
    "df_rl_dias = df_media_red.copy()\n",
    "df_rl_dias"
   ]
  },
  {
   "cell_type": "code",
   "execution_count": 25,
   "id": "coastal-bonus",
   "metadata": {},
   "outputs": [
    {
     "data": {
      "text/html": [
       "<div>\n",
       "<style scoped>\n",
       "    .dataframe tbody tr th:only-of-type {\n",
       "        vertical-align: middle;\n",
       "    }\n",
       "\n",
       "    .dataframe tbody tr th {\n",
       "        vertical-align: top;\n",
       "    }\n",
       "\n",
       "    .dataframe thead th {\n",
       "        text-align: right;\n",
       "    }\n",
       "</style>\n",
       "<table border=\"1\" class=\"dataframe\">\n",
       "  <thead>\n",
       "    <tr style=\"text-align: right;\">\n",
       "      <th></th>\n",
       "      <th>date</th>\n",
       "      <th>estado</th>\n",
       "    </tr>\n",
       "  </thead>\n",
       "  <tbody>\n",
       "    <tr>\n",
       "      <th>0</th>\n",
       "      <td>1</td>\n",
       "      <td>221.141660</td>\n",
       "    </tr>\n",
       "    <tr>\n",
       "      <th>1</th>\n",
       "      <td>2</td>\n",
       "      <td>668.117065</td>\n",
       "    </tr>\n",
       "    <tr>\n",
       "      <th>2</th>\n",
       "      <td>3</td>\n",
       "      <td>548.699670</td>\n",
       "    </tr>\n",
       "    <tr>\n",
       "      <th>3</th>\n",
       "      <td>4</td>\n",
       "      <td>421.338321</td>\n",
       "    </tr>\n",
       "    <tr>\n",
       "      <th>4</th>\n",
       "      <td>5</td>\n",
       "      <td>360.711426</td>\n",
       "    </tr>\n",
       "  </tbody>\n",
       "</table>\n",
       "</div>"
      ],
      "text/plain": [
       "   date      estado\n",
       "0     1  221.141660\n",
       "1     2  668.117065\n",
       "2     3  548.699670\n",
       "3     4  421.338321\n",
       "4     5  360.711426"
      ]
     },
     "execution_count": 25,
     "metadata": {},
     "output_type": "execute_result"
    }
   ],
   "source": [
    "df_rl_dias[['date','estado']].head(5)"
   ]
  },
  {
   "cell_type": "code",
   "execution_count": 26,
   "id": "national-safety",
   "metadata": {},
   "outputs": [
    {
     "data": {
      "image/png": "[encoded data removed]",
      "text/plain": [
       "<Figure size 720x216 with 2 Axes>"
      ]
     },
     "metadata": {},
     "output_type": "display_data"
    }
   ],
   "source": [
    "#Correlación de las variables con respecto a estado\n",
    "fig, ax = plt.subplots(figsize=(10,3))\n",
    "sns.heatmap(data=df_rl_dias.astype({'estado': 'int32'}).corr(),annot=True,vmax=1.0, cmap='coolwarm',\\\n",
    "            linewidths=.5, ax=ax);"
   ]
  },
  {
   "cell_type": "code",
   "execution_count": 27,
   "id": "inclusive-mother",
   "metadata": {},
   "outputs": [],
   "source": [
    "#Selección variables independientes y dependientes\n",
    "X_train_rl = df_rl_dias['date'] # Features \n",
    "y_train_rl = df_rl_dias['estado'] # Target variable"
   ]
  },
  {
   "cell_type": "code",
   "execution_count": 28,
   "id": "pleasant-terror",
   "metadata": {},
   "outputs": [],
   "source": [
    "#División Train y Test\n",
    "X_train,X_test,y_train,y_test=train_test_split(X_train_rl,y_train_rl,test_size=0.25,random_state=42)"
   ]
  },
  {
   "cell_type": "code",
   "execution_count": 29,
   "id": "veterinary-spotlight",
   "metadata": {},
   "outputs": [
    {
     "name": "stdout",
     "output_type": "stream",
     "text": [
      "Entrenamiento:  5911\n",
      "Test:           1971\n"
     ]
    }
   ],
   "source": [
    "print('Entrenamiento: ',X_train.shape[0])\n",
    "print('Test:          ',X_test.shape[0])"
   ]
  },
  {
   "cell_type": "code",
   "execution_count": 30,
   "id": "initial-spank",
   "metadata": {},
   "outputs": [
    {
     "name": "stdout",
     "output_type": "stream",
     "text": [
      "1402    1403\n",
      "2304    2305\n",
      "7280    7261\n",
      "3210    3211\n",
      "5165    5166\n",
      "        ... \n",
      "1952    1953\n",
      "3309    3310\n",
      "7116    7097\n",
      "439      440\n",
      "1379    1380\n",
      "Name: date, Length: 1971, dtype: int64\n"
     ]
    }
   ],
   "source": [
    "print(X_test)"
   ]
  },
  {
   "cell_type": "code",
   "execution_count": 31,
   "id": "historic-amplifier",
   "metadata": {},
   "outputs": [
    {
     "name": "stdout",
     "output_type": "stream",
     "text": [
      "[803.53925259 800.90672785 786.44243451 ... 786.92107537 806.34980837\n",
      " 803.60637905]\n"
     ]
    }
   ],
   "source": [
    "#Definición Modelo\n",
    "linear = LinearRegression()  \n",
    "modelo_LR = linear.fit(X_train.values.reshape(-1, 1),y_train) \n",
    "y_pred = modelo_LR.predict(X_test.values.reshape(-1, 1))\n",
    "    \n",
    "print(y_pred)"
   ]
  },
  {
   "cell_type": "code",
   "execution_count": 32,
   "id": "excellent-first",
   "metadata": {},
   "outputs": [
    {
     "name": "stdout",
     "output_type": "stream",
     "text": [
      "RMSE Linear Regression:  482.508\n"
     ]
    }
   ],
   "source": [
    "#RMSE\n",
    "print('RMSE Linear Regression: ',round(np.sqrt(metrics.mean_squared_error(y_test, y_pred)),3))"
   ]
  },
  {
   "cell_type": "code",
   "execution_count": 33,
   "id": "informal-brick",
   "metadata": {},
   "outputs": [
    {
     "name": "stdout",
     "output_type": "stream",
     "text": [
      "[807.63396678 807.63104824 807.6281297  807.62521116 807.62229262\n",
      " 807.61937407 807.61645553 807.61353699 807.61061845 807.60769991\n",
      " 807.60478136 807.60186282 807.59894428 807.59602574 807.5931072\n",
      " 807.59018866 807.58727011 807.58435157 807.58143303 807.57851449\n",
      " 807.57559595 807.5726774  807.56975886 807.56684032]\n"
     ]
    }
   ],
   "source": [
    "x_new = np.arange(24).reshape((-1, 1))\n",
    "pred_LR = modelo_LR.predict(x_new)\n",
    "print(pred_LR)"
   ]
  },
  {
   "cell_type": "code",
   "execution_count": 34,
   "id": "vanilla-clerk",
   "metadata": {},
   "outputs": [
    {
     "data": {
      "text/html": [
       "<div>\n",
       "<style scoped>\n",
       "    .dataframe tbody tr th:only-of-type {\n",
       "        vertical-align: middle;\n",
       "    }\n",
       "\n",
       "    .dataframe tbody tr th {\n",
       "        vertical-align: top;\n",
       "    }\n",
       "\n",
       "    .dataframe thead th {\n",
       "        text-align: right;\n",
       "    }\n",
       "</style>\n",
       "<table border=\"1\" class=\"dataframe\">\n",
       "  <thead>\n",
       "    <tr style=\"text-align: right;\">\n",
       "      <th></th>\n",
       "      <th>Media</th>\n",
       "    </tr>\n",
       "    <tr>\n",
       "      <th>Fecha</th>\n",
       "      <th></th>\n",
       "    </tr>\n",
       "  </thead>\n",
       "  <tbody>\n",
       "    <tr>\n",
       "      <th>2016-01-01 00:00:00</th>\n",
       "      <td>807.633967</td>\n",
       "    </tr>\n",
       "    <tr>\n",
       "      <th>2016-01-01 01:00:00</th>\n",
       "      <td>807.631048</td>\n",
       "    </tr>\n",
       "    <tr>\n",
       "      <th>2016-01-01 02:00:00</th>\n",
       "      <td>807.628130</td>\n",
       "    </tr>\n",
       "    <tr>\n",
       "      <th>2016-01-01 03:00:00</th>\n",
       "      <td>807.625211</td>\n",
       "    </tr>\n",
       "    <tr>\n",
       "      <th>2016-01-01 04:00:00</th>\n",
       "      <td>807.622293</td>\n",
       "    </tr>\n",
       "    <tr>\n",
       "      <th>2016-01-01 05:00:00</th>\n",
       "      <td>807.619374</td>\n",
       "    </tr>\n",
       "    <tr>\n",
       "      <th>2016-01-01 06:00:00</th>\n",
       "      <td>807.616456</td>\n",
       "    </tr>\n",
       "    <tr>\n",
       "      <th>2016-01-01 07:00:00</th>\n",
       "      <td>807.613537</td>\n",
       "    </tr>\n",
       "    <tr>\n",
       "      <th>2016-01-01 08:00:00</th>\n",
       "      <td>807.610618</td>\n",
       "    </tr>\n",
       "    <tr>\n",
       "      <th>2016-01-01 09:00:00</th>\n",
       "      <td>807.607700</td>\n",
       "    </tr>\n",
       "    <tr>\n",
       "      <th>2016-01-01 10:00:00</th>\n",
       "      <td>807.604781</td>\n",
       "    </tr>\n",
       "    <tr>\n",
       "      <th>2016-01-01 11:00:00</th>\n",
       "      <td>807.601863</td>\n",
       "    </tr>\n",
       "    <tr>\n",
       "      <th>2016-01-01 12:00:00</th>\n",
       "      <td>807.598944</td>\n",
       "    </tr>\n",
       "    <tr>\n",
       "      <th>2016-01-01 13:00:00</th>\n",
       "      <td>807.596026</td>\n",
       "    </tr>\n",
       "    <tr>\n",
       "      <th>2016-01-01 14:00:00</th>\n",
       "      <td>807.593107</td>\n",
       "    </tr>\n",
       "    <tr>\n",
       "      <th>2016-01-01 15:00:00</th>\n",
       "      <td>807.590189</td>\n",
       "    </tr>\n",
       "    <tr>\n",
       "      <th>2016-01-01 16:00:00</th>\n",
       "      <td>807.587270</td>\n",
       "    </tr>\n",
       "    <tr>\n",
       "      <th>2016-01-01 17:00:00</th>\n",
       "      <td>807.584352</td>\n",
       "    </tr>\n",
       "    <tr>\n",
       "      <th>2016-01-01 18:00:00</th>\n",
       "      <td>807.581433</td>\n",
       "    </tr>\n",
       "    <tr>\n",
       "      <th>2016-01-01 19:00:00</th>\n",
       "      <td>807.578514</td>\n",
       "    </tr>\n",
       "    <tr>\n",
       "      <th>2016-01-01 20:00:00</th>\n",
       "      <td>807.575596</td>\n",
       "    </tr>\n",
       "    <tr>\n",
       "      <th>2016-01-01 21:00:00</th>\n",
       "      <td>807.572677</td>\n",
       "    </tr>\n",
       "    <tr>\n",
       "      <th>2016-01-01 22:00:00</th>\n",
       "      <td>807.569759</td>\n",
       "    </tr>\n",
       "    <tr>\n",
       "      <th>2016-01-01 23:00:00</th>\n",
       "      <td>807.566840</td>\n",
       "    </tr>\n",
       "  </tbody>\n",
       "</table>\n",
       "</div>"
      ],
      "text/plain": [
       "                          Media\n",
       "Fecha                          \n",
       "2016-01-01 00:00:00  807.633967\n",
       "2016-01-01 01:00:00  807.631048\n",
       "2016-01-01 02:00:00  807.628130\n",
       "2016-01-01 03:00:00  807.625211\n",
       "2016-01-01 04:00:00  807.622293\n",
       "2016-01-01 05:00:00  807.619374\n",
       "2016-01-01 06:00:00  807.616456\n",
       "2016-01-01 07:00:00  807.613537\n",
       "2016-01-01 08:00:00  807.610618\n",
       "2016-01-01 09:00:00  807.607700\n",
       "2016-01-01 10:00:00  807.604781\n",
       "2016-01-01 11:00:00  807.601863\n",
       "2016-01-01 12:00:00  807.598944\n",
       "2016-01-01 13:00:00  807.596026\n",
       "2016-01-01 14:00:00  807.593107\n",
       "2016-01-01 15:00:00  807.590189\n",
       "2016-01-01 16:00:00  807.587270\n",
       "2016-01-01 17:00:00  807.584352\n",
       "2016-01-01 18:00:00  807.581433\n",
       "2016-01-01 19:00:00  807.578514\n",
       "2016-01-01 20:00:00  807.575596\n",
       "2016-01-01 21:00:00  807.572677\n",
       "2016-01-01 22:00:00  807.569759\n",
       "2016-01-01 23:00:00  807.566840"
      ]
     },
     "execution_count": 34,
     "metadata": {},
     "output_type": "execute_result"
    }
   ],
   "source": [
    "pred_dates_LR = pred_dates.copy()\n",
    "pred_dates_LR['Media'] = pred_LR\n",
    "pred_dates_LR.set_index('Fecha',inplace=True)\n",
    "pred_dates_LR"
   ]
  },
  {
   "cell_type": "code",
   "execution_count": 92,
   "id": "bound-scheme",
   "metadata": {},
   "outputs": [
    {
     "data": {
      "text/plain": [
       "Media    float64\n",
       "dtype: object"
      ]
     },
     "execution_count": 92,
     "metadata": {},
     "output_type": "execute_result"
    }
   ],
   "source": [
    "pred_dates_LR.dtypes"
   ]
  },
  {
   "cell_type": "code",
   "execution_count": 35,
   "id": "negative-network",
   "metadata": {},
   "outputs": [
    {
     "data": {
      "text/plain": [
       "[Text(0.5, 1.0, 'Predicciones Regresión Lineal')]"
      ]
     },
     "execution_count": 35,
     "metadata": {},
     "output_type": "execute_result"
    },
    {
     "data": {
      "image/png": "[encoded data removed]",
      "text/plain": [
       "<Figure size 720x360 with 1 Axes>"
      ]
     },
     "metadata": {},
     "output_type": "display_data"
    }
   ],
   "source": [
    "sns.set_theme(style='darkgrid')\n",
    "plt.figure(figsize=(10, 5))\n",
    "plt.margins(x=0,y=0)\n",
    "sns.lineplot(x ='Fecha',y='Media',data=pred_dates_LR).set(title='Predicciones Regresión Lineal')\n",
    "#sns.barplot(x ='Fecha',y='Media',data=pred_dates_LR).set(title='Predicciones Regresión Lineal')"
   ]
  },
  {
   "cell_type": "code",
   "execution_count": 36,
   "id": "delayed-sharp",
   "metadata": {},
   "outputs": [
    {
     "data": {
      "image/png": "[encoded data removed]",
      "text/plain": [
       "<Figure size 432x288 with 1 Axes>"
      ]
     },
     "metadata": {},
     "output_type": "display_data"
    }
   ],
   "source": [
    "pred_dates_LR.plot.bar(rot=60,color ='blue',width = 1.0)\n",
    "plt.title('Predicciones 24 Horas 2016-01-01 Random Forest')\n",
    "plt.show()"
   ]
  },
  {
   "cell_type": "code",
   "execution_count": 105,
   "id": "intellectual-weather",
   "metadata": {},
   "outputs": [
    {
     "name": "stdout",
     "output_type": "stream",
     "text": [
      "Archivo Creado Correctamente\n"
     ]
    }
   ],
   "source": [
    "#Guardamos dataframe\n",
    "df_lr_series_data = pred_dates_LR.to_csv(r'/../../TFM/Machine_Learning_Data/temp_series_data/series_lr_data.csv',sep=';', index = True, header=True)\n",
    "\n",
    "try:\n",
    "    df_lr_series_data\n",
    "    print('Archivo Creado Correctamente')\n",
    "except EmptyDataError as ex:\n",
    "    print('Datos Vacíos: \\n',ex)\n",
    "except ParserError as ex:\n",
    "    print('Error Parseo Archivo: \\n',ex)\n",
    "except Exception as ex:\n",
    "    print('Archivo Creado con Errores: \\n',ex)"
   ]
  },
  {
   "cell_type": "markdown",
   "id": "false-doctrine",
   "metadata": {},
   "source": [
    "### 2.- KNN"
   ]
  },
  {
   "cell_type": "code",
   "execution_count": 37,
   "id": "contrary-wound",
   "metadata": {},
   "outputs": [],
   "source": [
    "#importamos paquete KNN desde sklearn\n",
    "#from sklearn.neighbors import KNeighborsClassifier\n",
    "from sklearn.neighbors import KNeighborsRegressor"
   ]
  },
  {
   "cell_type": "code",
   "execution_count": 38,
   "id": "amber-hopkins",
   "metadata": {},
   "outputs": [
    {
     "data": {
      "text/html": [
       "<div>\n",
       "<style scoped>\n",
       "    .dataframe tbody tr th:only-of-type {\n",
       "        vertical-align: middle;\n",
       "    }\n",
       "\n",
       "    .dataframe tbody tr th {\n",
       "        vertical-align: top;\n",
       "    }\n",
       "\n",
       "    .dataframe thead th {\n",
       "        text-align: right;\n",
       "    }\n",
       "</style>\n",
       "<table border=\"1\" class=\"dataframe\">\n",
       "  <thead>\n",
       "    <tr style=\"text-align: right;\">\n",
       "      <th></th>\n",
       "      <th>date</th>\n",
       "      <th>fecha</th>\n",
       "      <th>horas</th>\n",
       "      <th>estado</th>\n",
       "      <th>tiempo</th>\n",
       "    </tr>\n",
       "  </thead>\n",
       "  <tbody>\n",
       "    <tr>\n",
       "      <th>0</th>\n",
       "      <td>1</td>\n",
       "      <td>2015-01-01</td>\n",
       "      <td>00:00:00</td>\n",
       "      <td>221.141660</td>\n",
       "      <td>2015-01-01 00:00:00</td>\n",
       "    </tr>\n",
       "    <tr>\n",
       "      <th>1</th>\n",
       "      <td>2</td>\n",
       "      <td>2015-01-01</td>\n",
       "      <td>01:00:00</td>\n",
       "      <td>668.117065</td>\n",
       "      <td>2015-01-01 01:00:00</td>\n",
       "    </tr>\n",
       "    <tr>\n",
       "      <th>2</th>\n",
       "      <td>3</td>\n",
       "      <td>2015-01-01</td>\n",
       "      <td>02:00:00</td>\n",
       "      <td>548.699670</td>\n",
       "      <td>2015-01-01 02:00:00</td>\n",
       "    </tr>\n",
       "    <tr>\n",
       "      <th>3</th>\n",
       "      <td>4</td>\n",
       "      <td>2015-01-01</td>\n",
       "      <td>03:00:00</td>\n",
       "      <td>421.338321</td>\n",
       "      <td>2015-01-01 03:00:00</td>\n",
       "    </tr>\n",
       "    <tr>\n",
       "      <th>4</th>\n",
       "      <td>5</td>\n",
       "      <td>2015-01-01</td>\n",
       "      <td>04:00:00</td>\n",
       "      <td>360.711426</td>\n",
       "      <td>2015-01-01 04:00:00</td>\n",
       "    </tr>\n",
       "    <tr>\n",
       "      <th>...</th>\n",
       "      <td>...</td>\n",
       "      <td>...</td>\n",
       "      <td>...</td>\n",
       "      <td>...</td>\n",
       "      <td>...</td>\n",
       "    </tr>\n",
       "    <tr>\n",
       "      <th>7897</th>\n",
       "      <td>7878</td>\n",
       "      <td>2015-12-31</td>\n",
       "      <td>16:00:00</td>\n",
       "      <td>774.577558</td>\n",
       "      <td>2015-12-31 16:00:00</td>\n",
       "    </tr>\n",
       "    <tr>\n",
       "      <th>7898</th>\n",
       "      <td>7879</td>\n",
       "      <td>2015-12-31</td>\n",
       "      <td>17:00:00</td>\n",
       "      <td>782.537461</td>\n",
       "      <td>2015-12-31 17:00:00</td>\n",
       "    </tr>\n",
       "    <tr>\n",
       "      <th>7899</th>\n",
       "      <td>7880</td>\n",
       "      <td>2015-12-31</td>\n",
       "      <td>18:00:00</td>\n",
       "      <td>801.316049</td>\n",
       "      <td>2015-12-31 18:00:00</td>\n",
       "    </tr>\n",
       "    <tr>\n",
       "      <th>7900</th>\n",
       "      <td>7881</td>\n",
       "      <td>2015-12-31</td>\n",
       "      <td>22:00:00</td>\n",
       "      <td>336.165557</td>\n",
       "      <td>2015-12-31 22:00:00</td>\n",
       "    </tr>\n",
       "    <tr>\n",
       "      <th>7901</th>\n",
       "      <td>7882</td>\n",
       "      <td>2015-12-31</td>\n",
       "      <td>23:00:00</td>\n",
       "      <td>217.633838</td>\n",
       "      <td>2015-12-31 23:00:00</td>\n",
       "    </tr>\n",
       "  </tbody>\n",
       "</table>\n",
       "<p>7882 rows × 5 columns</p>\n",
       "</div>"
      ],
      "text/plain": [
       "      date       fecha     horas      estado              tiempo\n",
       "0        1  2015-01-01  00:00:00  221.141660 2015-01-01 00:00:00\n",
       "1        2  2015-01-01  01:00:00  668.117065 2015-01-01 01:00:00\n",
       "2        3  2015-01-01  02:00:00  548.699670 2015-01-01 02:00:00\n",
       "3        4  2015-01-01  03:00:00  421.338321 2015-01-01 03:00:00\n",
       "4        5  2015-01-01  04:00:00  360.711426 2015-01-01 04:00:00\n",
       "...    ...         ...       ...         ...                 ...\n",
       "7897  7878  2015-12-31  16:00:00  774.577558 2015-12-31 16:00:00\n",
       "7898  7879  2015-12-31  17:00:00  782.537461 2015-12-31 17:00:00\n",
       "7899  7880  2015-12-31  18:00:00  801.316049 2015-12-31 18:00:00\n",
       "7900  7881  2015-12-31  22:00:00  336.165557 2015-12-31 22:00:00\n",
       "7901  7882  2015-12-31  23:00:00  217.633838 2015-12-31 23:00:00\n",
       "\n",
       "[7882 rows x 5 columns]"
      ]
     },
     "execution_count": 38,
     "metadata": {},
     "output_type": "execute_result"
    }
   ],
   "source": [
    "df_knn_dias = df_media_red.copy()\n",
    "df_knn_dias"
   ]
  },
  {
   "cell_type": "code",
   "execution_count": 39,
   "id": "involved-nomination",
   "metadata": {},
   "outputs": [],
   "source": [
    "#Selección variables independientes y dependientes\n",
    "X_train_knn = df_knn_dias['date'] # Features \n",
    "y_train_knn = df_knn_dias['estado'] # Target variable"
   ]
  },
  {
   "cell_type": "code",
   "execution_count": 40,
   "id": "thousand-committee",
   "metadata": {},
   "outputs": [],
   "source": [
    "#División Train y Test\n",
    "X_train,X_test,y_train,y_test=train_test_split(X_train_knn,y_train_knn,test_size=0.25,random_state=42)"
   ]
  },
  {
   "cell_type": "code",
   "execution_count": 41,
   "id": "skilled-profession",
   "metadata": {},
   "outputs": [
    {
     "data": {
      "text/plain": [
       "KNeighborsRegressor(n_neighbors=2)"
      ]
     },
     "execution_count": 41,
     "metadata": {},
     "output_type": "execute_result"
    }
   ],
   "source": [
    "#Definición Número de vecinos a incluir en el modelo\n",
    "#knn = KNeighborsClassifier(n_neighbors=2)\n",
    "knn = KNeighborsRegressor(n_neighbors = 2)\n",
    "\n",
    "#Entrenamiento del modelo\n",
    "knn.fit(X_train.values.reshape(-1, 1), y_train)"
   ]
  },
  {
   "cell_type": "code",
   "execution_count": 42,
   "id": "concrete-script",
   "metadata": {},
   "outputs": [
    {
     "name": "stdout",
     "output_type": "stream",
     "text": [
      "[ 121.99836793  644.2044335   341.18104545 ...  737.30185185 1326.2421599\n",
      "  365.63205602]\n"
     ]
    }
   ],
   "source": [
    "#Prediction\n",
    "y_pred = knn.predict(X_test.values.reshape(-1, 1))\n",
    "\n",
    "print(y_pred)"
   ]
  },
  {
   "cell_type": "code",
   "execution_count": 43,
   "id": "infinite-married",
   "metadata": {},
   "outputs": [
    {
     "name": "stdout",
     "output_type": "stream",
     "text": [
      "RMSE Linear Regression:  200.433\n"
     ]
    }
   ],
   "source": [
    "#RMSE\n",
    "print('RMSE Linear Regression: ',round(np.sqrt(metrics.mean_squared_error(y_test, y_pred)),3))"
   ]
  },
  {
   "cell_type": "code",
   "execution_count": 44,
   "id": "meaningful-aquatic",
   "metadata": {},
   "outputs": [
    {
     "name": "stdout",
     "output_type": "stream",
     "text": [
      "[608.40836755 608.40836755 608.40836755 608.40836755 485.01899542\n",
      " 391.02487353 297.27546826 286.74078076 286.74078076 268.66982195\n",
      " 248.94282523 243.68112828 339.22906755 339.22906755 560.55100709\n",
      " 590.4242654  479.14719454 479.14719454 643.21725365 809.94197654\n",
      " 809.94197654 741.22493812 575.10612624 575.10612624]\n"
     ]
    }
   ],
   "source": [
    "x_new_knn = np.arange(24).reshape((-1, 1))\n",
    "pred_KNN = knn.predict(x_new_knn)\n",
    "print(pred_KNN)"
   ]
  },
  {
   "cell_type": "code",
   "execution_count": 45,
   "id": "entire-retreat",
   "metadata": {},
   "outputs": [
    {
     "data": {
      "text/html": [
       "<div>\n",
       "<style scoped>\n",
       "    .dataframe tbody tr th:only-of-type {\n",
       "        vertical-align: middle;\n",
       "    }\n",
       "\n",
       "    .dataframe tbody tr th {\n",
       "        vertical-align: top;\n",
       "    }\n",
       "\n",
       "    .dataframe thead th {\n",
       "        text-align: right;\n",
       "    }\n",
       "</style>\n",
       "<table border=\"1\" class=\"dataframe\">\n",
       "  <thead>\n",
       "    <tr style=\"text-align: right;\">\n",
       "      <th></th>\n",
       "      <th>Media</th>\n",
       "    </tr>\n",
       "    <tr>\n",
       "      <th>Fecha</th>\n",
       "      <th></th>\n",
       "    </tr>\n",
       "  </thead>\n",
       "  <tbody>\n",
       "    <tr>\n",
       "      <th>2016-01-01 00:00:00</th>\n",
       "      <td>608.408368</td>\n",
       "    </tr>\n",
       "    <tr>\n",
       "      <th>2016-01-01 01:00:00</th>\n",
       "      <td>608.408368</td>\n",
       "    </tr>\n",
       "    <tr>\n",
       "      <th>2016-01-01 02:00:00</th>\n",
       "      <td>608.408368</td>\n",
       "    </tr>\n",
       "    <tr>\n",
       "      <th>2016-01-01 03:00:00</th>\n",
       "      <td>608.408368</td>\n",
       "    </tr>\n",
       "    <tr>\n",
       "      <th>2016-01-01 04:00:00</th>\n",
       "      <td>485.018995</td>\n",
       "    </tr>\n",
       "    <tr>\n",
       "      <th>2016-01-01 05:00:00</th>\n",
       "      <td>391.024874</td>\n",
       "    </tr>\n",
       "    <tr>\n",
       "      <th>2016-01-01 06:00:00</th>\n",
       "      <td>297.275468</td>\n",
       "    </tr>\n",
       "    <tr>\n",
       "      <th>2016-01-01 07:00:00</th>\n",
       "      <td>286.740781</td>\n",
       "    </tr>\n",
       "    <tr>\n",
       "      <th>2016-01-01 08:00:00</th>\n",
       "      <td>286.740781</td>\n",
       "    </tr>\n",
       "    <tr>\n",
       "      <th>2016-01-01 09:00:00</th>\n",
       "      <td>268.669822</td>\n",
       "    </tr>\n",
       "    <tr>\n",
       "      <th>2016-01-01 10:00:00</th>\n",
       "      <td>248.942825</td>\n",
       "    </tr>\n",
       "    <tr>\n",
       "      <th>2016-01-01 11:00:00</th>\n",
       "      <td>243.681128</td>\n",
       "    </tr>\n",
       "    <tr>\n",
       "      <th>2016-01-01 12:00:00</th>\n",
       "      <td>339.229068</td>\n",
       "    </tr>\n",
       "    <tr>\n",
       "      <th>2016-01-01 13:00:00</th>\n",
       "      <td>339.229068</td>\n",
       "    </tr>\n",
       "    <tr>\n",
       "      <th>2016-01-01 14:00:00</th>\n",
       "      <td>560.551007</td>\n",
       "    </tr>\n",
       "    <tr>\n",
       "      <th>2016-01-01 15:00:00</th>\n",
       "      <td>590.424265</td>\n",
       "    </tr>\n",
       "    <tr>\n",
       "      <th>2016-01-01 16:00:00</th>\n",
       "      <td>479.147195</td>\n",
       "    </tr>\n",
       "    <tr>\n",
       "      <th>2016-01-01 17:00:00</th>\n",
       "      <td>479.147195</td>\n",
       "    </tr>\n",
       "    <tr>\n",
       "      <th>2016-01-01 18:00:00</th>\n",
       "      <td>643.217254</td>\n",
       "    </tr>\n",
       "    <tr>\n",
       "      <th>2016-01-01 19:00:00</th>\n",
       "      <td>809.941977</td>\n",
       "    </tr>\n",
       "    <tr>\n",
       "      <th>2016-01-01 20:00:00</th>\n",
       "      <td>809.941977</td>\n",
       "    </tr>\n",
       "    <tr>\n",
       "      <th>2016-01-01 21:00:00</th>\n",
       "      <td>741.224938</td>\n",
       "    </tr>\n",
       "    <tr>\n",
       "      <th>2016-01-01 22:00:00</th>\n",
       "      <td>575.106126</td>\n",
       "    </tr>\n",
       "    <tr>\n",
       "      <th>2016-01-01 23:00:00</th>\n",
       "      <td>575.106126</td>\n",
       "    </tr>\n",
       "  </tbody>\n",
       "</table>\n",
       "</div>"
      ],
      "text/plain": [
       "                          Media\n",
       "Fecha                          \n",
       "2016-01-01 00:00:00  608.408368\n",
       "2016-01-01 01:00:00  608.408368\n",
       "2016-01-01 02:00:00  608.408368\n",
       "2016-01-01 03:00:00  608.408368\n",
       "2016-01-01 04:00:00  485.018995\n",
       "2016-01-01 05:00:00  391.024874\n",
       "2016-01-01 06:00:00  297.275468\n",
       "2016-01-01 07:00:00  286.740781\n",
       "2016-01-01 08:00:00  286.740781\n",
       "2016-01-01 09:00:00  268.669822\n",
       "2016-01-01 10:00:00  248.942825\n",
       "2016-01-01 11:00:00  243.681128\n",
       "2016-01-01 12:00:00  339.229068\n",
       "2016-01-01 13:00:00  339.229068\n",
       "2016-01-01 14:00:00  560.551007\n",
       "2016-01-01 15:00:00  590.424265\n",
       "2016-01-01 16:00:00  479.147195\n",
       "2016-01-01 17:00:00  479.147195\n",
       "2016-01-01 18:00:00  643.217254\n",
       "2016-01-01 19:00:00  809.941977\n",
       "2016-01-01 20:00:00  809.941977\n",
       "2016-01-01 21:00:00  741.224938\n",
       "2016-01-01 22:00:00  575.106126\n",
       "2016-01-01 23:00:00  575.106126"
      ]
     },
     "execution_count": 45,
     "metadata": {},
     "output_type": "execute_result"
    }
   ],
   "source": [
    "pred_dates_KNN = pred_dates.copy()\n",
    "pred_dates_KNN['Media'] = pred_KNN\n",
    "pred_dates_KNN.set_index('Fecha',inplace=True)\n",
    "pred_dates_KNN"
   ]
  },
  {
   "cell_type": "code",
   "execution_count": 46,
   "id": "judicial-indie",
   "metadata": {},
   "outputs": [
    {
     "data": {
      "image/png": "[encoded data removed]",
      "text/plain": [
       "<Figure size 720x360 with 1 Axes>"
      ]
     },
     "metadata": {},
     "output_type": "display_data"
    }
   ],
   "source": [
    "pred_dates_KNN.plot(figsize=(10, 5))\n",
    "plt.margins(x=0,y=0)\n",
    "plt.show()"
   ]
  },
  {
   "cell_type": "code",
   "execution_count": 47,
   "id": "fourth-enemy",
   "metadata": {},
   "outputs": [
    {
     "data": {
      "text/plain": [
       "[Text(0.5, 1.0, 'Predicciones KNN')]"
      ]
     },
     "execution_count": 47,
     "metadata": {},
     "output_type": "execute_result"
    },
    {
     "data": {
      "image/png": "[encoded data removed]",
      "text/plain": [
       "<Figure size 720x360 with 1 Axes>"
      ]
     },
     "metadata": {},
     "output_type": "display_data"
    }
   ],
   "source": [
    "sns.set_theme(style='darkgrid')\n",
    "plt.figure(figsize=(10, 5))\n",
    "plt.margins(x=0,y=0)\n",
    "sns.lineplot(x ='Fecha',y='Media',data=pred_dates_KNN).set(title='Predicciones KNN')"
   ]
  },
  {
   "cell_type": "code",
   "execution_count": 48,
   "id": "weekly-madagascar",
   "metadata": {},
   "outputs": [
    {
     "data": {
      "image/png": "[encoded data removed]",
      "text/plain": [
       "<Figure size 432x288 with 1 Axes>"
      ]
     },
     "metadata": {},
     "output_type": "display_data"
    }
   ],
   "source": [
    "pred_dates_KNN.plot.bar(rot=60,color ='blue',width = 1.0)\n",
    "plt.title('Predicciones 24 Horas 2016-01-01 KNN')\n",
    "plt.show()"
   ]
  },
  {
   "cell_type": "code",
   "execution_count": 91,
   "id": "developing-mechanism",
   "metadata": {},
   "outputs": [
    {
     "name": "stdout",
     "output_type": "stream",
     "text": [
      "Archivo Creado Correctamente\n"
     ]
    }
   ],
   "source": [
    "#Guardamos dataframe\n",
    "df_knn_series_data = pred_dates_KNN.to_csv(r'/../../TFM/Machine_Learning_Data/temp_series_data/series_knn_data.csv',sep=';', index = True, header=True)\n",
    "\n",
    "try:\n",
    "    df_knn_series_data\n",
    "    print('Archivo Creado Correctamente')\n",
    "except EmptyDataError as ex:\n",
    "    print('Datos Vacíos: \\n',ex)\n",
    "except ParserError as ex:\n",
    "    print('Error Parseo Archivo: \\n',ex)\n",
    "except Exception as ex:\n",
    "    print('Archivo Creado con Errores: \\n',ex)"
   ]
  },
  {
   "cell_type": "markdown",
   "id": "engaging-answer",
   "metadata": {},
   "source": [
    "### 3.- Random Forest"
   ]
  },
  {
   "cell_type": "code",
   "execution_count": 49,
   "id": "organizational-sympathy",
   "metadata": {},
   "outputs": [],
   "source": [
    "from sklearn.ensemble import RandomForestRegressor"
   ]
  },
  {
   "cell_type": "code",
   "execution_count": 50,
   "id": "bearing-azerbaijan",
   "metadata": {},
   "outputs": [
    {
     "data": {
      "text/html": [
       "<div>\n",
       "<style scoped>\n",
       "    .dataframe tbody tr th:only-of-type {\n",
       "        vertical-align: middle;\n",
       "    }\n",
       "\n",
       "    .dataframe tbody tr th {\n",
       "        vertical-align: top;\n",
       "    }\n",
       "\n",
       "    .dataframe thead th {\n",
       "        text-align: right;\n",
       "    }\n",
       "</style>\n",
       "<table border=\"1\" class=\"dataframe\">\n",
       "  <thead>\n",
       "    <tr style=\"text-align: right;\">\n",
       "      <th></th>\n",
       "      <th>date</th>\n",
       "      <th>fecha</th>\n",
       "      <th>horas</th>\n",
       "      <th>estado</th>\n",
       "      <th>tiempo</th>\n",
       "    </tr>\n",
       "  </thead>\n",
       "  <tbody>\n",
       "    <tr>\n",
       "      <th>0</th>\n",
       "      <td>1</td>\n",
       "      <td>2015-01-01</td>\n",
       "      <td>00:00:00</td>\n",
       "      <td>221.141660</td>\n",
       "      <td>2015-01-01 00:00:00</td>\n",
       "    </tr>\n",
       "    <tr>\n",
       "      <th>1</th>\n",
       "      <td>2</td>\n",
       "      <td>2015-01-01</td>\n",
       "      <td>01:00:00</td>\n",
       "      <td>668.117065</td>\n",
       "      <td>2015-01-01 01:00:00</td>\n",
       "    </tr>\n",
       "    <tr>\n",
       "      <th>2</th>\n",
       "      <td>3</td>\n",
       "      <td>2015-01-01</td>\n",
       "      <td>02:00:00</td>\n",
       "      <td>548.699670</td>\n",
       "      <td>2015-01-01 02:00:00</td>\n",
       "    </tr>\n",
       "    <tr>\n",
       "      <th>3</th>\n",
       "      <td>4</td>\n",
       "      <td>2015-01-01</td>\n",
       "      <td>03:00:00</td>\n",
       "      <td>421.338321</td>\n",
       "      <td>2015-01-01 03:00:00</td>\n",
       "    </tr>\n",
       "    <tr>\n",
       "      <th>4</th>\n",
       "      <td>5</td>\n",
       "      <td>2015-01-01</td>\n",
       "      <td>04:00:00</td>\n",
       "      <td>360.711426</td>\n",
       "      <td>2015-01-01 04:00:00</td>\n",
       "    </tr>\n",
       "    <tr>\n",
       "      <th>...</th>\n",
       "      <td>...</td>\n",
       "      <td>...</td>\n",
       "      <td>...</td>\n",
       "      <td>...</td>\n",
       "      <td>...</td>\n",
       "    </tr>\n",
       "    <tr>\n",
       "      <th>7897</th>\n",
       "      <td>7878</td>\n",
       "      <td>2015-12-31</td>\n",
       "      <td>16:00:00</td>\n",
       "      <td>774.577558</td>\n",
       "      <td>2015-12-31 16:00:00</td>\n",
       "    </tr>\n",
       "    <tr>\n",
       "      <th>7898</th>\n",
       "      <td>7879</td>\n",
       "      <td>2015-12-31</td>\n",
       "      <td>17:00:00</td>\n",
       "      <td>782.537461</td>\n",
       "      <td>2015-12-31 17:00:00</td>\n",
       "    </tr>\n",
       "    <tr>\n",
       "      <th>7899</th>\n",
       "      <td>7880</td>\n",
       "      <td>2015-12-31</td>\n",
       "      <td>18:00:00</td>\n",
       "      <td>801.316049</td>\n",
       "      <td>2015-12-31 18:00:00</td>\n",
       "    </tr>\n",
       "    <tr>\n",
       "      <th>7900</th>\n",
       "      <td>7881</td>\n",
       "      <td>2015-12-31</td>\n",
       "      <td>22:00:00</td>\n",
       "      <td>336.165557</td>\n",
       "      <td>2015-12-31 22:00:00</td>\n",
       "    </tr>\n",
       "    <tr>\n",
       "      <th>7901</th>\n",
       "      <td>7882</td>\n",
       "      <td>2015-12-31</td>\n",
       "      <td>23:00:00</td>\n",
       "      <td>217.633838</td>\n",
       "      <td>2015-12-31 23:00:00</td>\n",
       "    </tr>\n",
       "  </tbody>\n",
       "</table>\n",
       "<p>7882 rows × 5 columns</p>\n",
       "</div>"
      ],
      "text/plain": [
       "      date       fecha     horas      estado              tiempo\n",
       "0        1  2015-01-01  00:00:00  221.141660 2015-01-01 00:00:00\n",
       "1        2  2015-01-01  01:00:00  668.117065 2015-01-01 01:00:00\n",
       "2        3  2015-01-01  02:00:00  548.699670 2015-01-01 02:00:00\n",
       "3        4  2015-01-01  03:00:00  421.338321 2015-01-01 03:00:00\n",
       "4        5  2015-01-01  04:00:00  360.711426 2015-01-01 04:00:00\n",
       "...    ...         ...       ...         ...                 ...\n",
       "7897  7878  2015-12-31  16:00:00  774.577558 2015-12-31 16:00:00\n",
       "7898  7879  2015-12-31  17:00:00  782.537461 2015-12-31 17:00:00\n",
       "7899  7880  2015-12-31  18:00:00  801.316049 2015-12-31 18:00:00\n",
       "7900  7881  2015-12-31  22:00:00  336.165557 2015-12-31 22:00:00\n",
       "7901  7882  2015-12-31  23:00:00  217.633838 2015-12-31 23:00:00\n",
       "\n",
       "[7882 rows x 5 columns]"
      ]
     },
     "execution_count": 50,
     "metadata": {},
     "output_type": "execute_result"
    }
   ],
   "source": [
    "df_RFr = df_media_red.copy()\n",
    "df_RFr"
   ]
  },
  {
   "cell_type": "code",
   "execution_count": 51,
   "id": "printable-builder",
   "metadata": {},
   "outputs": [],
   "source": [
    "#Selección variables independientes y dependientes\n",
    "X_train_RFr = df_RFr['date'] # Features \n",
    "y_train_RFr = df_RFr['estado'] # Target variable"
   ]
  },
  {
   "cell_type": "code",
   "execution_count": 52,
   "id": "sealed-distance",
   "metadata": {},
   "outputs": [],
   "source": [
    "#División Train y Test\n",
    "X_train,X_test,y_train,y_test=train_test_split(X_train_RFr,y_train_RFr,test_size=0.25,random_state=42)"
   ]
  },
  {
   "cell_type": "code",
   "execution_count": 53,
   "id": "green-implementation",
   "metadata": {},
   "outputs": [
    {
     "name": "stderr",
     "output_type": "stream",
     "text": [
      "[Parallel(n_jobs=1)]: Using backend SequentialBackend with 1 concurrent workers.\n",
      "[Parallel(n_jobs=1)]: Done   1 out of   1 | elapsed:    0.0s remaining:    0.0s\n"
     ]
    },
    {
     "name": "stdout",
     "output_type": "stream",
     "text": [
      "building tree 1 of 100\n",
      "building tree 2 of 100\n",
      "building tree 3 of 100\n",
      "building tree 4 of 100\n",
      "building tree 5 of 100\n",
      "building tree 6 of 100\n",
      "building tree 7 of 100\n",
      "building tree 8 of 100\n",
      "building tree 9 of 100\n",
      "building tree 10 of 100\n",
      "building tree 11 of 100\n",
      "building tree 12 of 100\n",
      "building tree 13 of 100\n",
      "building tree 14 of 100\n",
      "building tree 15 of 100\n",
      "building tree 16 of 100\n",
      "building tree 17 of 100\n",
      "building tree 18 of 100\n",
      "building tree 19 of 100\n",
      "building tree 20 of 100\n",
      "building tree 21 of 100\n",
      "building tree 22 of 100\n",
      "building tree 23 of 100\n",
      "building tree 24 of 100\n",
      "building tree 25 of 100\n",
      "building tree 26 of 100\n",
      "building tree 27 of 100\n",
      "building tree 28 of 100\n",
      "building tree 29 of 100\n",
      "building tree 30 of 100\n",
      "building tree 31 of 100\n",
      "building tree 32 of 100\n",
      "building tree 33 of 100\n",
      "building tree 34 of 100\n",
      "building tree 35 of 100\n",
      "building tree 36 of 100\n",
      "building tree 37 of 100\n",
      "building tree 38 of 100\n",
      "building tree 39 of 100\n",
      "building tree 40 of 100\n",
      "building tree 41 of 100\n",
      "building tree 42 of 100\n",
      "building tree 43 of 100\n",
      "building tree 44 of 100\n",
      "building tree 45 of 100\n",
      "building tree 46 of 100\n",
      "building tree 47 of 100\n",
      "building tree 48 of 100\n",
      "building tree 49 of 100\n",
      "building tree 50 of 100\n",
      "building tree 51 of 100\n",
      "building tree 52 of 100\n",
      "building tree 53 of 100\n",
      "building tree 54 of 100\n",
      "building tree 55 of 100\n",
      "building tree 56 of 100\n",
      "building tree 57 of 100\n",
      "building tree 58 of 100\n",
      "building tree 59 of 100\n",
      "building tree 60 of 100\n",
      "building tree 61 of 100\n",
      "building tree 62 of 100\n",
      "building tree 63 of 100\n",
      "building tree 64 of 100\n",
      "building tree 65 of 100\n",
      "building tree 66 of 100\n",
      "building tree 67 of 100\n",
      "building tree 68 of 100\n",
      "building tree 69 of 100\n",
      "building tree 70 of 100\n",
      "building tree 71 of 100\n",
      "building tree 72 of 100\n",
      "building tree 73 of 100\n",
      "building tree 74 of 100\n",
      "building tree 75 of 100\n",
      "building tree 76 of 100\n",
      "building tree 77 of 100\n",
      "building tree 78 of 100\n",
      "building tree 79 of 100\n",
      "building tree 80 of 100\n",
      "building tree 81 of 100\n",
      "building tree 82 of 100\n",
      "building tree 83 of 100\n",
      "building tree 84 of 100\n",
      "building tree 85 of 100\n",
      "building tree 86 of 100\n",
      "building tree 87 of 100\n",
      "building tree 88 of 100\n",
      "building tree 89 of 100\n",
      "building tree 90 of 100\n",
      "building tree 91 of 100\n",
      "building tree 92 of 100\n",
      "building tree 93 of 100\n",
      "building tree 94 of 100\n",
      "building tree 95 of 100\n",
      "building tree 96 of 100\n",
      "building tree 97 of 100\n",
      "building tree 98 of 100\n",
      "building tree 99 of 100\n",
      "building tree 100 of 100\n"
     ]
    },
    {
     "name": "stderr",
     "output_type": "stream",
     "text": [
      "[Parallel(n_jobs=1)]: Done 100 out of 100 | elapsed:    0.4s finished\n"
     ]
    },
    {
     "data": {
      "text/plain": [
       "RandomForestRegressor(max_depth=8, random_state=42, verbose=2)"
      ]
     },
     "execution_count": 53,
     "metadata": {},
     "output_type": "execute_result"
    }
   ],
   "source": [
    "rfr_model = RandomForestRegressor(n_estimators=100,max_depth=8,bootstrap=True,verbose=2,\\\n",
    "                            max_features = 'auto',random_state = 42)\n",
    "\n",
    "rfr_model.fit(X_train.values.reshape(-1, 1), y_train)"
   ]
  },
  {
   "cell_type": "code",
   "execution_count": 54,
   "id": "concerned-buddy",
   "metadata": {},
   "outputs": [
    {
     "name": "stdout",
     "output_type": "stream",
     "text": [
      "[778.83484434 815.43977691 687.47628767 ... 804.24391793 793.85035433\n",
      " 790.72362622]\n"
     ]
    },
    {
     "name": "stderr",
     "output_type": "stream",
     "text": [
      "[Parallel(n_jobs=1)]: Using backend SequentialBackend with 1 concurrent workers.\n",
      "[Parallel(n_jobs=1)]: Done   1 out of   1 | elapsed:    0.0s remaining:    0.0s\n",
      "[Parallel(n_jobs=1)]: Done 100 out of 100 | elapsed:    0.0s finished\n"
     ]
    }
   ],
   "source": [
    "#predictions\n",
    "y_pred=rfr_model.predict(X_test.values.reshape(-1, 1))\n",
    "print(y_pred)"
   ]
  },
  {
   "cell_type": "code",
   "execution_count": 55,
   "id": "breeding-times",
   "metadata": {},
   "outputs": [
    {
     "name": "stdout",
     "output_type": "stream",
     "text": [
      "RMSE RANDOM FOREST:  444.184\n"
     ]
    }
   ],
   "source": [
    "#RMSE\n",
    "print('RMSE RANDOM FOREST: ',round(np.sqrt(metrics.mean_squared_error(y_test, y_pred)),3))"
   ]
  },
  {
   "cell_type": "code",
   "execution_count": 56,
   "id": "bronze-repeat",
   "metadata": {},
   "outputs": [
    {
     "name": "stdout",
     "output_type": "stream",
     "text": [
      "[581.59600656 581.59600656 581.59600656 555.32417962 441.64957142\n",
      " 389.41249128 336.71534741 325.14426247 322.61234403 318.9537258\n",
      " 308.81231038 309.14995234 318.78012012 418.84088064 556.27202949\n",
      " 573.01603816 523.38998202 523.75277128 541.89797766 656.29958337\n",
      " 684.06492771 674.06145932 646.33610634 523.71384013]\n"
     ]
    },
    {
     "name": "stderr",
     "output_type": "stream",
     "text": [
      "[Parallel(n_jobs=1)]: Using backend SequentialBackend with 1 concurrent workers.\n",
      "[Parallel(n_jobs=1)]: Done   1 out of   1 | elapsed:    0.0s remaining:    0.0s\n",
      "[Parallel(n_jobs=1)]: Done 100 out of 100 | elapsed:    0.0s finished\n"
     ]
    }
   ],
   "source": [
    "x_new_RF = np.arange(24).reshape((-1, 1))\n",
    "pred_RF = rfr_model.predict(x_new_RF)\n",
    "print(pred_RF)"
   ]
  },
  {
   "cell_type": "code",
   "execution_count": 57,
   "id": "secure-match",
   "metadata": {},
   "outputs": [
    {
     "data": {
      "text/html": [
       "<div>\n",
       "<style scoped>\n",
       "    .dataframe tbody tr th:only-of-type {\n",
       "        vertical-align: middle;\n",
       "    }\n",
       "\n",
       "    .dataframe tbody tr th {\n",
       "        vertical-align: top;\n",
       "    }\n",
       "\n",
       "    .dataframe thead th {\n",
       "        text-align: right;\n",
       "    }\n",
       "</style>\n",
       "<table border=\"1\" class=\"dataframe\">\n",
       "  <thead>\n",
       "    <tr style=\"text-align: right;\">\n",
       "      <th></th>\n",
       "      <th>Media</th>\n",
       "    </tr>\n",
       "    <tr>\n",
       "      <th>Fecha</th>\n",
       "      <th></th>\n",
       "    </tr>\n",
       "  </thead>\n",
       "  <tbody>\n",
       "    <tr>\n",
       "      <th>2016-01-01 00:00:00</th>\n",
       "      <td>581.596007</td>\n",
       "    </tr>\n",
       "    <tr>\n",
       "      <th>2016-01-01 01:00:00</th>\n",
       "      <td>581.596007</td>\n",
       "    </tr>\n",
       "    <tr>\n",
       "      <th>2016-01-01 02:00:00</th>\n",
       "      <td>581.596007</td>\n",
       "    </tr>\n",
       "    <tr>\n",
       "      <th>2016-01-01 03:00:00</th>\n",
       "      <td>555.324180</td>\n",
       "    </tr>\n",
       "    <tr>\n",
       "      <th>2016-01-01 04:00:00</th>\n",
       "      <td>441.649571</td>\n",
       "    </tr>\n",
       "    <tr>\n",
       "      <th>2016-01-01 05:00:00</th>\n",
       "      <td>389.412491</td>\n",
       "    </tr>\n",
       "    <tr>\n",
       "      <th>2016-01-01 06:00:00</th>\n",
       "      <td>336.715347</td>\n",
       "    </tr>\n",
       "    <tr>\n",
       "      <th>2016-01-01 07:00:00</th>\n",
       "      <td>325.144262</td>\n",
       "    </tr>\n",
       "    <tr>\n",
       "      <th>2016-01-01 08:00:00</th>\n",
       "      <td>322.612344</td>\n",
       "    </tr>\n",
       "    <tr>\n",
       "      <th>2016-01-01 09:00:00</th>\n",
       "      <td>318.953726</td>\n",
       "    </tr>\n",
       "    <tr>\n",
       "      <th>2016-01-01 10:00:00</th>\n",
       "      <td>308.812310</td>\n",
       "    </tr>\n",
       "    <tr>\n",
       "      <th>2016-01-01 11:00:00</th>\n",
       "      <td>309.149952</td>\n",
       "    </tr>\n",
       "    <tr>\n",
       "      <th>2016-01-01 12:00:00</th>\n",
       "      <td>318.780120</td>\n",
       "    </tr>\n",
       "    <tr>\n",
       "      <th>2016-01-01 13:00:00</th>\n",
       "      <td>418.840881</td>\n",
       "    </tr>\n",
       "    <tr>\n",
       "      <th>2016-01-01 14:00:00</th>\n",
       "      <td>556.272029</td>\n",
       "    </tr>\n",
       "    <tr>\n",
       "      <th>2016-01-01 15:00:00</th>\n",
       "      <td>573.016038</td>\n",
       "    </tr>\n",
       "    <tr>\n",
       "      <th>2016-01-01 16:00:00</th>\n",
       "      <td>523.389982</td>\n",
       "    </tr>\n",
       "    <tr>\n",
       "      <th>2016-01-01 17:00:00</th>\n",
       "      <td>523.752771</td>\n",
       "    </tr>\n",
       "    <tr>\n",
       "      <th>2016-01-01 18:00:00</th>\n",
       "      <td>541.897978</td>\n",
       "    </tr>\n",
       "    <tr>\n",
       "      <th>2016-01-01 19:00:00</th>\n",
       "      <td>656.299583</td>\n",
       "    </tr>\n",
       "    <tr>\n",
       "      <th>2016-01-01 20:00:00</th>\n",
       "      <td>684.064928</td>\n",
       "    </tr>\n",
       "    <tr>\n",
       "      <th>2016-01-01 21:00:00</th>\n",
       "      <td>674.061459</td>\n",
       "    </tr>\n",
       "    <tr>\n",
       "      <th>2016-01-01 22:00:00</th>\n",
       "      <td>646.336106</td>\n",
       "    </tr>\n",
       "    <tr>\n",
       "      <th>2016-01-01 23:00:00</th>\n",
       "      <td>523.713840</td>\n",
       "    </tr>\n",
       "  </tbody>\n",
       "</table>\n",
       "</div>"
      ],
      "text/plain": [
       "                          Media\n",
       "Fecha                          \n",
       "2016-01-01 00:00:00  581.596007\n",
       "2016-01-01 01:00:00  581.596007\n",
       "2016-01-01 02:00:00  581.596007\n",
       "2016-01-01 03:00:00  555.324180\n",
       "2016-01-01 04:00:00  441.649571\n",
       "2016-01-01 05:00:00  389.412491\n",
       "2016-01-01 06:00:00  336.715347\n",
       "2016-01-01 07:00:00  325.144262\n",
       "2016-01-01 08:00:00  322.612344\n",
       "2016-01-01 09:00:00  318.953726\n",
       "2016-01-01 10:00:00  308.812310\n",
       "2016-01-01 11:00:00  309.149952\n",
       "2016-01-01 12:00:00  318.780120\n",
       "2016-01-01 13:00:00  418.840881\n",
       "2016-01-01 14:00:00  556.272029\n",
       "2016-01-01 15:00:00  573.016038\n",
       "2016-01-01 16:00:00  523.389982\n",
       "2016-01-01 17:00:00  523.752771\n",
       "2016-01-01 18:00:00  541.897978\n",
       "2016-01-01 19:00:00  656.299583\n",
       "2016-01-01 20:00:00  684.064928\n",
       "2016-01-01 21:00:00  674.061459\n",
       "2016-01-01 22:00:00  646.336106\n",
       "2016-01-01 23:00:00  523.713840"
      ]
     },
     "execution_count": 57,
     "metadata": {},
     "output_type": "execute_result"
    }
   ],
   "source": [
    "pred_dates_RF = pred_dates.copy()\n",
    "pred_dates_RF['Media'] = pred_RF\n",
    "pred_dates_RF.set_index('Fecha',inplace=True)\n",
    "pred_dates_RF"
   ]
  },
  {
   "cell_type": "code",
   "execution_count": 58,
   "id": "professional-accommodation",
   "metadata": {},
   "outputs": [
    {
     "data": {
      "image/png": "[encoded data removed]",
      "text/plain": [
       "<Figure size 720x360 with 1 Axes>"
      ]
     },
     "metadata": {},
     "output_type": "display_data"
    }
   ],
   "source": [
    "pred_dates_RF.plot(figsize=(10, 5))\n",
    "plt.margins(x=0,y=0)\n",
    "plt.show()"
   ]
  },
  {
   "cell_type": "code",
   "execution_count": 59,
   "id": "reflected-brick",
   "metadata": {},
   "outputs": [
    {
     "data": {
      "text/plain": [
       "[Text(0.5, 1.0, 'Predicciones RF')]"
      ]
     },
     "execution_count": 59,
     "metadata": {},
     "output_type": "execute_result"
    },
    {
     "data": {
      "image/png": "[encoded data removed]",
      "text/plain": [
       "<Figure size 720x360 with 1 Axes>"
      ]
     },
     "metadata": {},
     "output_type": "display_data"
    }
   ],
   "source": [
    "sns.set_theme(style='darkgrid')\n",
    "plt.figure(figsize=(10, 5))\n",
    "plt.margins(x=0,y=0)\n",
    "sns.lineplot(x ='Fecha',y='Media',data=pred_dates_RF).set(title='Predicciones RF')"
   ]
  },
  {
   "cell_type": "code",
   "execution_count": 117,
   "id": "junior-diana",
   "metadata": {},
   "outputs": [
    {
     "name": "stdout",
     "output_type": "stream",
     "text": [
      "Archivo Creado Correctamente\n"
     ]
    }
   ],
   "source": [
    "#Guardamos dataframe\n",
    "df_rf_series_data = pred_dates_RF.to_csv(r'/../../TFM/Machine_Learning_Data/temp_series_data/series_rf_data.csv',sep=';', index = True, header=True)\n",
    "\n",
    "try:\n",
    "    df_rf_series_data\n",
    "    print('Archivo Creado Correctamente')\n",
    "except EmptyDataError as ex:\n",
    "    print('Datos Vacíos: \\n',ex)\n",
    "except ParserError as ex:\n",
    "    print('Error Parseo Archivo: \\n',ex)\n",
    "except Exception as ex:\n",
    "    print('Archivo Creado con Errores: \\n',ex)"
   ]
  },
  {
   "cell_type": "markdown",
   "id": "everyday-frame",
   "metadata": {},
   "source": [
    "### 4.- Naive Bayes"
   ]
  },
  {
   "cell_type": "code",
   "execution_count": 60,
   "id": "congressional-minneapolis",
   "metadata": {},
   "outputs": [],
   "source": [
    "#Import Naive Bayes \n",
    "from sklearn.naive_bayes import GaussianNB"
   ]
  },
  {
   "cell_type": "code",
   "execution_count": 61,
   "id": "mineral-recipe",
   "metadata": {},
   "outputs": [
    {
     "data": {
      "text/html": [
       "<div>\n",
       "<style scoped>\n",
       "    .dataframe tbody tr th:only-of-type {\n",
       "        vertical-align: middle;\n",
       "    }\n",
       "\n",
       "    .dataframe tbody tr th {\n",
       "        vertical-align: top;\n",
       "    }\n",
       "\n",
       "    .dataframe thead th {\n",
       "        text-align: right;\n",
       "    }\n",
       "</style>\n",
       "<table border=\"1\" class=\"dataframe\">\n",
       "  <thead>\n",
       "    <tr style=\"text-align: right;\">\n",
       "      <th></th>\n",
       "      <th>date</th>\n",
       "      <th>fecha</th>\n",
       "      <th>horas</th>\n",
       "      <th>estado</th>\n",
       "      <th>tiempo</th>\n",
       "    </tr>\n",
       "  </thead>\n",
       "  <tbody>\n",
       "    <tr>\n",
       "      <th>0</th>\n",
       "      <td>1</td>\n",
       "      <td>2015-01-01</td>\n",
       "      <td>00:00:00</td>\n",
       "      <td>221.141660</td>\n",
       "      <td>2015-01-01 00:00:00</td>\n",
       "    </tr>\n",
       "    <tr>\n",
       "      <th>1</th>\n",
       "      <td>2</td>\n",
       "      <td>2015-01-01</td>\n",
       "      <td>01:00:00</td>\n",
       "      <td>668.117065</td>\n",
       "      <td>2015-01-01 01:00:00</td>\n",
       "    </tr>\n",
       "    <tr>\n",
       "      <th>2</th>\n",
       "      <td>3</td>\n",
       "      <td>2015-01-01</td>\n",
       "      <td>02:00:00</td>\n",
       "      <td>548.699670</td>\n",
       "      <td>2015-01-01 02:00:00</td>\n",
       "    </tr>\n",
       "    <tr>\n",
       "      <th>3</th>\n",
       "      <td>4</td>\n",
       "      <td>2015-01-01</td>\n",
       "      <td>03:00:00</td>\n",
       "      <td>421.338321</td>\n",
       "      <td>2015-01-01 03:00:00</td>\n",
       "    </tr>\n",
       "    <tr>\n",
       "      <th>4</th>\n",
       "      <td>5</td>\n",
       "      <td>2015-01-01</td>\n",
       "      <td>04:00:00</td>\n",
       "      <td>360.711426</td>\n",
       "      <td>2015-01-01 04:00:00</td>\n",
       "    </tr>\n",
       "    <tr>\n",
       "      <th>...</th>\n",
       "      <td>...</td>\n",
       "      <td>...</td>\n",
       "      <td>...</td>\n",
       "      <td>...</td>\n",
       "      <td>...</td>\n",
       "    </tr>\n",
       "    <tr>\n",
       "      <th>7897</th>\n",
       "      <td>7878</td>\n",
       "      <td>2015-12-31</td>\n",
       "      <td>16:00:00</td>\n",
       "      <td>774.577558</td>\n",
       "      <td>2015-12-31 16:00:00</td>\n",
       "    </tr>\n",
       "    <tr>\n",
       "      <th>7898</th>\n",
       "      <td>7879</td>\n",
       "      <td>2015-12-31</td>\n",
       "      <td>17:00:00</td>\n",
       "      <td>782.537461</td>\n",
       "      <td>2015-12-31 17:00:00</td>\n",
       "    </tr>\n",
       "    <tr>\n",
       "      <th>7899</th>\n",
       "      <td>7880</td>\n",
       "      <td>2015-12-31</td>\n",
       "      <td>18:00:00</td>\n",
       "      <td>801.316049</td>\n",
       "      <td>2015-12-31 18:00:00</td>\n",
       "    </tr>\n",
       "    <tr>\n",
       "      <th>7900</th>\n",
       "      <td>7881</td>\n",
       "      <td>2015-12-31</td>\n",
       "      <td>22:00:00</td>\n",
       "      <td>336.165557</td>\n",
       "      <td>2015-12-31 22:00:00</td>\n",
       "    </tr>\n",
       "    <tr>\n",
       "      <th>7901</th>\n",
       "      <td>7882</td>\n",
       "      <td>2015-12-31</td>\n",
       "      <td>23:00:00</td>\n",
       "      <td>217.633838</td>\n",
       "      <td>2015-12-31 23:00:00</td>\n",
       "    </tr>\n",
       "  </tbody>\n",
       "</table>\n",
       "<p>7882 rows × 5 columns</p>\n",
       "</div>"
      ],
      "text/plain": [
       "      date       fecha     horas      estado              tiempo\n",
       "0        1  2015-01-01  00:00:00  221.141660 2015-01-01 00:00:00\n",
       "1        2  2015-01-01  01:00:00  668.117065 2015-01-01 01:00:00\n",
       "2        3  2015-01-01  02:00:00  548.699670 2015-01-01 02:00:00\n",
       "3        4  2015-01-01  03:00:00  421.338321 2015-01-01 03:00:00\n",
       "4        5  2015-01-01  04:00:00  360.711426 2015-01-01 04:00:00\n",
       "...    ...         ...       ...         ...                 ...\n",
       "7897  7878  2015-12-31  16:00:00  774.577558 2015-12-31 16:00:00\n",
       "7898  7879  2015-12-31  17:00:00  782.537461 2015-12-31 17:00:00\n",
       "7899  7880  2015-12-31  18:00:00  801.316049 2015-12-31 18:00:00\n",
       "7900  7881  2015-12-31  22:00:00  336.165557 2015-12-31 22:00:00\n",
       "7901  7882  2015-12-31  23:00:00  217.633838 2015-12-31 23:00:00\n",
       "\n",
       "[7882 rows x 5 columns]"
      ]
     },
     "execution_count": 61,
     "metadata": {},
     "output_type": "execute_result"
    }
   ],
   "source": [
    "df_NB = df_media_red.copy()\n",
    "df_NB"
   ]
  },
  {
   "cell_type": "code",
   "execution_count": 62,
   "id": "qualified-glance",
   "metadata": {},
   "outputs": [],
   "source": [
    "#Selección variables independientes y dependientes\n",
    "X_train_NB = df_NB['date'] # Features \n",
    "y_train_NB = df_NB['estado'] # Target variable"
   ]
  },
  {
   "cell_type": "code",
   "execution_count": 63,
   "id": "overhead-change",
   "metadata": {},
   "outputs": [],
   "source": [
    "#División Train y Test\n",
    "X_train,X_test,y_train,y_test=train_test_split(X_train_RFr,y_train_RFr,test_size=0.25,random_state=42)"
   ]
  },
  {
   "cell_type": "code",
   "execution_count": 64,
   "id": "empirical-victim",
   "metadata": {},
   "outputs": [],
   "source": [
    "sc = StandardScaler()\n",
    "X_train = sc.fit_transform(X_train.values.reshape(-1, 1))\n",
    "X_test = sc.transform(X_test.values.reshape(-1, 1))"
   ]
  },
  {
   "cell_type": "code",
   "execution_count": 65,
   "id": "spoken-height",
   "metadata": {},
   "outputs": [
    {
     "data": {
      "text/plain": [
       "GaussianNB()"
      ]
     },
     "execution_count": 65,
     "metadata": {},
     "output_type": "execute_result"
    }
   ],
   "source": [
    "#Clasificador\n",
    "modelo_NB = GaussianNB()\n",
    "\n",
    "#Entrenamiento del Modelo \n",
    "modelo_NB.fit(X_train.astype(int), y_train.astype(int))"
   ]
  },
  {
   "cell_type": "code",
   "execution_count": 66,
   "id": "warming-technology",
   "metadata": {
    "scrolled": true
   },
   "outputs": [
    {
     "name": "stdout",
     "output_type": "stream",
     "text": [
      "[1341 1341  365 ...  365 1133 1341]\n"
     ]
    }
   ],
   "source": [
    "#Predictions\n",
    "y_pred = modelo_NB.predict(X_test)\n",
    "print(y_pred)"
   ]
  },
  {
   "cell_type": "code",
   "execution_count": 67,
   "id": "likely-christian",
   "metadata": {},
   "outputs": [
    {
     "name": "stdout",
     "output_type": "stream",
     "text": [
      "RMSE NB:  621.202\n"
     ]
    }
   ],
   "source": [
    "#RMSE de NB\n",
    "print('RMSE NB: ',round(np.sqrt(metrics.mean_squared_error(y_test, y_pred)),3))"
   ]
  },
  {
   "cell_type": "code",
   "execution_count": 68,
   "id": "revolutionary-savings",
   "metadata": {},
   "outputs": [
    {
     "name": "stdout",
     "output_type": "stream",
     "text": [
      "[191 995  59 608 608 608 608 608 608 608 608 280 280 280 280 280 280 280\n",
      " 280 280 280 280 280 280]\n"
     ]
    }
   ],
   "source": [
    "x_new_NB = np.arange(24).reshape((-1, 1))\n",
    "pred_NB = modelo_NB.predict(x_new_NB)\n",
    "print(pred_NB)"
   ]
  },
  {
   "cell_type": "code",
   "execution_count": 69,
   "id": "accurate-pharmaceutical",
   "metadata": {},
   "outputs": [
    {
     "data": {
      "text/html": [
       "<div>\n",
       "<style scoped>\n",
       "    .dataframe tbody tr th:only-of-type {\n",
       "        vertical-align: middle;\n",
       "    }\n",
       "\n",
       "    .dataframe tbody tr th {\n",
       "        vertical-align: top;\n",
       "    }\n",
       "\n",
       "    .dataframe thead th {\n",
       "        text-align: right;\n",
       "    }\n",
       "</style>\n",
       "<table border=\"1\" class=\"dataframe\">\n",
       "  <thead>\n",
       "    <tr style=\"text-align: right;\">\n",
       "      <th></th>\n",
       "      <th>Media</th>\n",
       "    </tr>\n",
       "    <tr>\n",
       "      <th>Fecha</th>\n",
       "      <th></th>\n",
       "    </tr>\n",
       "  </thead>\n",
       "  <tbody>\n",
       "    <tr>\n",
       "      <th>2016-01-01 00:00:00</th>\n",
       "      <td>191</td>\n",
       "    </tr>\n",
       "    <tr>\n",
       "      <th>2016-01-01 01:00:00</th>\n",
       "      <td>995</td>\n",
       "    </tr>\n",
       "    <tr>\n",
       "      <th>2016-01-01 02:00:00</th>\n",
       "      <td>59</td>\n",
       "    </tr>\n",
       "    <tr>\n",
       "      <th>2016-01-01 03:00:00</th>\n",
       "      <td>608</td>\n",
       "    </tr>\n",
       "    <tr>\n",
       "      <th>2016-01-01 04:00:00</th>\n",
       "      <td>608</td>\n",
       "    </tr>\n",
       "    <tr>\n",
       "      <th>2016-01-01 05:00:00</th>\n",
       "      <td>608</td>\n",
       "    </tr>\n",
       "    <tr>\n",
       "      <th>2016-01-01 06:00:00</th>\n",
       "      <td>608</td>\n",
       "    </tr>\n",
       "    <tr>\n",
       "      <th>2016-01-01 07:00:00</th>\n",
       "      <td>608</td>\n",
       "    </tr>\n",
       "    <tr>\n",
       "      <th>2016-01-01 08:00:00</th>\n",
       "      <td>608</td>\n",
       "    </tr>\n",
       "    <tr>\n",
       "      <th>2016-01-01 09:00:00</th>\n",
       "      <td>608</td>\n",
       "    </tr>\n",
       "    <tr>\n",
       "      <th>2016-01-01 10:00:00</th>\n",
       "      <td>608</td>\n",
       "    </tr>\n",
       "    <tr>\n",
       "      <th>2016-01-01 11:00:00</th>\n",
       "      <td>280</td>\n",
       "    </tr>\n",
       "    <tr>\n",
       "      <th>2016-01-01 12:00:00</th>\n",
       "      <td>280</td>\n",
       "    </tr>\n",
       "    <tr>\n",
       "      <th>2016-01-01 13:00:00</th>\n",
       "      <td>280</td>\n",
       "    </tr>\n",
       "    <tr>\n",
       "      <th>2016-01-01 14:00:00</th>\n",
       "      <td>280</td>\n",
       "    </tr>\n",
       "    <tr>\n",
       "      <th>2016-01-01 15:00:00</th>\n",
       "      <td>280</td>\n",
       "    </tr>\n",
       "    <tr>\n",
       "      <th>2016-01-01 16:00:00</th>\n",
       "      <td>280</td>\n",
       "    </tr>\n",
       "    <tr>\n",
       "      <th>2016-01-01 17:00:00</th>\n",
       "      <td>280</td>\n",
       "    </tr>\n",
       "    <tr>\n",
       "      <th>2016-01-01 18:00:00</th>\n",
       "      <td>280</td>\n",
       "    </tr>\n",
       "    <tr>\n",
       "      <th>2016-01-01 19:00:00</th>\n",
       "      <td>280</td>\n",
       "    </tr>\n",
       "    <tr>\n",
       "      <th>2016-01-01 20:00:00</th>\n",
       "      <td>280</td>\n",
       "    </tr>\n",
       "    <tr>\n",
       "      <th>2016-01-01 21:00:00</th>\n",
       "      <td>280</td>\n",
       "    </tr>\n",
       "    <tr>\n",
       "      <th>2016-01-01 22:00:00</th>\n",
       "      <td>280</td>\n",
       "    </tr>\n",
       "    <tr>\n",
       "      <th>2016-01-01 23:00:00</th>\n",
       "      <td>280</td>\n",
       "    </tr>\n",
       "  </tbody>\n",
       "</table>\n",
       "</div>"
      ],
      "text/plain": [
       "                     Media\n",
       "Fecha                     \n",
       "2016-01-01 00:00:00    191\n",
       "2016-01-01 01:00:00    995\n",
       "2016-01-01 02:00:00     59\n",
       "2016-01-01 03:00:00    608\n",
       "2016-01-01 04:00:00    608\n",
       "2016-01-01 05:00:00    608\n",
       "2016-01-01 06:00:00    608\n",
       "2016-01-01 07:00:00    608\n",
       "2016-01-01 08:00:00    608\n",
       "2016-01-01 09:00:00    608\n",
       "2016-01-01 10:00:00    608\n",
       "2016-01-01 11:00:00    280\n",
       "2016-01-01 12:00:00    280\n",
       "2016-01-01 13:00:00    280\n",
       "2016-01-01 14:00:00    280\n",
       "2016-01-01 15:00:00    280\n",
       "2016-01-01 16:00:00    280\n",
       "2016-01-01 17:00:00    280\n",
       "2016-01-01 18:00:00    280\n",
       "2016-01-01 19:00:00    280\n",
       "2016-01-01 20:00:00    280\n",
       "2016-01-01 21:00:00    280\n",
       "2016-01-01 22:00:00    280\n",
       "2016-01-01 23:00:00    280"
      ]
     },
     "execution_count": 69,
     "metadata": {},
     "output_type": "execute_result"
    }
   ],
   "source": [
    "pred_dates_NB = pred_dates.copy()\n",
    "pred_dates_NB['Media'] = pred_NB\n",
    "pred_dates_NB.set_index('Fecha',inplace=True)\n",
    "pred_dates_NB"
   ]
  },
  {
   "cell_type": "code",
   "execution_count": 70,
   "id": "magnetic-liberty",
   "metadata": {},
   "outputs": [
    {
     "data": {
      "image/png": "[encoded data removed]",
      "text/plain": [
       "<Figure size 720x360 with 1 Axes>"
      ]
     },
     "metadata": {},
     "output_type": "display_data"
    }
   ],
   "source": [
    "pred_dates_NB.plot(figsize=(10, 5))\n",
    "#plt.margins(x=0,y=0)\n",
    "plt.show()"
   ]
  },
  {
   "cell_type": "code",
   "execution_count": 71,
   "id": "local-absence",
   "metadata": {},
   "outputs": [
    {
     "data": {
      "text/plain": [
       "[Text(0.5, 1.0, 'Predicciones Naive Bayes')]"
      ]
     },
     "execution_count": 71,
     "metadata": {},
     "output_type": "execute_result"
    },
    {
     "data": {
      "image/png": "[encoded data removed]",
      "text/plain": [
       "<Figure size 720x360 with 1 Axes>"
      ]
     },
     "metadata": {},
     "output_type": "display_data"
    }
   ],
   "source": [
    "sns.set_theme(style='darkgrid')\n",
    "plt.figure(figsize=(10, 5))\n",
    "plt.margins(x=0,y=0)\n",
    "sns.lineplot(x ='Fecha',y='Media',data=pred_dates_NB).set(title='Predicciones Naive Bayes')"
   ]
  },
  {
   "cell_type": "code",
   "execution_count": 130,
   "id": "intimate-wales",
   "metadata": {},
   "outputs": [
    {
     "name": "stdout",
     "output_type": "stream",
     "text": [
      "Archivo Creado Correctamente\n"
     ]
    }
   ],
   "source": [
    "#Guardamos dataframe\n",
    "df_NB_series_data = pred_dates_NB.to_csv(r'/../../TFM/Machine_Learning_Data/temp_series_data/series_NB_data.csv',sep=';', index = True, header=True)\n",
    "\n",
    "try:\n",
    "    df_NB_series_data\n",
    "    print('Archivo Creado Correctamente')\n",
    "except EmptyDataError as ex:\n",
    "    print('Datos Vacíos: \\n',ex)\n",
    "except ParserError as ex:\n",
    "    print('Error Parseo Archivo: \\n',ex)\n",
    "except Exception as ex:\n",
    "    print('Archivo Creado con Errores: \\n',ex)"
   ]
  },
  {
   "cell_type": "markdown",
   "id": "returning-length",
   "metadata": {},
   "source": [
    "### 5.- Neural Network"
   ]
  },
  {
   "cell_type": "code",
   "execution_count": 72,
   "id": "contained-helena",
   "metadata": {},
   "outputs": [],
   "source": [
    "import tensorflow as tf\n",
    "from tensorflow.keras import Sequential\n",
    "from tensorflow.keras.layers import Dense, Dropout\n",
    "from tensorflow import keras\n",
    "\n",
    "from sklearn.preprocessing import StandardScaler,LabelEncoder, OneHotEncoder\n",
    "from sklearn.compose import make_column_transformer, ColumnTransformer"
   ]
  },
  {
   "cell_type": "code",
   "execution_count": 73,
   "id": "nearby-legislation",
   "metadata": {},
   "outputs": [
    {
     "name": "stdout",
     "output_type": "stream",
     "text": [
      "Versión TensorFlow:  2.5.0\n"
     ]
    }
   ],
   "source": [
    "print('Versión TensorFlow: ',tf.__version__)"
   ]
  },
  {
   "cell_type": "code",
   "execution_count": 74,
   "id": "familiar-handy",
   "metadata": {},
   "outputs": [
    {
     "data": {
      "text/html": [
       "<div>\n",
       "<style scoped>\n",
       "    .dataframe tbody tr th:only-of-type {\n",
       "        vertical-align: middle;\n",
       "    }\n",
       "\n",
       "    .dataframe tbody tr th {\n",
       "        vertical-align: top;\n",
       "    }\n",
       "\n",
       "    .dataframe thead th {\n",
       "        text-align: right;\n",
       "    }\n",
       "</style>\n",
       "<table border=\"1\" class=\"dataframe\">\n",
       "  <thead>\n",
       "    <tr style=\"text-align: right;\">\n",
       "      <th></th>\n",
       "      <th>date</th>\n",
       "      <th>fecha</th>\n",
       "      <th>horas</th>\n",
       "      <th>estado</th>\n",
       "      <th>tiempo</th>\n",
       "    </tr>\n",
       "  </thead>\n",
       "  <tbody>\n",
       "    <tr>\n",
       "      <th>0</th>\n",
       "      <td>1</td>\n",
       "      <td>2015-01-01</td>\n",
       "      <td>00:00:00</td>\n",
       "      <td>221.141660</td>\n",
       "      <td>2015-01-01 00:00:00</td>\n",
       "    </tr>\n",
       "    <tr>\n",
       "      <th>1</th>\n",
       "      <td>2</td>\n",
       "      <td>2015-01-01</td>\n",
       "      <td>01:00:00</td>\n",
       "      <td>668.117065</td>\n",
       "      <td>2015-01-01 01:00:00</td>\n",
       "    </tr>\n",
       "    <tr>\n",
       "      <th>2</th>\n",
       "      <td>3</td>\n",
       "      <td>2015-01-01</td>\n",
       "      <td>02:00:00</td>\n",
       "      <td>548.699670</td>\n",
       "      <td>2015-01-01 02:00:00</td>\n",
       "    </tr>\n",
       "    <tr>\n",
       "      <th>3</th>\n",
       "      <td>4</td>\n",
       "      <td>2015-01-01</td>\n",
       "      <td>03:00:00</td>\n",
       "      <td>421.338321</td>\n",
       "      <td>2015-01-01 03:00:00</td>\n",
       "    </tr>\n",
       "    <tr>\n",
       "      <th>4</th>\n",
       "      <td>5</td>\n",
       "      <td>2015-01-01</td>\n",
       "      <td>04:00:00</td>\n",
       "      <td>360.711426</td>\n",
       "      <td>2015-01-01 04:00:00</td>\n",
       "    </tr>\n",
       "    <tr>\n",
       "      <th>...</th>\n",
       "      <td>...</td>\n",
       "      <td>...</td>\n",
       "      <td>...</td>\n",
       "      <td>...</td>\n",
       "      <td>...</td>\n",
       "    </tr>\n",
       "    <tr>\n",
       "      <th>7897</th>\n",
       "      <td>7878</td>\n",
       "      <td>2015-12-31</td>\n",
       "      <td>16:00:00</td>\n",
       "      <td>774.577558</td>\n",
       "      <td>2015-12-31 16:00:00</td>\n",
       "    </tr>\n",
       "    <tr>\n",
       "      <th>7898</th>\n",
       "      <td>7879</td>\n",
       "      <td>2015-12-31</td>\n",
       "      <td>17:00:00</td>\n",
       "      <td>782.537461</td>\n",
       "      <td>2015-12-31 17:00:00</td>\n",
       "    </tr>\n",
       "    <tr>\n",
       "      <th>7899</th>\n",
       "      <td>7880</td>\n",
       "      <td>2015-12-31</td>\n",
       "      <td>18:00:00</td>\n",
       "      <td>801.316049</td>\n",
       "      <td>2015-12-31 18:00:00</td>\n",
       "    </tr>\n",
       "    <tr>\n",
       "      <th>7900</th>\n",
       "      <td>7881</td>\n",
       "      <td>2015-12-31</td>\n",
       "      <td>22:00:00</td>\n",
       "      <td>336.165557</td>\n",
       "      <td>2015-12-31 22:00:00</td>\n",
       "    </tr>\n",
       "    <tr>\n",
       "      <th>7901</th>\n",
       "      <td>7882</td>\n",
       "      <td>2015-12-31</td>\n",
       "      <td>23:00:00</td>\n",
       "      <td>217.633838</td>\n",
       "      <td>2015-12-31 23:00:00</td>\n",
       "    </tr>\n",
       "  </tbody>\n",
       "</table>\n",
       "<p>7882 rows × 5 columns</p>\n",
       "</div>"
      ],
      "text/plain": [
       "      date       fecha     horas      estado              tiempo\n",
       "0        1  2015-01-01  00:00:00  221.141660 2015-01-01 00:00:00\n",
       "1        2  2015-01-01  01:00:00  668.117065 2015-01-01 01:00:00\n",
       "2        3  2015-01-01  02:00:00  548.699670 2015-01-01 02:00:00\n",
       "3        4  2015-01-01  03:00:00  421.338321 2015-01-01 03:00:00\n",
       "4        5  2015-01-01  04:00:00  360.711426 2015-01-01 04:00:00\n",
       "...    ...         ...       ...         ...                 ...\n",
       "7897  7878  2015-12-31  16:00:00  774.577558 2015-12-31 16:00:00\n",
       "7898  7879  2015-12-31  17:00:00  782.537461 2015-12-31 17:00:00\n",
       "7899  7880  2015-12-31  18:00:00  801.316049 2015-12-31 18:00:00\n",
       "7900  7881  2015-12-31  22:00:00  336.165557 2015-12-31 22:00:00\n",
       "7901  7882  2015-12-31  23:00:00  217.633838 2015-12-31 23:00:00\n",
       "\n",
       "[7882 rows x 5 columns]"
      ]
     },
     "execution_count": 74,
     "metadata": {},
     "output_type": "execute_result"
    }
   ],
   "source": [
    "df_NN = df_media_red.copy()\n",
    "df_NN"
   ]
  },
  {
   "cell_type": "code",
   "execution_count": 75,
   "id": "colonial-torture",
   "metadata": {},
   "outputs": [],
   "source": [
    "#Selección variables independientes y dependientes\n",
    "X_train_NN = df_NN['date'] # Features \n",
    "y_train_NN = df_NN['estado'] # Target variable"
   ]
  },
  {
   "cell_type": "code",
   "execution_count": 76,
   "id": "korean-fusion",
   "metadata": {},
   "outputs": [],
   "source": [
    "#División Train y Test\n",
    "X_train,X_test,y_train,y_test=train_test_split(X_train_NN,y_train_NN,test_size=0.25,random_state=42)"
   ]
  },
  {
   "cell_type": "code",
   "execution_count": 77,
   "id": "included-republican",
   "metadata": {},
   "outputs": [
    {
     "name": "stdout",
     "output_type": "stream",
     "text": [
      "Entrenamiento:  (5911,)\n",
      "Test:  (1971,)\n"
     ]
    }
   ],
   "source": [
    "print('Entrenamiento: ',X_train.shape)\n",
    "print('Test: ', X_test.shape)"
   ]
  },
  {
   "cell_type": "code",
   "execution_count": 78,
   "id": "passive-basement",
   "metadata": {},
   "outputs": [],
   "source": [
    "# Define the scaler \n",
    "scaler = StandardScaler().fit(X_train.values.reshape(-1, 1))\n",
    "\n",
    "# Scale the train set\n",
    "X_train = scaler.transform(X_train.values.reshape(-1, 1))\n",
    "\n",
    "# Scale the test set\n",
    "X_test = scaler.transform(X_test.values.reshape(-1, 1))"
   ]
  },
  {
   "cell_type": "code",
   "execution_count": 79,
   "id": "catholic-liver",
   "metadata": {},
   "outputs": [],
   "source": [
    "#determine the number of input features\n",
    "\n",
    "model = keras.Sequential()\n",
    "model.add(Dense(12, activation='relu', kernel_initializer='he_normal',input_dim=1)) #capa oculta\n",
    "model.add( Dropout(0.5) ) #evitar overfitting\n",
    "\n",
    "model.add(Dense(8,activation='relu', kernel_initializer='he_normal')) #capa oculta\n",
    "model.add( Dropout(0.5) )\n",
    "\n",
    "model.add(Dense(4,activation='relu', kernel_initializer='he_normal')) #capa oculta\n",
    "model.add( Dropout(0.5) )\n",
    "\n",
    "model.add(Dense(1,activation='sigmoid')) #capa salida\n",
    "model.add( Dropout(0.5) )"
   ]
  },
  {
   "cell_type": "code",
   "execution_count": 80,
   "id": "finished-colon",
   "metadata": {
    "scrolled": true
   },
   "outputs": [
    {
     "name": "stdout",
     "output_type": "stream",
     "text": [
      "Model: \"sequential\"\n",
      "_________________________________________________________________\n",
      "Layer (type)                 Output Shape              Param #   \n",
      "=================================================================\n",
      "dense (Dense)                (None, 12)                24        \n",
      "_________________________________________________________________\n",
      "dropout (Dropout)            (None, 12)                0         \n",
      "_________________________________________________________________\n",
      "dense_1 (Dense)              (None, 8)                 104       \n",
      "_________________________________________________________________\n",
      "dropout_1 (Dropout)          (None, 8)                 0         \n",
      "_________________________________________________________________\n",
      "dense_2 (Dense)              (None, 4)                 36        \n",
      "_________________________________________________________________\n",
      "dropout_2 (Dropout)          (None, 4)                 0         \n",
      "_________________________________________________________________\n",
      "dense_3 (Dense)              (None, 1)                 5         \n",
      "_________________________________________________________________\n",
      "dropout_3 (Dropout)          (None, 1)                 0         \n",
      "=================================================================\n",
      "Total params: 169\n",
      "Trainable params: 169\n",
      "Non-trainable params: 0\n",
      "_________________________________________________________________\n"
     ]
    }
   ],
   "source": [
    "#model.compile(optimizer='adam', loss='binary_crossentropy', metrics=['accuracy'])\n",
    "model.compile(optimizer='adam',\\\n",
    "              loss='mean_squared_error',\\\n",
    "              metrics=['mse'])\n",
    "model.summary()"
   ]
  },
  {
   "cell_type": "code",
   "execution_count": 81,
   "id": "vietnamese-rough",
   "metadata": {},
   "outputs": [
    {
     "name": "stdout",
     "output_type": "stream",
     "text": [
      "Epoch 1/20\n",
      "6/6 [==============================] - 1s 29ms/step - loss: 865807.8750 - mse: 865807.8750 - val_loss: 890361.7500 - val_mse: 890361.7500\n",
      "Epoch 2/20\n",
      "6/6 [==============================] - 0s 5ms/step - loss: 865812.3750 - mse: 865812.3750 - val_loss: 890316.8750 - val_mse: 890316.8750\n",
      "Epoch 3/20\n",
      "6/6 [==============================] - 0s 6ms/step - loss: 865793.1250 - mse: 865793.1250 - val_loss: 890270.1250 - val_mse: 890270.1250\n",
      "Epoch 4/20\n",
      "6/6 [==============================] - 0s 7ms/step - loss: 865757.0000 - mse: 865757.0000 - val_loss: 890226.5625 - val_mse: 890226.5625\n",
      "Epoch 5/20\n",
      "6/6 [==============================] - 0s 6ms/step - loss: 865726.7500 - mse: 865726.7500 - val_loss: 890187.5000 - val_mse: 890187.5000\n",
      "Epoch 6/20\n",
      "6/6 [==============================] - 0s 5ms/step - loss: 865714.6250 - mse: 865714.6250 - val_loss: 890150.1250 - val_mse: 890150.1250\n",
      "Epoch 7/20\n",
      "6/6 [==============================] - 0s 4ms/step - loss: 865766.6875 - mse: 865766.6875 - val_loss: 890112.0625 - val_mse: 890112.0625\n",
      "Epoch 8/20\n",
      "6/6 [==============================] - 0s 5ms/step - loss: 865707.3750 - mse: 865707.3750 - val_loss: 890075.7500 - val_mse: 890075.7500\n",
      "Epoch 9/20\n",
      "6/6 [==============================] - 0s 5ms/step - loss: 865686.5625 - mse: 865686.5625 - val_loss: 890039.4375 - val_mse: 890039.4375\n",
      "Epoch 10/20\n",
      "6/6 [==============================] - 0s 6ms/step - loss: 865666.0000 - mse: 865666.0000 - val_loss: 889999.6250 - val_mse: 889999.6250\n",
      "Epoch 11/20\n",
      "6/6 [==============================] - 0s 5ms/step - loss: 865654.6875 - mse: 865654.6875 - val_loss: 889963.0625 - val_mse: 889963.0625\n",
      "Epoch 12/20\n",
      "6/6 [==============================] - 0s 5ms/step - loss: 865654.1250 - mse: 865654.1250 - val_loss: 889931.3125 - val_mse: 889931.3125\n",
      "Epoch 13/20\n",
      "6/6 [==============================] - 0s 5ms/step - loss: 865639.8750 - mse: 865639.8750 - val_loss: 889904.4375 - val_mse: 889904.4375\n",
      "Epoch 14/20\n",
      "6/6 [==============================] - 0s 6ms/step - loss: 865628.1250 - mse: 865628.1250 - val_loss: 889881.8750 - val_mse: 889881.8750\n",
      "Epoch 15/20\n",
      "6/6 [==============================] - 0s 10ms/step - loss: 865629.4375 - mse: 865629.4375 - val_loss: 889862.1250 - val_mse: 889862.1250\n",
      "Epoch 16/20\n",
      "6/6 [==============================] - 0s 5ms/step - loss: 865576.9375 - mse: 865576.9375 - val_loss: 889844.8125 - val_mse: 889844.8125\n",
      "Epoch 17/20\n",
      "6/6 [==============================] - 0s 6ms/step - loss: 865568.0000 - mse: 865568.0000 - val_loss: 889829.1875 - val_mse: 889829.1875\n",
      "Epoch 18/20\n",
      "6/6 [==============================] - 0s 5ms/step - loss: 865596.5000 - mse: 865596.5000 - val_loss: 889814.8750 - val_mse: 889814.8750\n",
      "Epoch 19/20\n",
      "6/6 [==============================] - 0s 7ms/step - loss: 865515.2500 - mse: 865515.2500 - val_loss: 889802.0625 - val_mse: 889802.0625\n",
      "Epoch 20/20\n",
      "6/6 [==============================] - 0s 5ms/step - loss: 865558.0625 - mse: 865558.0625 - val_loss: 889791.3125 - val_mse: 889791.3125\n"
     ]
    },
    {
     "data": {
      "text/plain": [
       "<tensorflow.python.keras.callbacks.History at 0x1b41e5340>"
      ]
     },
     "execution_count": 81,
     "metadata": {},
     "output_type": "execute_result"
    }
   ],
   "source": [
    "model_NN = model.fit(X_train, y_train, \\\n",
    "                    batch_size=1000, \\\n",
    "                    epochs=20, \\\n",
    "                    verbose=1,\\\n",
    "                    shuffle=True,\\\n",
    "                    validation_data=(X_test, y_test))\n",
    "model_NN"
   ]
  },
  {
   "cell_type": "code",
   "execution_count": 82,
   "id": "expensive-reservation",
   "metadata": {},
   "outputs": [
    {
     "name": "stdout",
     "output_type": "stream",
     "text": [
      "[[0.9815129 ]\n",
      " [0.9564841 ]\n",
      " [0.99984545]\n",
      " ...\n",
      " [0.9997767 ]\n",
      " [0.99270725]\n",
      " [0.98191655]]\n"
     ]
    }
   ],
   "source": [
    "#Model Predictions\n",
    "y_pred = model.predict(X_test)\n",
    "print(y_pred)"
   ]
  },
  {
   "cell_type": "code",
   "execution_count": 83,
   "id": "distant-kitchen",
   "metadata": {},
   "outputs": [
    {
     "name": "stdout",
     "output_type": "stream",
     "text": [
      "Accuracy: 889791.31\n",
      "RMSE NN 943.288\n"
     ]
    }
   ],
   "source": [
    "# evaluate the model\n",
    "loss, acc_nn = model.evaluate(X_test, y_test,verbose=0)\n",
    "print('Accuracy: %.2f' % (acc_nn))\n",
    "\n",
    "import math\n",
    "rmse_nn = math.sqrt(acc_nn)\n",
    "print('RMSE NN',round(rmse_nn,3))"
   ]
  },
  {
   "cell_type": "code",
   "execution_count": 84,
   "id": "vocational-buying",
   "metadata": {},
   "outputs": [
    {
     "name": "stdout",
     "output_type": "stream",
     "text": [
      "[[0.8183484 ]\n",
      " [0.99838936]\n",
      " [0.9999899 ]\n",
      " [1.        ]\n",
      " [1.        ]\n",
      " [1.        ]\n",
      " [1.        ]\n",
      " [1.        ]\n",
      " [1.        ]\n",
      " [1.        ]\n",
      " [1.        ]\n",
      " [1.        ]\n",
      " [1.        ]\n",
      " [1.        ]\n",
      " [1.        ]\n",
      " [1.        ]\n",
      " [1.        ]\n",
      " [1.        ]\n",
      " [1.        ]\n",
      " [1.        ]\n",
      " [1.        ]\n",
      " [1.        ]\n",
      " [1.        ]\n",
      " [1.        ]]\n"
     ]
    }
   ],
   "source": [
    "x_new_NN = np.arange(24).reshape((-1, 1))\n",
    "pred_NN = model.predict(x_new_NN)\n",
    "print(pred_NN)"
   ]
  },
  {
   "cell_type": "code",
   "execution_count": 85,
   "id": "sophisticated-institution",
   "metadata": {},
   "outputs": [
    {
     "data": {
      "text/plain": [
       "array([[5805.658 ],\n",
       "       [6212.883 ],\n",
       "       [6216.5034],\n",
       "       [6216.526 ],\n",
       "       [6216.526 ],\n",
       "       [6216.526 ],\n",
       "       [6216.526 ],\n",
       "       [6216.526 ],\n",
       "       [6216.526 ],\n",
       "       [6216.526 ],\n",
       "       [6216.526 ],\n",
       "       [6216.526 ],\n",
       "       [6216.526 ],\n",
       "       [6216.526 ],\n",
       "       [6216.526 ],\n",
       "       [6216.526 ],\n",
       "       [6216.526 ],\n",
       "       [6216.526 ],\n",
       "       [6216.526 ],\n",
       "       [6216.526 ],\n",
       "       [6216.526 ],\n",
       "       [6216.526 ],\n",
       "       [6216.526 ],\n",
       "       [6216.526 ]], dtype=float32)"
      ]
     },
     "execution_count": 85,
     "metadata": {},
     "output_type": "execute_result"
    }
   ],
   "source": [
    "#Invertimos los valores obtenidos en redes neuronales\n",
    "inverted_pred = scaler.inverse_transform(pred_NN)\n",
    "inverted_pred"
   ]
  },
  {
   "cell_type": "code",
   "execution_count": 86,
   "id": "nervous-catalyst",
   "metadata": {},
   "outputs": [
    {
     "data": {
      "text/html": [
       "<div>\n",
       "<style scoped>\n",
       "    .dataframe tbody tr th:only-of-type {\n",
       "        vertical-align: middle;\n",
       "    }\n",
       "\n",
       "    .dataframe tbody tr th {\n",
       "        vertical-align: top;\n",
       "    }\n",
       "\n",
       "    .dataframe thead th {\n",
       "        text-align: right;\n",
       "    }\n",
       "</style>\n",
       "<table border=\"1\" class=\"dataframe\">\n",
       "  <thead>\n",
       "    <tr style=\"text-align: right;\">\n",
       "      <th></th>\n",
       "      <th>Media</th>\n",
       "    </tr>\n",
       "    <tr>\n",
       "      <th>Fecha</th>\n",
       "      <th></th>\n",
       "    </tr>\n",
       "  </thead>\n",
       "  <tbody>\n",
       "    <tr>\n",
       "      <th>2016-01-01 00:00:00</th>\n",
       "      <td>5805.658203</td>\n",
       "    </tr>\n",
       "    <tr>\n",
       "      <th>2016-01-01 01:00:00</th>\n",
       "      <td>6212.882812</td>\n",
       "    </tr>\n",
       "    <tr>\n",
       "      <th>2016-01-01 02:00:00</th>\n",
       "      <td>6216.503418</td>\n",
       "    </tr>\n",
       "    <tr>\n",
       "      <th>2016-01-01 03:00:00</th>\n",
       "      <td>6216.525879</td>\n",
       "    </tr>\n",
       "    <tr>\n",
       "      <th>2016-01-01 04:00:00</th>\n",
       "      <td>6216.525879</td>\n",
       "    </tr>\n",
       "    <tr>\n",
       "      <th>2016-01-01 05:00:00</th>\n",
       "      <td>6216.525879</td>\n",
       "    </tr>\n",
       "    <tr>\n",
       "      <th>2016-01-01 06:00:00</th>\n",
       "      <td>6216.525879</td>\n",
       "    </tr>\n",
       "    <tr>\n",
       "      <th>2016-01-01 07:00:00</th>\n",
       "      <td>6216.525879</td>\n",
       "    </tr>\n",
       "    <tr>\n",
       "      <th>2016-01-01 08:00:00</th>\n",
       "      <td>6216.525879</td>\n",
       "    </tr>\n",
       "    <tr>\n",
       "      <th>2016-01-01 09:00:00</th>\n",
       "      <td>6216.525879</td>\n",
       "    </tr>\n",
       "    <tr>\n",
       "      <th>2016-01-01 10:00:00</th>\n",
       "      <td>6216.525879</td>\n",
       "    </tr>\n",
       "    <tr>\n",
       "      <th>2016-01-01 11:00:00</th>\n",
       "      <td>6216.525879</td>\n",
       "    </tr>\n",
       "    <tr>\n",
       "      <th>2016-01-01 12:00:00</th>\n",
       "      <td>6216.525879</td>\n",
       "    </tr>\n",
       "    <tr>\n",
       "      <th>2016-01-01 13:00:00</th>\n",
       "      <td>6216.525879</td>\n",
       "    </tr>\n",
       "    <tr>\n",
       "      <th>2016-01-01 14:00:00</th>\n",
       "      <td>6216.525879</td>\n",
       "    </tr>\n",
       "    <tr>\n",
       "      <th>2016-01-01 15:00:00</th>\n",
       "      <td>6216.525879</td>\n",
       "    </tr>\n",
       "    <tr>\n",
       "      <th>2016-01-01 16:00:00</th>\n",
       "      <td>6216.525879</td>\n",
       "    </tr>\n",
       "    <tr>\n",
       "      <th>2016-01-01 17:00:00</th>\n",
       "      <td>6216.525879</td>\n",
       "    </tr>\n",
       "    <tr>\n",
       "      <th>2016-01-01 18:00:00</th>\n",
       "      <td>6216.525879</td>\n",
       "    </tr>\n",
       "    <tr>\n",
       "      <th>2016-01-01 19:00:00</th>\n",
       "      <td>6216.525879</td>\n",
       "    </tr>\n",
       "    <tr>\n",
       "      <th>2016-01-01 20:00:00</th>\n",
       "      <td>6216.525879</td>\n",
       "    </tr>\n",
       "    <tr>\n",
       "      <th>2016-01-01 21:00:00</th>\n",
       "      <td>6216.525879</td>\n",
       "    </tr>\n",
       "    <tr>\n",
       "      <th>2016-01-01 22:00:00</th>\n",
       "      <td>6216.525879</td>\n",
       "    </tr>\n",
       "    <tr>\n",
       "      <th>2016-01-01 23:00:00</th>\n",
       "      <td>6216.525879</td>\n",
       "    </tr>\n",
       "  </tbody>\n",
       "</table>\n",
       "</div>"
      ],
      "text/plain": [
       "                           Media\n",
       "Fecha                           \n",
       "2016-01-01 00:00:00  5805.658203\n",
       "2016-01-01 01:00:00  6212.882812\n",
       "2016-01-01 02:00:00  6216.503418\n",
       "2016-01-01 03:00:00  6216.525879\n",
       "2016-01-01 04:00:00  6216.525879\n",
       "2016-01-01 05:00:00  6216.525879\n",
       "2016-01-01 06:00:00  6216.525879\n",
       "2016-01-01 07:00:00  6216.525879\n",
       "2016-01-01 08:00:00  6216.525879\n",
       "2016-01-01 09:00:00  6216.525879\n",
       "2016-01-01 10:00:00  6216.525879\n",
       "2016-01-01 11:00:00  6216.525879\n",
       "2016-01-01 12:00:00  6216.525879\n",
       "2016-01-01 13:00:00  6216.525879\n",
       "2016-01-01 14:00:00  6216.525879\n",
       "2016-01-01 15:00:00  6216.525879\n",
       "2016-01-01 16:00:00  6216.525879\n",
       "2016-01-01 17:00:00  6216.525879\n",
       "2016-01-01 18:00:00  6216.525879\n",
       "2016-01-01 19:00:00  6216.525879\n",
       "2016-01-01 20:00:00  6216.525879\n",
       "2016-01-01 21:00:00  6216.525879\n",
       "2016-01-01 22:00:00  6216.525879\n",
       "2016-01-01 23:00:00  6216.525879"
      ]
     },
     "execution_count": 86,
     "metadata": {},
     "output_type": "execute_result"
    }
   ],
   "source": [
    "pred_dates_NN = pred_dates.copy()\n",
    "pred_dates_NN['Media'] = inverted_pred\n",
    "pred_dates_NN.set_index('Fecha',inplace=True)\n",
    "pred_dates_NN"
   ]
  },
  {
   "cell_type": "code",
   "execution_count": 87,
   "id": "scheduled-tomato",
   "metadata": {},
   "outputs": [
    {
     "data": {
      "image/png": "[encoded data removed]",
      "text/plain": [
       "<Figure size 720x360 with 1 Axes>"
      ]
     },
     "metadata": {},
     "output_type": "display_data"
    }
   ],
   "source": [
    "pred_dates_NN.plot(figsize=(10, 5))\n",
    "plt.show()"
   ]
  },
  {
   "cell_type": "code",
   "execution_count": 88,
   "id": "skilled-console",
   "metadata": {},
   "outputs": [
    {
     "data": {
      "text/plain": [
       "[Text(0.5, 1.0, 'Predicciones Redes Neuronales')]"
      ]
     },
     "execution_count": 88,
     "metadata": {},
     "output_type": "execute_result"
    },
    {
     "data": {
      "image/png": "[encoded data removed]",
      "text/plain": [
       "<Figure size 720x360 with 1 Axes>"
      ]
     },
     "metadata": {},
     "output_type": "display_data"
    }
   ],
   "source": [
    "sns.set_theme(style='darkgrid')\n",
    "plt.figure(figsize=(10, 5))\n",
    "#plt.margins(x=0,y=0)\n",
    "sns.lineplot(x ='Fecha',y='Media',data=pred_dates_NN).set(title='Predicciones Redes Neuronales')"
   ]
  },
  {
   "cell_type": "code",
   "execution_count": 158,
   "id": "conceptual-legend",
   "metadata": {},
   "outputs": [
    {
     "name": "stdout",
     "output_type": "stream",
     "text": [
      "Archivo Creado Correctamente\n"
     ]
    }
   ],
   "source": [
    "#Guardamos dataframe\n",
    "df_NN_series_data = pred_dates_NN.to_csv(r'/../../TFM/Machine_Learning_Data/temp_series_data/series_NN_data.csv',sep=';', index = True, header=True)\n",
    "\n",
    "try:\n",
    "    df_NB_series_data\n",
    "    print('Archivo Creado Correctamente')\n",
    "except EmptyDataError as ex:\n",
    "    print('Datos Vacíos: \\n',ex)\n",
    "except ParserError as ex:\n",
    "    print('Error Parseo Archivo: \\n',ex)\n",
    "except Exception as ex:\n",
    "    print('Archivo Creado con Errores: \\n',ex)"
   ]
  },
  {
   "cell_type": "markdown",
   "id": "current-pitch",
   "metadata": {},
   "source": [
    "***Valores Modelos***"
   ]
  },
  {
   "cell_type": "code",
   "execution_count": 89,
   "id": "substantial-supplement",
   "metadata": {},
   "outputs": [
    {
     "data": {
      "text/html": [
       "<div>\n",
       "<style scoped>\n",
       "    .dataframe tbody tr th:only-of-type {\n",
       "        vertical-align: middle;\n",
       "    }\n",
       "\n",
       "    .dataframe tbody tr th {\n",
       "        vertical-align: top;\n",
       "    }\n",
       "\n",
       "    .dataframe thead th {\n",
       "        text-align: right;\n",
       "    }\n",
       "</style>\n",
       "<table border=\"1\" class=\"dataframe\">\n",
       "  <thead>\n",
       "    <tr style=\"text-align: right;\">\n",
       "      <th></th>\n",
       "      <th>Modelo</th>\n",
       "      <th>RMSE</th>\n",
       "    </tr>\n",
       "  </thead>\n",
       "  <tbody>\n",
       "    <tr>\n",
       "      <th>0</th>\n",
       "      <td>Regresión_Lineal</td>\n",
       "      <td>482.508</td>\n",
       "    </tr>\n",
       "    <tr>\n",
       "      <th>1</th>\n",
       "      <td>KNN</td>\n",
       "      <td>200.433</td>\n",
       "    </tr>\n",
       "    <tr>\n",
       "      <th>2</th>\n",
       "      <td>Random_Forest</td>\n",
       "      <td>444.184</td>\n",
       "    </tr>\n",
       "    <tr>\n",
       "      <th>3</th>\n",
       "      <td>Naive Bayes</td>\n",
       "      <td>621.202</td>\n",
       "    </tr>\n",
       "    <tr>\n",
       "      <th>4</th>\n",
       "      <td>Redes_Neuronales</td>\n",
       "      <td>943.315</td>\n",
       "    </tr>\n",
       "  </tbody>\n",
       "</table>\n",
       "</div>"
      ],
      "text/plain": [
       "             Modelo     RMSE\n",
       "0  Regresión_Lineal  482.508\n",
       "1               KNN  200.433\n",
       "2     Random_Forest  444.184\n",
       "3       Naive Bayes  621.202\n",
       "4  Redes_Neuronales  943.315"
      ]
     },
     "execution_count": 89,
     "metadata": {},
     "output_type": "execute_result"
    }
   ],
   "source": [
    "model_name = ['Regresión_Lineal','KNN','Random_Forest','Naive Bayes','Redes_Neuronales']\n",
    "model_value = [482.508,200.433,444.184,621.202,943.315]\n",
    "zip_model = zip(model_name,model_value)\n",
    "model_df = pd.DataFrame(zip_model, columns = ['Modelo' , 'RMSE'])\n",
    "model_df"
   ]
  },
  {
   "cell_type": "code",
   "execution_count": 90,
   "id": "applied-trash",
   "metadata": {},
   "outputs": [
    {
     "data": {
      "text/html": [
       "<style  type=\"text/css\" >\n",
       "#T_0e8f9_row0_col1{\n",
       "            background-color:  #4493c7;\n",
       "            color:  #000000;\n",
       "        }#T_0e8f9_row1_col1{\n",
       "            background-color:  #08306b;\n",
       "            color:  #f1f1f1;\n",
       "        }#T_0e8f9_row2_col1{\n",
       "            background-color:  #3585bf;\n",
       "            color:  #000000;\n",
       "        }#T_0e8f9_row3_col1{\n",
       "            background-color:  #85bcdc;\n",
       "            color:  #000000;\n",
       "        }#T_0e8f9_row4_col1{\n",
       "            background-color:  #f7fbff;\n",
       "            color:  #000000;\n",
       "        }</style><table id=\"T_0e8f9_\" ><caption>Comparación RMSE Modelos</caption><thead>    <tr>        <th class=\"blank level0\" ></th>        <th class=\"col_heading level0 col0\" >Modelo</th>        <th class=\"col_heading level0 col1\" >RMSE</th>    </tr></thead><tbody>\n",
       "                <tr>\n",
       "                        <th id=\"T_0e8f9_level0_row0\" class=\"row_heading level0 row0\" >0</th>\n",
       "                        <td id=\"T_0e8f9_row0_col0\" class=\"data row0 col0\" >Regresión_Lineal</td>\n",
       "                        <td id=\"T_0e8f9_row0_col1\" class=\"data row0 col1\" >482.508000</td>\n",
       "            </tr>\n",
       "            <tr>\n",
       "                        <th id=\"T_0e8f9_level0_row1\" class=\"row_heading level0 row1\" >1</th>\n",
       "                        <td id=\"T_0e8f9_row1_col0\" class=\"data row1 col0\" >KNN</td>\n",
       "                        <td id=\"T_0e8f9_row1_col1\" class=\"data row1 col1\" >200.433000</td>\n",
       "            </tr>\n",
       "            <tr>\n",
       "                        <th id=\"T_0e8f9_level0_row2\" class=\"row_heading level0 row2\" >2</th>\n",
       "                        <td id=\"T_0e8f9_row2_col0\" class=\"data row2 col0\" >Random_Forest</td>\n",
       "                        <td id=\"T_0e8f9_row2_col1\" class=\"data row2 col1\" >444.184000</td>\n",
       "            </tr>\n",
       "            <tr>\n",
       "                        <th id=\"T_0e8f9_level0_row3\" class=\"row_heading level0 row3\" >3</th>\n",
       "                        <td id=\"T_0e8f9_row3_col0\" class=\"data row3 col0\" >Naive Bayes</td>\n",
       "                        <td id=\"T_0e8f9_row3_col1\" class=\"data row3 col1\" >621.202000</td>\n",
       "            </tr>\n",
       "            <tr>\n",
       "                        <th id=\"T_0e8f9_level0_row4\" class=\"row_heading level0 row4\" >4</th>\n",
       "                        <td id=\"T_0e8f9_row4_col0\" class=\"data row4 col0\" >Redes_Neuronales</td>\n",
       "                        <td id=\"T_0e8f9_row4_col1\" class=\"data row4 col1\" >943.315000</td>\n",
       "            </tr>\n",
       "    </tbody></table>"
      ],
      "text/plain": [
       "<pandas.io.formats.style.Styler at 0x1b49875e0>"
      ]
     },
     "execution_count": 90,
     "metadata": {},
     "output_type": "execute_result"
    }
   ],
   "source": [
    "(model_df\n",
    " .style\n",
    " .background_gradient(subset=['RMSE'], cmap='Blues_r')\n",
    " .set_caption('Comparación RMSE Modelos'))"
   ]
  },
  {
   "cell_type": "code",
   "execution_count": null,
   "id": "devoted-three",
   "metadata": {},
   "outputs": [],
   "source": []
  }
 ],
 "metadata": {
  "kernelspec": {
   "display_name": "Python 3",
   "language": "python",
   "name": "python3"
  },
  "language_info": {
   "codemirror_mode": {
    "name": "ipython",
    "version": 3
   },
   "file_extension": ".py",
   "mimetype": "text/x-python",
   "name": "python",
   "nbconvert_exporter": "python",
   "pygments_lexer": "ipython3",
   "version": "3.9.2"
  }
 },
 "nbformat": 4,
 "nbformat_minor": 5
}
