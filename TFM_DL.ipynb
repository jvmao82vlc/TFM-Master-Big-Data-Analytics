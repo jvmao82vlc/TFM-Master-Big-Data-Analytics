{
 "cells": [
  {
   "cell_type": "markdown",
   "metadata": {},
   "source": [
    "## Deep Learning Methods"
   ]
  },
  {
   "cell_type": "code",
   "execution_count": 1,
   "metadata": {},
   "outputs": [
    {
     "name": "stderr",
     "output_type": "stream",
     "text": [
      "/usr/local/lib/python3.7/site-packages/matplotlib/__init__.py:886: MatplotlibDeprecationWarning: \n",
      "examples.directory is deprecated; in the future, examples will be found relative to the 'datapath' directory.\n",
      "  \"found relative to the 'datapath' directory.\".format(key))\n"
     ]
    }
   ],
   "source": [
    "#Imports\n",
    "# -*- coding: utf-8 -*-\n",
    "\n",
    "import pandas as pd\n",
    "import csv\n",
    "import numpy as np\n",
    "import os\n",
    "import glob\n",
    "import matplotlib.pyplot as plt\n",
    "import seaborn as sns\n",
    "from datetime import datetime\n",
    "\n",
    "from sklearn.model_selection import train_test_split\n",
    "from sklearn.metrics import classification_report, confusion_matrix\n",
    "from sklearn import metrics\n",
    "\n",
    "import warnings\n",
    "warnings.filterwarnings('ignore')"
   ]
  },
  {
   "cell_type": "code",
   "execution_count": 3,
   "metadata": {},
   "outputs": [
    {
     "data": {
      "text/html": [
       "<div>\n",
       "<style scoped>\n",
       "    .dataframe tbody tr th:only-of-type {\n",
       "        vertical-align: middle;\n",
       "    }\n",
       "\n",
       "    .dataframe tbody tr th {\n",
       "        vertical-align: top;\n",
       "    }\n",
       "\n",
       "    .dataframe thead th {\n",
       "        text-align: right;\n",
       "    }\n",
       "</style>\n",
       "<table border=\"1\" class=\"dataframe\">\n",
       "  <thead>\n",
       "    <tr style=\"text-align: right;\">\n",
       "      <th></th>\n",
       "      <th>timestamp</th>\n",
       "      <th>dias</th>\n",
       "      <th>id</th>\n",
       "      <th>tipo_estado</th>\n",
       "      <th>estado</th>\n",
       "    </tr>\n",
       "  </thead>\n",
       "  <tbody>\n",
       "    <tr>\n",
       "      <th>0</th>\n",
       "      <td>1420071301</td>\n",
       "      <td>4</td>\n",
       "      <td>101</td>\n",
       "      <td>1</td>\n",
       "      <td>140</td>\n",
       "    </tr>\n",
       "    <tr>\n",
       "      <th>1</th>\n",
       "      <td>1420071301</td>\n",
       "      <td>4</td>\n",
       "      <td>103</td>\n",
       "      <td>1</td>\n",
       "      <td>35</td>\n",
       "    </tr>\n",
       "    <tr>\n",
       "      <th>2</th>\n",
       "      <td>1420071301</td>\n",
       "      <td>4</td>\n",
       "      <td>105</td>\n",
       "      <td>1</td>\n",
       "      <td>173</td>\n",
       "    </tr>\n",
       "    <tr>\n",
       "      <th>3</th>\n",
       "      <td>1420071301</td>\n",
       "      <td>4</td>\n",
       "      <td>107</td>\n",
       "      <td>1</td>\n",
       "      <td>120</td>\n",
       "    </tr>\n",
       "    <tr>\n",
       "      <th>4</th>\n",
       "      <td>1420071301</td>\n",
       "      <td>4</td>\n",
       "      <td>108</td>\n",
       "      <td>1</td>\n",
       "      <td>143</td>\n",
       "    </tr>\n",
       "  </tbody>\n",
       "</table>\n",
       "</div>"
      ],
      "text/plain": [
       "    timestamp  dias   id  tipo_estado  estado\n",
       "0  1420071301     4  101            1     140\n",
       "1  1420071301     4  103            1      35\n",
       "2  1420071301     4  105            1     173\n",
       "3  1420071301     4  107            1     120\n",
       "4  1420071301     4  108            1     143"
      ]
     },
     "execution_count": 3,
     "metadata": {},
     "output_type": "execute_result"
    }
   ],
   "source": [
    "dataDL_section = pd.read_csv('../TFM/Machine_Learning_Data/deep/datos_DL.csv',sep=';',engine='python')\n",
    "dataDL_section.head(5)"
   ]
  },
  {
   "cell_type": "code",
   "execution_count": 4,
   "metadata": {},
   "outputs": [
    {
     "data": {
      "text/plain": [
       "(11729306, 5)"
      ]
     },
     "execution_count": 4,
     "metadata": {},
     "output_type": "execute_result"
    }
   ],
   "source": [
    "#Comprobamos Dimensión\n",
    "dataDL_section.shape"
   ]
  },
  {
   "cell_type": "code",
   "execution_count": 5,
   "metadata": {},
   "outputs": [
    {
     "data": {
      "text/html": [
       "<div>\n",
       "<style scoped>\n",
       "    .dataframe tbody tr th:only-of-type {\n",
       "        vertical-align: middle;\n",
       "    }\n",
       "\n",
       "    .dataframe tbody tr th {\n",
       "        vertical-align: top;\n",
       "    }\n",
       "\n",
       "    .dataframe thead th {\n",
       "        text-align: right;\n",
       "    }\n",
       "</style>\n",
       "<table border=\"1\" class=\"dataframe\">\n",
       "  <thead>\n",
       "    <tr style=\"text-align: right;\">\n",
       "      <th></th>\n",
       "      <th>count</th>\n",
       "      <th>mean</th>\n",
       "      <th>std</th>\n",
       "      <th>min</th>\n",
       "      <th>25%</th>\n",
       "      <th>50%</th>\n",
       "      <th>75%</th>\n",
       "      <th>max</th>\n",
       "    </tr>\n",
       "  </thead>\n",
       "  <tbody>\n",
       "    <tr>\n",
       "      <th>estado</th>\n",
       "      <td>11729306.0</td>\n",
       "      <td>809.073745</td>\n",
       "      <td>1093.543012</td>\n",
       "      <td>1.0</td>\n",
       "      <td>98.0</td>\n",
       "      <td>345.0</td>\n",
       "      <td>1059.0</td>\n",
       "      <td>17982.0</td>\n",
       "    </tr>\n",
       "  </tbody>\n",
       "</table>\n",
       "</div>"
      ],
      "text/plain": [
       "             count        mean          std  min   25%    50%     75%      max\n",
       "estado  11729306.0  809.073745  1093.543012  1.0  98.0  345.0  1059.0  17982.0"
      ]
     },
     "execution_count": 5,
     "metadata": {},
     "output_type": "execute_result"
    }
   ],
   "source": [
    "dataDL_section['estado'].describe().to_frame().T"
   ]
  },
  {
   "cell_type": "markdown",
   "metadata": {},
   "source": [
    "**1.- Neural Network**"
   ]
  },
  {
   "cell_type": "code",
   "execution_count": 6,
   "metadata": {},
   "outputs": [],
   "source": [
    "import tensorflow as tf\n",
    "from tensorflow.keras import Sequential\n",
    "from tensorflow.keras.layers import Dense, Dropout\n",
    "from tensorflow import keras\n",
    "\n",
    "from sklearn.preprocessing import StandardScaler,LabelEncoder, OneHotEncoder\n",
    "from sklearn.compose import make_column_transformer, ColumnTransformer"
   ]
  },
  {
   "cell_type": "code",
   "execution_count": 7,
   "metadata": {},
   "outputs": [
    {
     "name": "stdout",
     "output_type": "stream",
     "text": [
      "Versión TensorFlow:  2.3.0\n"
     ]
    }
   ],
   "source": [
    "print('Versión TensorFlow: ',tf.__version__)"
   ]
  },
  {
   "cell_type": "code",
   "execution_count": 8,
   "metadata": {},
   "outputs": [
    {
     "data": {
      "text/html": [
       "<div>\n",
       "<style scoped>\n",
       "    .dataframe tbody tr th:only-of-type {\n",
       "        vertical-align: middle;\n",
       "    }\n",
       "\n",
       "    .dataframe tbody tr th {\n",
       "        vertical-align: top;\n",
       "    }\n",
       "\n",
       "    .dataframe thead th {\n",
       "        text-align: right;\n",
       "    }\n",
       "</style>\n",
       "<table border=\"1\" class=\"dataframe\">\n",
       "  <thead>\n",
       "    <tr style=\"text-align: right;\">\n",
       "      <th></th>\n",
       "      <th>timestamp</th>\n",
       "      <th>dias</th>\n",
       "      <th>id</th>\n",
       "      <th>estado</th>\n",
       "      <th>tipo_estado</th>\n",
       "    </tr>\n",
       "  </thead>\n",
       "  <tbody>\n",
       "    <tr>\n",
       "      <th>0</th>\n",
       "      <td>1420071301</td>\n",
       "      <td>4</td>\n",
       "      <td>101</td>\n",
       "      <td>140</td>\n",
       "      <td>1</td>\n",
       "    </tr>\n",
       "    <tr>\n",
       "      <th>1</th>\n",
       "      <td>1420071301</td>\n",
       "      <td>4</td>\n",
       "      <td>103</td>\n",
       "      <td>35</td>\n",
       "      <td>1</td>\n",
       "    </tr>\n",
       "    <tr>\n",
       "      <th>2</th>\n",
       "      <td>1420071301</td>\n",
       "      <td>4</td>\n",
       "      <td>105</td>\n",
       "      <td>173</td>\n",
       "      <td>1</td>\n",
       "    </tr>\n",
       "    <tr>\n",
       "      <th>3</th>\n",
       "      <td>1420071301</td>\n",
       "      <td>4</td>\n",
       "      <td>107</td>\n",
       "      <td>120</td>\n",
       "      <td>1</td>\n",
       "    </tr>\n",
       "    <tr>\n",
       "      <th>4</th>\n",
       "      <td>1420071301</td>\n",
       "      <td>4</td>\n",
       "      <td>108</td>\n",
       "      <td>143</td>\n",
       "      <td>1</td>\n",
       "    </tr>\n",
       "  </tbody>\n",
       "</table>\n",
       "</div>"
      ],
      "text/plain": [
       "    timestamp  dias   id  estado  tipo_estado\n",
       "0  1420071301     4  101     140            1\n",
       "1  1420071301     4  103      35            1\n",
       "2  1420071301     4  105     173            1\n",
       "3  1420071301     4  107     120            1\n",
       "4  1420071301     4  108     143            1"
      ]
     },
     "execution_count": 8,
     "metadata": {},
     "output_type": "execute_result"
    }
   ],
   "source": [
    "dataNN = dataDL_section[['timestamp','dias', 'id','estado','tipo_estado']].copy()\n",
    "dataNN.head(5)"
   ]
  },
  {
   "cell_type": "code",
   "execution_count": 9,
   "metadata": {},
   "outputs": [
    {
     "data": {
      "text/plain": [
       "timestamp      int64\n",
       "dias           int64\n",
       "id             int64\n",
       "estado         int64\n",
       "tipo_estado    int64\n",
       "dtype: object"
      ]
     },
     "execution_count": 9,
     "metadata": {},
     "output_type": "execute_result"
    }
   ],
   "source": [
    "dataNN.dtypes"
   ]
  },
  {
   "cell_type": "code",
   "execution_count": 10,
   "metadata": {},
   "outputs": [],
   "source": [
    "X = dataNN[['timestamp','dias','id','estado']] # Features\n",
    "#X = dataNN[['timestamp','id','estado']]\n",
    "\n",
    "#Normalize data\n",
    "#preprocesador = make_column_transformer((['timestamp','dias','id','media'], OneHotEncoder()))\n",
    "#X = preprocesador.fit_transform(X)\n",
    "\n",
    "\n",
    "y = dataNN['tipo_estado'] # Target variable"
   ]
  },
  {
   "cell_type": "code",
   "execution_count": 11,
   "metadata": {},
   "outputs": [],
   "source": [
    "#División Train y Test\n",
    "X_train,X_test,y_train,y_test=train_test_split(X,y,test_size=0.25,random_state=1)"
   ]
  },
  {
   "cell_type": "code",
   "execution_count": 12,
   "metadata": {},
   "outputs": [
    {
     "name": "stdout",
     "output_type": "stream",
     "text": [
      "(8796979, 4) (2932327, 4) (8796979,) (2932327,)\n"
     ]
    }
   ],
   "source": [
    "print(X_train.shape, X_test.shape, y_train.shape, y_test.shape)"
   ]
  },
  {
   "cell_type": "code",
   "execution_count": 13,
   "metadata": {},
   "outputs": [
    {
     "name": "stdout",
     "output_type": "stream",
     "text": [
      "Entrenamiento:  (8796979, 4)\n",
      "Test:  (2932327, 4)\n"
     ]
    }
   ],
   "source": [
    "print('Entrenamiento: ',X_train.shape)\n",
    "print('Test: ', X_test.shape)"
   ]
  },
  {
   "cell_type": "code",
   "execution_count": 14,
   "metadata": {},
   "outputs": [],
   "source": [
    "from sklearn.preprocessing import StandardScaler\n",
    "\n",
    "# Define the scaler \n",
    "scaler = StandardScaler().fit(X_train)\n",
    "\n",
    "# Scale the train set\n",
    "X_train = scaler.transform(X_train)\n",
    "\n",
    "# Scale the test set\n",
    "X_test = scaler.transform(X_test)"
   ]
  },
  {
   "cell_type": "code",
   "execution_count": 15,
   "metadata": {},
   "outputs": [],
   "source": [
    "#determine the number of input features\n",
    "\n",
    "model = keras.Sequential()\n",
    "model.add(Dense(12, activation='relu', kernel_initializer='he_normal',input_dim=4)) #capa oculta\n",
    "model.add( Dropout(0.5) ) #avoid overfitting\n",
    "\n",
    "model.add(Dense(8,activation='relu', kernel_initializer='he_normal')) #capa oculta\n",
    "model.add( Dropout(0.5) )\n",
    "\n",
    "model.add(Dense(1,activation='sigmoid')) #capa salida\n",
    "model.add( Dropout(0.5) )"
   ]
  },
  {
   "cell_type": "code",
   "execution_count": 16,
   "metadata": {},
   "outputs": [
    {
     "name": "stdout",
     "output_type": "stream",
     "text": [
      "Model: \"sequential\"\n",
      "_________________________________________________________________\n",
      "Layer (type)                 Output Shape              Param #   \n",
      "=================================================================\n",
      "dense (Dense)                (None, 12)                60        \n",
      "_________________________________________________________________\n",
      "dropout (Dropout)            (None, 12)                0         \n",
      "_________________________________________________________________\n",
      "dense_1 (Dense)              (None, 8)                 104       \n",
      "_________________________________________________________________\n",
      "dropout_1 (Dropout)          (None, 8)                 0         \n",
      "_________________________________________________________________\n",
      "dense_2 (Dense)              (None, 1)                 9         \n",
      "_________________________________________________________________\n",
      "dropout_2 (Dropout)          (None, 1)                 0         \n",
      "=================================================================\n",
      "Total params: 173\n",
      "Trainable params: 173\n",
      "Non-trainable params: 0\n",
      "_________________________________________________________________\n"
     ]
    }
   ],
   "source": [
    "model.compile(optimizer='adam', loss='binary_crossentropy', metrics=['accuracy'])\n",
    "model.summary()"
   ]
  },
  {
   "cell_type": "code",
   "execution_count": 17,
   "metadata": {},
   "outputs": [
    {
     "name": "stdout",
     "output_type": "stream",
     "text": [
      "Epoch 1/20\n",
      "87970/87970 [==============================] - 80s 915us/step - loss: 7.7873 - accuracy: 0.2925 - val_loss: -3.4918 - val_accuracy: 0.5855\n",
      "Epoch 2/20\n",
      "87970/87970 [==============================] - 82s 927us/step - loss: 7.7627 - accuracy: 0.2927 - val_loss: -3.4918 - val_accuracy: 0.5855\n",
      "Epoch 3/20\n",
      "87970/87970 [==============================] - 82s 929us/step - loss: 7.7618 - accuracy: 0.2930 - val_loss: -3.4918 - val_accuracy: 0.5855\n",
      "Epoch 4/20\n",
      "87970/87970 [==============================] - 81s 915us/step - loss: 7.7804 - accuracy: 0.2929 - val_loss: -3.4918 - val_accuracy: 0.5855\n",
      "Epoch 5/20\n",
      "87970/87970 [==============================] - 80s 908us/step - loss: 7.7757 - accuracy: 0.2929 - val_loss: -3.5106 - val_accuracy: 0.5855\n",
      "Epoch 6/20\n",
      "87970/87970 [==============================] - 81s 923us/step - loss: 7.7543 - accuracy: 0.2928 - val_loss: -3.5106 - val_accuracy: 0.5855\n",
      "Epoch 7/20\n",
      "87970/87970 [==============================] - 81s 924us/step - loss: 7.7877 - accuracy: 0.2929 - val_loss: -3.5106 - val_accuracy: 0.5855\n",
      "Epoch 8/20\n",
      "87970/87970 [==============================] - 82s 929us/step - loss: 7.7700 - accuracy: 0.2928 - val_loss: -3.5106 - val_accuracy: 0.5855\n",
      "Epoch 9/20\n",
      "87970/87970 [==============================] - 83s 939us/step - loss: 7.7759 - accuracy: 0.2930 - val_loss: -3.5106 - val_accuracy: 0.5855\n",
      "Epoch 10/20\n",
      "87970/87970 [==============================] - 87s 990us/step - loss: 7.7783 - accuracy: 0.2929 - val_loss: -3.5106 - val_accuracy: 0.5855\n",
      "Epoch 11/20\n",
      "87970/87970 [==============================] - 83s 943us/step - loss: 7.7573 - accuracy: 0.2929 - val_loss: -3.5106 - val_accuracy: 0.5855\n",
      "Epoch 12/20\n",
      "87970/87970 [==============================] - 82s 929us/step - loss: 7.7651 - accuracy: 0.2929 - val_loss: -3.5106 - val_accuracy: 0.5855\n",
      "Epoch 13/20\n",
      "87970/87970 [==============================] - 81s 924us/step - loss: 7.7646 - accuracy: 0.2931 - val_loss: -3.5106 - val_accuracy: 0.5855\n",
      "Epoch 14/20\n",
      "87970/87970 [==============================] - 81s 924us/step - loss: 7.7678 - accuracy: 0.2928 - val_loss: -3.5106 - val_accuracy: 0.5855\n",
      "Epoch 15/20\n",
      "87970/87970 [==============================] - 82s 931us/step - loss: 7.7690 - accuracy: 0.2930 - val_loss: -3.5106 - val_accuracy: 0.5855\n",
      "Epoch 16/20\n",
      "87970/87970 [==============================] - 83s 945us/step - loss: 7.7670 - accuracy: 0.2930 - val_loss: -3.5106 - val_accuracy: 0.5855\n",
      "Epoch 17/20\n",
      "87970/87970 [==============================] - 83s 938us/step - loss: 7.7710 - accuracy: 0.2927 - val_loss: -3.5106 - val_accuracy: 0.5855\n",
      "Epoch 18/20\n",
      "87970/87970 [==============================] - 81s 923us/step - loss: 7.7709 - accuracy: 0.2927 - val_loss: -3.5106 - val_accuracy: 0.5855\n",
      "Epoch 19/20\n",
      "87970/87970 [==============================] - 83s 939us/step - loss: 7.7662 - accuracy: 0.2929 - val_loss: -3.5106 - val_accuracy: 0.5855\n",
      "Epoch 20/20\n",
      "87970/87970 [==============================] - 88s 999us/step - loss: 7.7767 - accuracy: 0.2929 - val_loss: -3.5106 - val_accuracy: 0.5855\n"
     ]
    },
    {
     "data": {
      "text/plain": [
       "<tensorflow.python.keras.callbacks.History at 0x13fb67b10>"
      ]
     },
     "execution_count": 17,
     "metadata": {},
     "output_type": "execute_result"
    }
   ],
   "source": [
    "history = model.fit(X_train, y_train, batch_size=100, epochs=20, verbose=1, shuffle=True,validation_data=(X_test, y_test)) #58.55\n",
    "\n",
    "#history = model.fit(X_train, y_train, batch_size=100, epochs=30, verbose=1, shuffle=True,\\\n",
    "                    #validation_data=(X_test, y_test)) #58.55\n",
    "history"
   ]
  },
  {
   "cell_type": "code",
   "execution_count": 18,
   "metadata": {},
   "outputs": [
    {
     "name": "stdout",
     "output_type": "stream",
     "text": [
      "Accuracy: 58.55\n"
     ]
    }
   ],
   "source": [
    "# evaluate the model\n",
    "loss, acc = model.evaluate(X_test, y_test,verbose=0)\n",
    "print('Accuracy: %.2f' % (acc*100))"
   ]
  },
  {
   "cell_type": "code",
   "execution_count": 21,
   "metadata": {},
   "outputs": [
    {
     "name": "stdout",
     "output_type": "stream",
     "text": [
      "[[0.9990119 ]\n",
      " [0.77611005]\n",
      " [0.99637955]\n",
      " ...\n",
      " [0.9675107 ]\n",
      " [0.77697325]\n",
      " [0.94267917]]\n"
     ]
    }
   ],
   "source": [
    "predictions = model.predict(X_test)\n",
    "print(predictions)\n",
    "#df_predNN = pd.DataFrame({'Actual': y_test, 'Predicción': predictions})\n",
    "#df_predNN.head(5)"
   ]
  },
  {
   "cell_type": "code",
   "execution_count": 23,
   "metadata": {},
   "outputs": [
    {
     "name": "stdout",
     "output_type": "stream",
     "text": [
      "1609491600\n",
      "Prediction:  1\n"
     ]
    }
   ],
   "source": [
    "#Comprobando Predicciones\n",
    "date_pred = '2021-01-01 10:00:00'\n",
    "date_p = datetime.strptime(date_pred, \"%Y-%m-%d %H:%M:%S\")\n",
    "timestamp = datetime.timestamp(date_p)\n",
    "print(int(timestamp))\n",
    "\n",
    "\n",
    "convert_date_time = int(timestamp)\n",
    "day_pred = 5\n",
    "id_pred = 10127\n",
    "estado = 3000\n",
    "abs_pred = ([[convert_date_time,day_pred,id_pred,estado]])\n",
    "new_pred = model.predict(abs_pred)\n",
    "print('Prediction: ',int(new_pred))"
   ]
  }
 ],
 "metadata": {
  "kernelspec": {
   "display_name": "Python 3",
   "language": "python",
   "name": "python3"
  },
  "language_info": {
   "codemirror_mode": {
    "name": "ipython",
    "version": 3
   },
   "file_extension": ".py",
   "mimetype": "text/x-python",
   "name": "python",
   "nbconvert_exporter": "python",
   "pygments_lexer": "ipython3",
   "version": "3.7.6"
  }
 },
 "nbformat": 4,
 "nbformat_minor": 2
}
